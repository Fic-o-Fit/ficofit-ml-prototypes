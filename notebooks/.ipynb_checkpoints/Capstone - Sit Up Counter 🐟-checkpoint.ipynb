{
 "cells": [
  {
   "cell_type": "code",
   "execution_count": 1,
   "id": "1aa9e84e",
   "metadata": {},
   "outputs": [],
   "source": [
    "#!pip install tensorflow opencv-python matplotlib sklearn gTTS ipython"
   ]
  },
  {
   "cell_type": "code",
   "execution_count": 2,
   "id": "83005088",
   "metadata": {},
   "outputs": [],
   "source": [
    "import tensorflow as tf\n",
    "import numpy as np\n",
    "import cv2\n",
    "from gtts import gTTS\n",
    "from IPython.display import Audio\n",
    "import threading\n",
    "import time\n",
    "import enum\n",
    "\n",
    "# Import matplotlib libraries\n",
    "from matplotlib import pyplot as plt\n",
    "from matplotlib.collections import LineCollection\n",
    "import matplotlib.patches as patches\n"
   ]
  },
  {
   "cell_type": "code",
   "execution_count": 3,
   "id": "be9449b6",
   "metadata": {},
   "outputs": [],
   "source": [
    "# model = tf.keras.models.load_model('pushup-counter-softmax.h5')\n",
    "# model = tf.keras.models.load_model('pushup-counter-with-reduced-landmark-and-sigmoid.h5')\n",
    "# model = tf.keras.models.load_model('pushup-counter-movenet.h5')"
   ]
  },
  {
   "cell_type": "code",
   "execution_count": 4,
   "id": "5234d6f1",
   "metadata": {},
   "outputs": [],
   "source": [
    "pushup_model_folder = 'models/pushup-model-31may22.tflite'\n",
    "pushup_model = tf.lite.Interpreter(model_path=pushup_model_folder)\n",
    "pushup_model.allocate_tensors()"
   ]
  },
  {
   "cell_type": "code",
   "execution_count": 5,
   "id": "d39943a7",
   "metadata": {},
   "outputs": [],
   "source": [
    "movenet_folder = 'models/movenet_lightning.tflite'\n",
    "movenet = tf.lite.Interpreter(model_path=movenet_folder)\n",
    "movenet.allocate_tensors()"
   ]
  },
  {
   "cell_type": "code",
   "execution_count": 6,
   "id": "580b7ba5",
   "metadata": {},
   "outputs": [],
   "source": [
    "# Source: the Movenet TFLite Documentation\n",
    "class BodyPart(enum.Enum):\n",
    "    \"\"\"Enum representing human body keypoints detected by pose estimation models.\"\"\"\n",
    "    NOSE = 0\n",
    "    LEFT_EYE = 1\n",
    "    RIGHT_EYE = 2\n",
    "    LEFT_EAR = 3\n",
    "    RIGHT_EAR = 4\n",
    "    LEFT_SHOULDER = 5\n",
    "    RIGHT_SHOULDER = 6\n",
    "    LEFT_ELBOW = 7\n",
    "    RIGHT_ELBOW = 8\n",
    "    LEFT_WRIST = 9\n",
    "    RIGHT_WRIST = 10\n",
    "    LEFT_HIP = 11\n",
    "    RIGHT_HIP = 12\n",
    "    LEFT_KNEE = 13\n",
    "    RIGHT_KNEE = 14\n",
    "    LEFT_ANKLE = 15\n",
    "    RIGHT_ANKLE = 16"
   ]
  },
  {
   "cell_type": "code",
   "execution_count": 7,
   "id": "025fcf74",
   "metadata": {},
   "outputs": [],
   "source": [
    "def processPose(image):\n",
    "    img = tf.image.resize_with_pad(np.expand_dims(image, axis=0), 192,192)\n",
    "    img = tf.cast(img, dtype=tf.float32)\n",
    "    input_details = movenet.get_input_details()\n",
    "    output_details = movenet.get_output_details()\n",
    "    movenet.set_tensor(input_details[0]['index'], np.array(img))\n",
    "    # Invoke inference.\n",
    "    movenet.invoke()\n",
    "    # Get the model prediction.\n",
    "    keypoints_with_scores = movenet.get_tensor(output_details[0]['index'])\n",
    "    keypoints = keypoints_with_scores.flatten().reshape(17,3)\n",
    "    fixed_keypoints = []\n",
    "    for [x, y, score] in keypoints:\n",
    "        if score < 0.2:\n",
    "            fixed_keypoints.append([0, 0, 0])\n",
    "        else:\n",
    "            fixed_keypoints.append([x, y, score])\n",
    "    return np.array(fixed_keypoints)"
   ]
  },
  {
   "cell_type": "code",
   "execution_count": 8,
   "id": "0ee42f5b",
   "metadata": {},
   "outputs": [],
   "source": [
    "def text_to_speech(sentence):\n",
    "    tts = gTTS(sentence) #Provide the string to convert to speech\n",
    "    sound_file = '1.wav'\n",
    "    tts.save(sound_file) #save the string converted to speech as a .wav file\n",
    "    display(Audio('1.wav', autoplay=True))"
   ]
  },
  {
   "cell_type": "code",
   "execution_count": 9,
   "id": "439e59d2",
   "metadata": {},
   "outputs": [],
   "source": [
    "def body_is_visible(keypoints):\n",
    "    keypoints = keypoints.reshape(17, 3)\n",
    "    # shoulder, elbow, wrist, hip, knee must be visible\n",
    "    important_bodyparts = [5, 7, 9, 11, 13] #this is only for the left part\n",
    "    for index in important_bodyparts:\n",
    "        if (keypoints[index][2] < 0.2) and (keypoints[index+1][2] < 0.2):  # one of the left and right bodypart needs to be seen\n",
    "            return False\n",
    "    return True"
   ]
  },
  {
   "cell_type": "code",
   "execution_count": 10,
   "id": "1bf0bff2",
   "metadata": {},
   "outputs": [],
   "source": [
    "def is_pushup(keypoints):\n",
    "    threshold = 0.9\n",
    "    keypoints = tf.cast(keypoints, dtype=tf.float32) # convert from float64 to float32\n",
    "    \n",
    "    input_details = pushup_model.get_input_details()\n",
    "    output_details = pushup_model.get_output_details()\n",
    "    pushup_model.set_tensor(input_details[0]['index'], keypoints)\n",
    "    # Invoke inference.\n",
    "    pushup_model.invoke()\n",
    "    # Get the model prediction.\n",
    "    \n",
    "    result = pushup_model.get_tensor(output_details[0]['index'])\n",
    "    status = np.argmax(result)\n",
    "    confidence = result[0][status]\n",
    "#     print(result)\n",
    "    \n",
    "    if ((result[0][1] > threshold) or (result[0][2] > threshold)) and body_is_visible(np.array(keypoints)):\n",
    "        return True\n",
    "    return False\n",
    "    \n",
    "#     if (status == 1) and (confidence > threshold) and body_is_visible(np.array(keypoints)):\n",
    "#         return True\n",
    "#     return False"
   ]
  },
  {
   "cell_type": "code",
   "execution_count": 11,
   "id": "8a3dbba4",
   "metadata": {},
   "outputs": [
    {
     "name": "stdout",
     "output_type": "stream",
     "text": [
      "0\n"
     ]
    }
   ],
   "source": [
    "print(BodyPart.NOSE.value)"
   ]
  },
  {
   "cell_type": "code",
   "execution_count": 12,
   "id": "8853dad7",
   "metadata": {},
   "outputs": [
    {
     "name": "stdout",
     "output_type": "stream",
     "text": [
      "True\n"
     ]
    }
   ],
   "source": [
    "# im just trying to test with static image first\n",
    "image = cv2.imread('008_139e64eb.jpg')\n",
    "keypoints = processPose(image).flatten().reshape(1, 51)\n",
    "\n",
    "print(is_pushup(keypoints))"
   ]
  },
  {
   "cell_type": "code",
   "execution_count": 13,
   "id": "101434d7",
   "metadata": {},
   "outputs": [],
   "source": [
    "def is_increasing(arr):\n",
    "    # this list will show if the majority of the elements are increasing\n",
    "    # from the previous element or not (True means it increased)\n",
    "    status = []\n",
    "    threshold = 0.8   # the minimum percentage of True status list element\n",
    "    for i in range(1, len(arr)):\n",
    "        if arr[i] > arr[i-1]:\n",
    "            status.append(True)\n",
    "        else:\n",
    "            status.append(False)\n",
    "    true_percentage = status.count(True) / (len(arr)-1)*1.0\n",
    "    if true_percentage >= threshold:\n",
    "        return True\n",
    "    else:\n",
    "        return False\n",
    "    \n",
    "\n",
    "def is_decreasing(arr):\n",
    "    # this list will show if the majority of the elements are decreasing\n",
    "    # from the previous element or not (True means it decreased)\n",
    "    status = []\n",
    "    threshold = 0.8   # the minimum percentage of True status list element\n",
    "    for i in range(1, len(arr)):\n",
    "        if arr[i] < arr[i-1]:\n",
    "            status.append(True)\n",
    "        else:\n",
    "            status.append(False)\n",
    "    true_percentage = status.count(True) / (len(arr)-1)*1.0\n",
    "    if true_percentage >= threshold:\n",
    "        return True\n",
    "    else:\n",
    "        return False"
   ]
  },
  {
   "cell_type": "code",
   "execution_count": 14,
   "id": "5d818295",
   "metadata": {},
   "outputs": [
    {
     "name": "stdout",
     "output_type": "stream",
     "text": [
      "True\n"
     ]
    },
    {
     "data": {
      "text/plain": [
       "range(1, 3)"
      ]
     },
     "execution_count": 14,
     "metadata": {},
     "output_type": "execute_result"
    }
   ],
   "source": [
    "print(is_decreasing([329, 324, 322]))\n",
    "range(1, len([329, 324, 322]))"
   ]
  },
  {
   "cell_type": "code",
   "execution_count": 15,
   "id": "a83f601d",
   "metadata": {},
   "outputs": [],
   "source": [
    "def calculate_angle(a,b,c):\n",
    "    a = np.array(a) # First\n",
    "    b = np.array(b) # Middle\n",
    "    c = np.array(c) # End\n",
    "    \n",
    "    radians = np.arctan2(c[1]-b[1], c[0]-b[0]) - np.arctan2(a[1]-b[1], a[0]-b[0])\n",
    "    angle = np.abs(radians*180.0/np.pi)\n",
    "    \n",
    "    if angle > 180.0:\n",
    "        angle = 360-angle\n",
    "        \n",
    "    return angle"
   ]
  },
  {
   "cell_type": "code",
   "execution_count": 16,
   "id": "5a6545ca",
   "metadata": {},
   "outputs": [],
   "source": [
    "#@title Helper functions for visualization\n",
    "\n",
    "# Dictionary that maps from joint names to keypoint indices.\n",
    "KEYPOINT_DICT = {\n",
    "    'nose': 0,\n",
    "    'left_eye': 1,\n",
    "    'right_eye': 2,\n",
    "    'left_ear': 3,\n",
    "    'right_ear': 4,\n",
    "    'left_shoulder': 5,\n",
    "    'right_shoulder': 6,\n",
    "    'left_elbow': 7,\n",
    "    'right_elbow': 8,\n",
    "    'left_wrist': 9,\n",
    "    'right_wrist': 10,\n",
    "    'left_hip': 11,\n",
    "    'right_hip': 12,\n",
    "    'left_knee': 13,\n",
    "    'right_knee': 14,\n",
    "    'left_ankle': 15,\n",
    "    'right_ankle': 16\n",
    "}\n",
    "\n",
    "# Maps bones to a matplotlib color name.\n",
    "KEYPOINT_EDGE_INDS_TO_COLOR = {\n",
    "    (0, 1): 'm',\n",
    "    (0, 2): 'c',\n",
    "    (1, 3): 'm',\n",
    "    (2, 4): 'c',\n",
    "    (0, 5): 'm',\n",
    "    (0, 6): 'c',\n",
    "    (5, 7): 'm',\n",
    "    (7, 9): 'm',\n",
    "    (6, 8): 'c',\n",
    "    (8, 10): 'c',\n",
    "    (5, 6): 'y',\n",
    "    (5, 11): 'm',\n",
    "    (6, 12): 'c',\n",
    "    (11, 12): 'y',\n",
    "    (11, 13): 'm',\n",
    "    (13, 15): 'm',\n",
    "    (12, 14): 'c',\n",
    "    (14, 16): 'c'\n",
    "}\n",
    "\n",
    "def _keypoints_and_edges_for_display(keypoints_with_scores,\n",
    "                                     height,\n",
    "                                     width,\n",
    "                                     keypoint_threshold=0.11):\n",
    "    \"\"\"Returns high confidence keypoints and edges for visualization.\n",
    "\n",
    "    Args:\n",
    "    keypoints_with_scores: A numpy array with shape [1, 1, 17, 3] representing\n",
    "      the keypoint coordinates and scores returned from the MoveNet model.\n",
    "    height: height of the image in pixels.\n",
    "    width: width of the image in pixels.\n",
    "    keypoint_threshold: minimum confidence score for a keypoint to be\n",
    "      visualized.\n",
    "\n",
    "    Returns:\n",
    "    A (keypoints_xy, edges_xy, edge_colors) containing:\n",
    "      * the coordinates of all keypoints of all detected entities;\n",
    "      * the coordinates of all skeleton edges of all detected entities;\n",
    "      * the colors in which the edges should be plotted.\n",
    "    \"\"\"\n",
    "    keypoints_all = []\n",
    "    keypoint_edges_all = []\n",
    "    edge_colors = []\n",
    "    num_instances, _, _, _ = keypoints_with_scores.shape\n",
    "    for idx in range(num_instances):\n",
    "        kpts_x = keypoints_with_scores[0, idx, :, 1]\n",
    "        kpts_y = keypoints_with_scores[0, idx, :, 0]\n",
    "        kpts_scores = keypoints_with_scores[0, idx, :, 2]\n",
    "        kpts_absolute_xy = np.stack(\n",
    "            [width * np.array(kpts_x), height * np.array(kpts_y)], axis=-1)\n",
    "        kpts_above_thresh_absolute = kpts_absolute_xy[\n",
    "            kpts_scores > keypoint_threshold, :]\n",
    "        keypoints_all.append(kpts_above_thresh_absolute)\n",
    "\n",
    "        for edge_pair, color in KEYPOINT_EDGE_INDS_TO_COLOR.items():\n",
    "            if (kpts_scores[edge_pair[0]] > keypoint_threshold and\n",
    "              kpts_scores[edge_pair[1]] > keypoint_threshold):\n",
    "                x_start = kpts_absolute_xy[edge_pair[0], 0]\n",
    "                y_start = kpts_absolute_xy[edge_pair[0], 1]\n",
    "                x_end = kpts_absolute_xy[edge_pair[1], 0]\n",
    "                y_end = kpts_absolute_xy[edge_pair[1], 1]\n",
    "                line_seg = np.array([[x_start, y_start], [x_end, y_end]])\n",
    "                keypoint_edges_all.append(line_seg)\n",
    "                edge_colors.append(color)\n",
    "    if keypoints_all:\n",
    "        keypoints_xy = np.concatenate(keypoints_all, axis=0)\n",
    "    else:\n",
    "        keypoints_xy = np.zeros((0, 17, 2))\n",
    "\n",
    "    if keypoint_edges_all:\n",
    "        edges_xy = np.stack(keypoint_edges_all, axis=0)\n",
    "    else:\n",
    "        edges_xy = np.zeros((0, 2, 2))\n",
    "    return keypoints_xy, edges_xy, edge_colors\n",
    "\n",
    "\n",
    "def draw_prediction_on_image(\n",
    "    image, keypoints_with_scores, crop_region=None, close_figure=False,\n",
    "    output_image_height=None):\n",
    "    \"\"\"Draws the keypoint predictions on image.\n",
    "\n",
    "    Args:\n",
    "    image: A numpy array with shape [height, width, channel] representing the\n",
    "      pixel values of the input image.\n",
    "    keypoints_with_scores: A numpy array with shape [1, 1, 17, 3] representing\n",
    "      the keypoint coordinates and scores returned from the MoveNet model.\n",
    "    crop_region: A dictionary that defines the coordinates of the bounding box\n",
    "      of the crop region in normalized coordinates (see the init_crop_region\n",
    "      function below for more detail). If provided, this function will also\n",
    "      draw the bounding box on the image.\n",
    "    output_image_height: An integer indicating the height of the output image.\n",
    "      Note that the image aspect ratio will be the same as the input image.\n",
    "\n",
    "    Returns:\n",
    "    A numpy array with shape [out_height, out_width, channel] representing the\n",
    "    image overlaid with keypoint predictions.\n",
    "    \"\"\"\n",
    "    height, width, channel = image.shape\n",
    "    aspect_ratio = float(width) / height\n",
    "    fig, ax = plt.subplots(figsize=(12 * aspect_ratio, 12))\n",
    "    # To remove the huge white borders\n",
    "    fig.tight_layout(pad=0)\n",
    "    ax.margins(0)\n",
    "    ax.set_yticklabels([])\n",
    "    ax.set_xticklabels([])\n",
    "    plt.axis('off')\n",
    "\n",
    "    im = ax.imshow(image)\n",
    "    line_segments = LineCollection([], linewidths=(4), linestyle='solid')\n",
    "    ax.add_collection(line_segments)\n",
    "    # Turn off tick labels\n",
    "    scat = ax.scatter([], [], s=60, color='#FF1493', zorder=3)\n",
    "\n",
    "    (keypoint_locs, keypoint_edges,\n",
    "    edge_colors) = _keypoints_and_edges_for_display(\n",
    "       keypoints_with_scores, height, width)\n",
    "\n",
    "    line_segments.set_segments(keypoint_edges)\n",
    "    line_segments.set_color(edge_colors)\n",
    "    if keypoint_edges.shape[0]:\n",
    "        line_segments.set_segments(keypoint_edges)\n",
    "        line_segments.set_color(edge_colors)\n",
    "    if keypoint_locs.shape[0]:\n",
    "        scat.set_offsets(keypoint_locs)\n",
    "\n",
    "    if crop_region is not None:\n",
    "        xmin = max(crop_region['x_min'] * width, 0.0)\n",
    "        ymin = max(crop_region['y_min'] * height, 0.0)\n",
    "        rec_width = min(crop_region['x_max'], 0.99) * width - xmin\n",
    "        rec_height = min(crop_region['y_max'], 0.99) * height - ymin\n",
    "        rect = patches.Rectangle(\n",
    "            (xmin,ymin),rec_width,rec_height,\n",
    "            linewidth=1,edgecolor='b',facecolor='none')\n",
    "        ax.add_patch(rect)\n",
    "\n",
    "    fig.canvas.draw()\n",
    "    image_from_plot = np.frombuffer(fig.canvas.tostring_rgb(), dtype=np.uint8)\n",
    "    image_from_plot = image_from_plot.reshape(\n",
    "      fig.canvas.get_width_height()[::-1] + (3,))\n",
    "    plt.close(fig)\n",
    "    if output_image_height is not None:\n",
    "        output_image_width = int(output_image_height / height * width)\n",
    "        image_from_plot = cv2.resize(\n",
    "            image_from_plot, dsize=(output_image_width, output_image_height),\n",
    "             interpolation=cv2.INTER_CUBIC)\n",
    "    return image_from_plot"
   ]
  },
  {
   "cell_type": "code",
   "execution_count": 17,
   "id": "d0098cbf",
   "metadata": {},
   "outputs": [],
   "source": [
    " def movenet_process(input_image):\n",
    "    input_image = tf.image.resize_with_pad(np.expand_dims(input_image, axis=0), 192,192)\n",
    "    input_image = tf.cast(input_image, dtype=tf.float32)\n",
    "    input_details = movenet.get_input_details()\n",
    "    output_details = movenet.get_output_details()\n",
    "    movenet.set_tensor(input_details[0]['index'], input_image.numpy())\n",
    "    # Invoke inference.\n",
    "    movenet.invoke()\n",
    "    # Get the model prediction.\n",
    "    keypoints_with_scores = movenet.get_tensor(output_details[0]['index'])\n",
    "    return keypoints_with_scores"
   ]
  },
  {
   "cell_type": "code",
   "execution_count": 21,
   "id": "5247fc33",
   "metadata": {},
   "outputs": [
    {
     "name": "stdout",
     "output_type": "stream",
     "text": [
      "*45 *44 *45 *46 *48 [45, 44, 45, 46, 48] **49 [44, 45, 46, 48, 49] up ***47 [45, 46, 48, 49, 47] *48 [46, 48, 49, 47, 48] *46 [48, 49, 47, 48, 46] *47 [49, 47, 48, 46, 47] *46 [47, 48, 46, 47, 46] **47 [48, 46, 47, 46, 47] *46 [46, 47, 46, 47, 46] *****45 [47, 46, 47, 46, 45] *46 [46, 47, 46, 45, 46] *******47 [47, 46, 45, 46, 47] ***48 [46, 45, 46, 47, 48] *47 [45, 46, 47, 48, 47] *48 [46, 47, 48, 47, 48] **47 [47, 48, 47, 48, 47] *****50 [48, 47, 48, 47, 50] *52 [47, 48, 47, 50, 52] *54 [48, 47, 50, 52, 54] *58 [47, 50, 52, 54, 58] up *60 [50, 52, 54, 58, 60] up ****61 [52, 54, 58, 60, 61] up **60 [54, 58, 60, 61, 60] ***59 [58, 60, 61, 60, 59] *58 [60, 61, 60, 59, 58] *56 [61, 60, 59, 58, 56] dw *54 [60, 59, 58, 56, 54] dw *49 [59, 58, 56, 54, 49] dw *48 [58, 56, 54, 49, 48] dw ***47 [56, 54, 49, 48, 47] dw *48 [54, 49, 48, 47, 48] ***49 [49, 48, 47, 48, 49] *50 [48, 47, 48, 49, 50] *52 [47, 48, 49, 50, 52] up 1\n",
      "*53 [48, 49, 50, 52, 53] up *55 [49, 50, 52, 53, 55] up "
     ]
    },
    {
     "data": {
      "text/html": [
       "\n",
       "                <audio  controls=\"controls\" autoplay=\"autoplay\">\n",
       "                    <source src=\"data:audio/wav;base64,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\" type=\"audio/wav\" />\n",
       "                    Your browser does not support the audio element.\n",
       "                </audio>\n",
       "              "
      ],
      "text/plain": [
       "<IPython.lib.display.Audio object>"
      ]
     },
     "metadata": {},
     "output_type": "display_data"
    },
    {
     "name": "stdout",
     "output_type": "stream",
     "text": [
      "*57 [50, 52, 53, 55, 57] up *58 [52, 53, 55, 57, 58] up *60 [53, 55, 57, 58, 60] up ***61 [55, 57, 58, 60, 61] up *60 [57, 58, 60, 61, 60] ****59 [58, 60, 61, 60, 59] *58 [60, 61, 60, 59, 58] *57 [61, 60, 59, 58, 57] dw *55 [60, 59, 58, 57, 55] dw *52 [59, 58, 57, 55, 52] dw *49 [58, 57, 55, 52, 49] dw *48 [57, 55, 52, 49, 48] dw **51 [55, 52, 49, 48, 51] *52 [52, 49, 48, 51, 52] *54 [49, 48, 51, 52, 54] *57 [48, 51, 52, 54, 57] up 2\n",
      "*58 [51, 52, 54, 57, 58] up "
     ]
    },
    {
     "data": {
      "text/html": [
       "\n",
       "                <audio  controls=\"controls\" autoplay=\"autoplay\">\n",
       "                    <source src=\"data:audio/wav;base64,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\" type=\"audio/wav\" />\n",
       "                    Your browser does not support the audio element.\n",
       "                </audio>\n",
       "              "
      ],
      "text/plain": [
       "<IPython.lib.display.Audio object>"
      ]
     },
     "metadata": {},
     "output_type": "display_data"
    },
    {
     "name": "stdout",
     "output_type": "stream",
     "text": [
      "*60 [52, 54, 57, 58, 60] up ******59 [54, 57, 58, 60, 59] *58 [57, 58, 60, 59, 58] **55 [58, 60, 59, 58, 55] *54 [60, 59, 58, 55, 54] dw *50 [59, 58, 55, 54, 50] dw **48 [58, 55, 54, 50, 48] dw ****49 [55, 54, 50, 48, 49] *50 [54, 50, 48, 49, 50] *54 [50, 48, 49, 50, 54] *56 [48, 49, 50, 54, 56] up 3\n",
      "**58 [49, 50, 54, 56, 58] up "
     ]
    },
    {
     "data": {
      "text/html": [
       "\n",
       "                <audio  controls=\"controls\" autoplay=\"autoplay\">\n",
       "                    <source src=\"data:audio/wav;base64,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\" type=\"audio/wav\" />\n",
       "                    Your browser does not support the audio element.\n",
       "                </audio>\n",
       "              "
      ],
      "text/plain": [
       "<IPython.lib.display.Audio object>"
      ]
     },
     "metadata": {},
     "output_type": "display_data"
    },
    {
     "name": "stdout",
     "output_type": "stream",
     "text": [
      "*60 [50, 54, 56, 58, 60] up *61 [54, 56, 58, 60, 61] up *****60 [56, 58, 60, 61, 60] *58 [58, 60, 61, 60, 58] *57 [60, 61, 60, 58, 57] *54 [61, 60, 58, 57, 54] dw *50 [60, 58, 57, 54, 50] dw **48 [58, 57, 54, 50, 48] dw *****49 [57, 54, 50, 48, 49] *53 [54, 50, 48, 49, 53] *58 [50, 48, 49, 53, 58] *60 [48, 49, 53, 58, 60] up 4\n"
     ]
    },
    {
     "data": {
      "text/html": [
       "\n",
       "                <audio  controls=\"controls\" autoplay=\"autoplay\">\n",
       "                    <source src=\"data:audio/wav;base64,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\" type=\"audio/wav\" />\n",
       "                    Your browser does not support the audio element.\n",
       "                </audio>\n",
       "              "
      ],
      "text/plain": [
       "<IPython.lib.display.Audio object>"
      ]
     },
     "metadata": {},
     "output_type": "display_data"
    },
    {
     "name": "stdout",
     "output_type": "stream",
     "text": [
      "*61 [49, 53, 58, 60, 61] up ***60 [53, 58, 60, 61, 60] **59 [58, 60, 61, 60, 59] *58 [60, 61, 60, 59, 58] *56 [61, 60, 59, 58, 56] dw *51 [60, 59, 58, 56, 51] dw *50 [59, 58, 56, 51, 50] dw *48 [58, 56, 51, 50, 48] dw ***49 [56, 51, 50, 48, 49] *48 [51, 50, 48, 49, 48] **50 [50, 48, 49, 48, 50] *51 [48, 49, 48, 50, 51] *54 [49, 48, 50, 51, 54] *56 [48, 50, 51, 54, 56] up 5\n",
      "*58 [50, 51, 54, 56, 58] up "
     ]
    },
    {
     "data": {
      "text/html": [
       "\n",
       "                <audio  controls=\"controls\" autoplay=\"autoplay\">\n",
       "                    <source src=\"data:audio/wav;base64,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\" type=\"audio/wav\" />\n",
       "                    Your browser does not support the audio element.\n",
       "                </audio>\n",
       "              "
      ],
      "text/plain": [
       "<IPython.lib.display.Audio object>"
      ]
     },
     "metadata": {},
     "output_type": "display_data"
    },
    {
     "name": "stdout",
     "output_type": "stream",
     "text": [
      "*59 [51, 54, 56, 58, 59] up *60 [54, 56, 58, 59, 60] up *61 [56, 58, 59, 60, 61] up ****60 [58, 59, 60, 61, 60] **59 [59, 60, 61, 60, 59] *58 [60, 61, 60, 59, 58] *56 [61, 60, 59, 58, 56] dw *51 [60, 59, 58, 56, 51] dw *50 [59, 58, 56, 51, 50] dw *48 [58, 56, 51, 50, 48] dw **49 [56, 51, 50, 48, 49] **48 [51, 50, 48, 49, 48] *50 [50, 48, 49, 48, 50] *51 [48, 49, 48, 50, 51] *52 [49, 48, 50, 51, 52] *55 [48, 50, 51, 52, 55] up 6\n",
      "*57 [50, 51, 52, 55, 57] up *58 [51, 52, 55, 57, 58] up "
     ]
    },
    {
     "data": {
      "text/html": [
       "\n",
       "                <audio  controls=\"controls\" autoplay=\"autoplay\">\n",
       "                    <source src=\"data:audio/wav;base64,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\" type=\"audio/wav\" />\n",
       "                    Your browser does not support the audio element.\n",
       "                </audio>\n",
       "              "
      ],
      "text/plain": [
       "<IPython.lib.display.Audio object>"
      ]
     },
     "metadata": {},
     "output_type": "display_data"
    },
    {
     "name": "stdout",
     "output_type": "stream",
     "text": [
      "*60 [52, 55, 57, 58, 60] up *61 [55, 57, 58, 60, 61] up *****60 [57, 58, 60, 61, 60] *58 [58, 60, 61, 60, 58] *57 [60, 61, 60, 58, 57] *55 [61, 60, 58, 57, 55] dw *52 [60, 58, 57, 55, 52] dw *49 [58, 57, 55, 52, 49] dw **48 [57, 55, 52, 49, 48] dw *47 [55, 52, 49, 48, 47] dw ***48 [52, 49, 48, 47, 48] *49 [49, 48, 47, 48, 49] *50 [48, 47, 48, 49, 50] *55 [47, 48, 49, 50, 55] up 7\n",
      "*58 [48, 49, 50, 55, 58] up *"
     ]
    },
    {
     "data": {
      "text/html": [
       "\n",
       "                <audio  controls=\"controls\" autoplay=\"autoplay\">\n",
       "                    <source src=\"data:audio/wav;base64,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\" type=\"audio/wav\" />\n",
       "                    Your browser does not support the audio element.\n",
       "                </audio>\n",
       "              "
      ],
      "text/plain": [
       "<IPython.lib.display.Audio object>"
      ]
     },
     "metadata": {},
     "output_type": "display_data"
    },
    {
     "name": "stdout",
     "output_type": "stream",
     "text": [
      "*60 [49, 50, 55, 58, 60] up *61 [50, 55, 58, 60, 61] up *****58 [55, 58, 60, 61, 58] *57 [58, 60, 61, 58, 57] *55 [60, 61, 58, 57, 55] *54 [61, 58, 57, 55, 54] dw *51 [58, 57, 55, 54, 51] dw *50 [57, 55, 54, 51, 50] dw *49 [55, 54, 51, 50, 49] dw *48 [54, 51, 50, 49, 48] dw ***49 [51, 50, 49, 48, 49] **50 [50, 49, 48, 49, 50] *55 [49, 48, 49, 50, 55] *58 [48, 49, 50, 55, 58] up 8\n",
      "*60 [49, 50, 55, 58, 60] up *61 [50, 55, 58, 60, 61] up "
     ]
    },
    {
     "data": {
      "text/html": [
       "\n",
       "                <audio  controls=\"controls\" autoplay=\"autoplay\">\n",
       "                    <source src=\"data:audio/wav;base64,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\" type=\"audio/wav\" />\n",
       "                    Your browser does not support the audio element.\n",
       "                </audio>\n",
       "              "
      ],
      "text/plain": [
       "<IPython.lib.display.Audio object>"
      ]
     },
     "metadata": {},
     "output_type": "display_data"
    },
    {
     "name": "stdout",
     "output_type": "stream",
     "text": [
      "****60 [55, 58, 60, 61, 60] *59 [58, 60, 61, 60, 59] *58 [60, 61, 60, 59, 58] *57 [61, 60, 59, 58, 57] dw *55 [60, 59, 58, 57, 55] dw *50 [59, 58, 57, 55, 50] dw *49 [58, 57, 55, 50, 49] dw **47 [57, 55, 50, 49, 47] dw ***48 [55, 50, 49, 47, 48] *49 [50, 49, 47, 48, 49] *51 [49, 47, 48, 49, 51] *54 [47, 48, 49, 51, 54] up 9\n",
      "*56 [48, 49, 51, 54, 56] up *57 [49, 51, 54, 56, 57] up *59 [51, 54, 56, 57, 59] up "
     ]
    },
    {
     "data": {
      "text/html": [
       "\n",
       "                <audio  controls=\"controls\" autoplay=\"autoplay\">\n",
       "                    <source src=\"data:audio/wav;base64,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\" type=\"audio/wav\" />\n",
       "                    Your browser does not support the audio element.\n",
       "                </audio>\n",
       "              "
      ],
      "text/plain": [
       "<IPython.lib.display.Audio object>"
      ]
     },
     "metadata": {},
     "output_type": "display_data"
    },
    {
     "name": "stdout",
     "output_type": "stream",
     "text": [
      "*61 [54, 56, 57, 59, 61] up ****59 [56, 57, 59, 61, 59] *58 [57, 59, 61, 59, 58] *57 [59, 61, 59, 58, 57] *55 [61, 59, 58, 57, 55] dw *52 [59, 58, 57, 55, 52] dw *50 [58, 57, 55, 52, 50] dw *49 [57, 55, 52, 50, 49] dw **47 [55, 52, 50, 49, 47] dw **48 [52, 50, 49, 47, 48] *49 [50, 49, 47, 48, 49] *50 [49, 47, 48, 49, 50] *55 [47, 48, 49, 50, 55] up 10\n"
     ]
    },
    {
     "data": {
      "text/html": [
       "\n",
       "                <audio  controls=\"controls\" autoplay=\"autoplay\">\n",
       "                    <source src=\"data:audio/wav;base64,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\" type=\"audio/wav\" />\n",
       "                    Your browser does not support the audio element.\n",
       "                </audio>\n",
       "              "
      ],
      "text/plain": [
       "<IPython.lib.display.Audio object>"
      ]
     },
     "metadata": {},
     "output_type": "display_data"
    },
    {
     "name": "stdout",
     "output_type": "stream",
     "text": [
      "*60 [48, 49, 50, 55, 60] up *61 [49, 50, 55, 60, 61] up **60 [50, 55, 60, 61, 60] *59 [55, 60, 61, 60, 59] *58 [60, 61, 60, 59, 58] *57 [61, 60, 59, 58, 57] dw *55 [60, 59, 58, 57, 55] dw *49 [59, 58, 57, 55, 49] dw *48 [58, 57, 55, 49, 48] dw *47 [57, 55, 49, 48, 47] dw ***48 [55, 49, 48, 47, 48] *49 [49, 48, 47, 48, 49] *51 [48, 47, 48, 49, 51] *54 [47, 48, 49, 51, 54] up 11\n"
     ]
    },
    {
     "data": {
      "text/html": [
       "\n",
       "                <audio  controls=\"controls\" autoplay=\"autoplay\">\n",
       "                    <source src=\"data:audio/wav;base64,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\" type=\"audio/wav\" />\n",
       "                    Your browser does not support the audio element.\n",
       "                </audio>\n",
       "              "
      ],
      "text/plain": [
       "<IPython.lib.display.Audio object>"
      ]
     },
     "metadata": {},
     "output_type": "display_data"
    },
    {
     "name": "stdout",
     "output_type": "stream",
     "text": [
      "*61 [48, 49, 51, 54, 61] up *62 [49, 51, 54, 61, 62] up **61 [51, 54, 61, 62, 61] *60 [54, 61, 62, 61, 60] *59 [61, 62, 61, 60, 59] "
     ]
    }
   ],
   "source": [
    "shoulder_height = 0\n",
    "history = []\n",
    "fail_count = 0\n",
    "pushup_count = 0\n",
    "num_frames_requirement = 5\n",
    "pushup_down_done = False\n",
    "\n",
    "cap = cv2.VideoCapture(\"tests/pushup-video-1x.mp4\")\n",
    "\n",
    "while cap.isOpened():\n",
    "    # Read feed\n",
    "    ret, frame = cap.read()\n",
    "    #frame = cv2.flip(frame, 1)\n",
    "    \n",
    "    if ret != True:\n",
    "        break\n",
    "\n",
    "    cv2.putText(frame, \"push up count:\"+str(pushup_count), (3,30), cv2.FONT_HERSHEY_SIMPLEX, 1, (255, 255, 255), 2, cv2.LINE_AA)\n",
    "\n",
    "    keypoints = processPose(frame).flatten().reshape(1, 51)\n",
    "    \n",
    "    if is_pushup(keypoints):\n",
    "        print(\"*\", end =\"\")\n",
    "        fail_count = 0\n",
    "        keypoints = keypoints.reshape(17, 3)\n",
    "        \n",
    "        if keypoints[BodyPart.NOSE.value][1] < keypoints[BodyPart.RIGHT_KNEE.value][1]: #bagian kanan di depan kamera\n",
    "            shoulder_y = keypoints[BodyPart.RIGHT_SHOULDER.value][0] # the y coordinate is in the first element\n",
    "        else:\n",
    "            shoulder_y = keypoints[BodyPart.LEFT_SHOULDER.value][0]     \n",
    "\n",
    "        head_height = shoulder_y \n",
    "        \n",
    "        head_height = int(head_height*100)\n",
    "        \n",
    "        if (len(history) == 0) or (head_height != history[-1]):\n",
    "            history.append(head_height)\n",
    "            print(head_height, end=\" \")\n",
    "            \n",
    "            if len(history) >= num_frames_requirement:\n",
    "                print(history[-num_frames_requirement:], end=\" \")\n",
    "                if is_decreasing(history[-num_frames_requirement:]):\n",
    "                    pushup_down_done = True\n",
    "                    print(\"dw\", end=\" \")\n",
    "                elif is_increasing(history[-num_frames_requirement:]):\n",
    "                    print(\"up\", end=\" \")\n",
    "                    if pushup_down_done:\n",
    "                        pushup_count += 1\n",
    "                        print(pushup_count)\n",
    "                        pushup_down_done = False\n",
    "                        cv2.putText(frame, \"push up count:\"+str(pushup_count), (3,30), cv2.FONT_HERSHEY_SIMPLEX, 1, (255, 255, 255), 2, cv2.LINE_AA)\n",
    "                        threading.Thread(target=text_to_speech, args=[str(pushup_count)+\" pushup\"]).start()\n",
    "        \n",
    "#     else:\n",
    "#         print(\"-\", end =\"\")\n",
    "#         fail_count += 1\n",
    "#         if fail_count > 100:\n",
    "#             history = []\n",
    "#             pushup_down_done = False\n",
    "\n",
    "    cv2.imshow('Frame', frame)\n",
    "\n",
    "    if cv2.waitKey(10) & 0xFF == ord('q'):\n",
    "        break\n",
    "cap.release()\n",
    "cv2.destroyAllWindows()"
   ]
  },
  {
   "cell_type": "code",
   "execution_count": 18,
   "id": "06787417",
   "metadata": {},
   "outputs": [],
   "source": [
    "# shoulder_height = 0\n",
    "# history = []\n",
    "# fail_count = 0\n",
    "# pushup_count = 0\n",
    "# num_frames_requirement = 5\n",
    "# pushup_down_done = False\n",
    "\n",
    "\n",
    "# cap = cv2.VideoCapture(\"tests/pushup-video-1x.mp4\")\n",
    "\n",
    "# while cap.isOpened():\n",
    "#     # Read feed\n",
    "#     ret, frame = cap.read()\n",
    "#     #frame = cv2.flip(frame, 1)\n",
    "    \n",
    "#     if ret != True:\n",
    "#         break\n",
    "#     status = False\n",
    "# #     cv2.putText(frame, \"push up count:\"+str(pushup_count), (3,30), cv2.FONT_HERSHEY_SIMPLEX, 1, (255, 255, 255), 2, cv2.LINE_AA)\n",
    "\n",
    "#     keypoints = processPose(frame).flatten().reshape(1, 51)\n",
    "    \n",
    "#     if is_pushup(keypoints):\n",
    "# #         print(\"*\", end =\"\")\n",
    "# #         fail_count = 0\n",
    "#         status = True\n",
    "#         keypoints = keypoints.reshape(17, 3)\n",
    "# #         print(keypoints[BodyPart.NOSE.value][1], end=\" \")\n",
    "# #         print(keypoints[BodyPart.RIGHT_KNEE.value][1])\n",
    "        \n",
    "#         if keypoints[BodyPart.NOSE.value][1] < keypoints[BodyPart.RIGHT_KNEE.value][1]: #badan bagian kanan ke arah kamera\n",
    "#             knee_xy = keypoints[BodyPart.RIGHT_KNEE.value][:2]\n",
    "#             shoulder_xy = keypoints[BodyPart.RIGHT_SHOULDER.value][:2]\n",
    "#             wrist_xy = keypoints[BodyPart.RIGHT_WRIST.value][:2]\n",
    "#             elbow_xy = keypoints[BodyPart.RIGHT_ELBOW.value][:2]\n",
    "#         else:\n",
    "#             knee_xy = keypoints[BodyPart.LEFT_KNEE.value][:2]\n",
    "#             shoulder_xy = keypoints[BodyPart.LEFT_SHOULDER.value][:2]\n",
    "#             wrist_xy = keypoints[BodyPart.LEFT_WRIST.value][:2]   \n",
    "#             elbow_xy = keypoints[BodyPart.LEFT_ELBOW.value][:2]\n",
    "\n",
    "#         angle = calculate_angle(shoulder_xy, elbow_xy, wrist_xy)\n",
    "#         cv2.putText(frame, \"angle:\"+str(int(angle)), (3,30), cv2.FONT_HERSHEY_SIMPLEX, 1, (255, 255, 255), 2, cv2.LINE_AA)\n",
    "# #         print(angle)\n",
    "        \n",
    "# #         if (len(history) == 0) or (head_height != history[-1]):\n",
    "# #             history.append(head_height)\n",
    "# #             print(head_height, end=\" \")\n",
    "            \n",
    "# #             if len(history) >= num_frames_requirement:\n",
    "# #                 print(history[-num_frames_requirement:], end=\" \")\n",
    "# #                 if is_decreasing(history[-num_frames_requirement:]):\n",
    "# #                     pushup_down_done = True\n",
    "# #                     print(\"dw\", end=\" \")\n",
    "# #                 elif is_increasing(history[-num_frames_requirement:]):\n",
    "# #                     print(\"up\", end=\" \")\n",
    "# #                     if pushup_down_done:\n",
    "# #                         pushup_count += 1\n",
    "# #                         print(pushup_count)\n",
    "# #                         pushup_down_done = False\n",
    "# #                         cv2.putText(frame, \"push up count:\"+str(pushup_count), (3,30), cv2.FONT_HERSHEY_SIMPLEX, 1, (255, 255, 255), 2, cv2.LINE_AA)\n",
    "# #                         threading.Thread(target=text_to_speech, args=[str(pushup_count)+\" pushup\"]).start()\n",
    "        \n",
    "# #     else:\n",
    "# #         print(\"-\", end =\"\")\n",
    "# #         fail_count += 1\n",
    "# #         if fail_count > 100:\n",
    "# #             history = []\n",
    "# #             pushup_down_done = False\n",
    "\n",
    "#     output = draw_prediction_on_image(frame, movenet_process(frame))\n",
    "#     cv2.imshow('Frame', output)\n",
    "# #     if(status):\n",
    "# #         time.sleep(0.5)\n",
    "    \n",
    "#     if cv2.waitKey(10) & 0xFF == ord('q'):\n",
    "#         break\n",
    "# cap.release()\n",
    "# cv2.destroyAllWindows()"
   ]
  },
  {
   "cell_type": "code",
   "execution_count": null,
   "id": "88231703",
   "metadata": {},
   "outputs": [],
   "source": []
  },
  {
   "cell_type": "code",
   "execution_count": null,
   "id": "91fb2a6f",
   "metadata": {},
   "outputs": [],
   "source": []
  }
 ],
 "metadata": {
  "kernelspec": {
   "display_name": "Python 3 (ipykernel)",
   "language": "python",
   "name": "python3"
  },
  "language_info": {
   "codemirror_mode": {
    "name": "ipython",
    "version": 3
   },
   "file_extension": ".py",
   "mimetype": "text/x-python",
   "name": "python",
   "nbconvert_exporter": "python",
   "pygments_lexer": "ipython3",
   "version": "3.9.7"
  }
 },
 "nbformat": 4,
 "nbformat_minor": 5
}
