{
 "cells": [
  {
   "cell_type": "markdown",
   "id": "5478fb6c",
   "metadata": {},
   "source": [
    "# Real Life Action Dino Game"
   ]
  },
  {
   "cell_type": "code",
   "execution_count": 1,
   "id": "f7fab0f2",
   "metadata": {},
   "outputs": [],
   "source": [
    "#!pip install pygame random2"
   ]
  },
  {
   "cell_type": "code",
   "execution_count": 2,
   "id": "8b12aaa2",
   "metadata": {},
   "outputs": [
    {
     "name": "stdout",
     "output_type": "stream",
     "text": [
      "pygame 2.1.2 (SDL 2.0.18, Python 3.9.7)\n",
      "Hello from the pygame community. https://www.pygame.org/contribute.html\n"
     ]
    }
   ],
   "source": [
    "import os\n",
    "import sys\n",
    "import pygame\n",
    "import random\n",
    "from pygame import *\n",
    "import enum"
   ]
  },
  {
   "cell_type": "code",
   "execution_count": 3,
   "id": "55a54880",
   "metadata": {},
   "outputs": [],
   "source": [
    "import tensorflow as tf\n",
    "import numpy as np\n",
    "import cv2"
   ]
  },
  {
   "cell_type": "code",
   "execution_count": 30,
   "id": "69b34bf9",
   "metadata": {},
   "outputs": [],
   "source": [
    "from gtts import gTTS\n",
    "from IPython.display import Audio\n",
    "from IPython.core.display import display\n",
    "import threading"
   ]
  },
  {
   "cell_type": "code",
   "execution_count": 5,
   "id": "35c911d1",
   "metadata": {},
   "outputs": [],
   "source": [
    "movenet_folder = 'models/movenet_lightning.tflite'\n",
    "interpreter = tf.lite.Interpreter(model_path=movenet_folder)\n",
    "interpreter.allocate_tensors()"
   ]
  },
  {
   "cell_type": "markdown",
   "id": "141c38d6",
   "metadata": {},
   "source": [
    "## Functions to Process Gestures"
   ]
  },
  {
   "cell_type": "code",
   "execution_count": 6,
   "id": "8622c23a",
   "metadata": {},
   "outputs": [],
   "source": [
    "# Source: the Movenet TFLite Documentation\n",
    "class BodyPart(enum.Enum):\n",
    "    \"\"\"Enum representing human body keypoints detected by pose estimation models.\"\"\"\n",
    "    NOSE = 0\n",
    "    LEFT_EYE = 1\n",
    "    RIGHT_EYE = 2\n",
    "    LEFT_EAR = 3\n",
    "    RIGHT_EAR = 4\n",
    "    LEFT_SHOULDER = 5\n",
    "    RIGHT_SHOULDER = 6\n",
    "    LEFT_ELBOW = 7\n",
    "    RIGHT_ELBOW = 8\n",
    "    LEFT_WRIST = 9\n",
    "    RIGHT_WRIST = 10\n",
    "    LEFT_HIP = 11\n",
    "    RIGHT_HIP = 12\n",
    "    LEFT_KNEE = 13\n",
    "    RIGHT_KNEE = 14\n",
    "    LEFT_ANKLE = 15\n",
    "    RIGHT_ANKLE = 16"
   ]
  },
  {
   "cell_type": "code",
   "execution_count": 7,
   "id": "7e65fadc",
   "metadata": {},
   "outputs": [],
   "source": [
    "def processPose(image):\n",
    "    img = tf.image.resize_with_pad(np.expand_dims(image, axis=0), 192,192)\n",
    "    img = tf.cast(img, dtype=tf.float32)\n",
    "    input_details = interpreter.get_input_details()\n",
    "    output_details = interpreter.get_output_details()\n",
    "    interpreter.set_tensor(input_details[0]['index'], np.array(img))\n",
    "    # Invoke inference.\n",
    "    interpreter.invoke()\n",
    "    # Get the model prediction.\n",
    "    keypoints_with_scores = interpreter.get_tensor(output_details[0]['index'])\n",
    "    keypoints = keypoints_with_scores.flatten().reshape(17,3)\n",
    "    fixed_keypoints = []\n",
    "    for [y, x, score] in keypoints:\n",
    "        if score < 0.2:\n",
    "            fixed_keypoints.append([0, 0, 0])\n",
    "        else:\n",
    "            fixed_keypoints.append([y, x, score])\n",
    "    return np.array(fixed_keypoints)"
   ]
  },
  {
   "cell_type": "code",
   "execution_count": 8,
   "id": "badd015f",
   "metadata": {},
   "outputs": [],
   "source": [
    "def calculate_angle(a,b,c):\n",
    "    a = np.array(a) # First\n",
    "    b = np.array(b) # Middle\n",
    "    c = np.array(c) # End\n",
    "    \n",
    "    radians = np.arctan2(c[1]-b[1], c[0]-b[0]) - np.arctan2(a[1]-b[1], a[0]-b[0])\n",
    "    angle = np.abs(radians*180.0/np.pi)\n",
    "    \n",
    "    if angle > 180.0:\n",
    "        angle = 360-angle\n",
    "        \n",
    "    return angle "
   ]
  },
  {
   "cell_type": "code",
   "execution_count": 31,
   "id": "8be46ac6",
   "metadata": {},
   "outputs": [],
   "source": [
    "def text_to_speech(sentence):\n",
    "    tts = gTTS(sentence) #Provide the string to convert to speech\n",
    "    sound_file = '2.wav'\n",
    "    tts.save(sound_file) #save the string converted to speech as a .wav file\n",
    "    display(IPython.display.Audio('2.wav', autoplay=True))"
   ]
  },
  {
   "cell_type": "code",
   "execution_count": 46,
   "id": "3abfbf0e",
   "metadata": {},
   "outputs": [],
   "source": [
    "def is_increasing(arr):\n",
    "    # this list will show if the majority of the elements are increasing\n",
    "    # from the previous element or not (True means it increased)\n",
    "    status = []\n",
    "    threshold = 0.8   # the minimum percentage of True status list element\n",
    "    for i in range(1, len(arr)):\n",
    "        if arr[i] < arr[i-1]:\n",
    "            status.append(True)\n",
    "        else:\n",
    "            status.append(False)\n",
    "    true_percentage = status.count(True) / (len(arr)-1)*1.0\n",
    "    if true_percentage >= threshold:\n",
    "        return True\n",
    "    else:\n",
    "        return False\n",
    "    \n",
    "\n",
    "def is_decreasing(arr):\n",
    "    # this list will show if the majority of the elements are decreasing\n",
    "    # from the previous element or not (True means it decreased)\n",
    "    status = []\n",
    "    threshold = 0.8   # the minimum percentage of True status list element\n",
    "    for i in range(1, len(arr)):\n",
    "        if arr[i] > arr[i-1]:\n",
    "            status.append(True)\n",
    "        else:\n",
    "            status.append(False)\n",
    "    true_percentage = status.count(True) / (len(arr)-1)*1.0\n",
    "    if true_percentage >= threshold:\n",
    "        return True\n",
    "    else:\n",
    "        return False"
   ]
  },
  {
   "cell_type": "code",
   "execution_count": 47,
   "id": "d386b591",
   "metadata": {},
   "outputs": [],
   "source": [
    "def is_jumping(keypoints_arr):\n",
    "    # if shoulder y displacement in the upwards direction \n",
    "    # is more than 1/3 of the torso length \n",
    "    # then it a jump will be detected\n",
    "    # after a detected jump occured, this function can't be called\n",
    "    # for the next 1 second (?)\n",
    "    start_shoulder_y = keypoints_arr[0][BodyPart.RIGHT_SHOULDER.value][0]\n",
    "    start_hip_y = keypoints_arr[0][BodyPart.RIGHT_HIP.value][0]\n",
    "    end_shoulder_y = keypoints_arr[len(keypoints_arr)-1][BodyPart.RIGHT_SHOULDER.value][0]\n",
    "    end_hip_y = keypoints_arr[len(keypoints_arr)-1][BodyPart.RIGHT_HIP.value][0]\n",
    "    \n",
    "    start_torso_length = -(start_shoulder_y - start_hip_y)\n",
    "    end_torso_length = -(end_shoulder_y - end_hip_y)\n",
    "    \n",
    "    # the y coordinate is the first element => [y, x, score]\n",
    "    right_shoulder_arr = []\n",
    "    for i in range(len(keypoints_arr)):\n",
    "        right_shoulder_arr.append(keypoints_arr[i][BodyPart.RIGHT_SHOULDER.value][0]) # y is the first element\n",
    "        \n",
    "    shoulder_displacement = -(end_shoulder_y - start_shoulder_y) #kalau posisi lbh tinggi nilai y nya lbh kecil\n",
    "#     if is_increasing(right_shoulder_arr):\n",
    "    if (shoulder_displacement >= start_torso_length*1/3 and \n",
    "            shoulder_displacement >= end_torso_length*1/3):\n",
    "        return True\n",
    "    return False\n",
    "    "
   ]
  },
  {
   "cell_type": "code",
   "execution_count": 12,
   "id": "630dcead",
   "metadata": {},
   "outputs": [],
   "source": [
    "def is_running(keypoints_arr):\n",
    "    left_knee_arr = []\n",
    "    right_knee_arr = []\n",
    "    for i in range(len(keypoints_arr)):\n",
    "        left_knee_arr.append(keypoints_arr[i][BodyPart.LEFT_KNEE.value][0]) # y is the first element\n",
    "        right_knee_arr.append(keypoints_arr[i][BodyPart.RIGHT_KNEE.value][0])\n",
    "    if ((is_increasing(left_knee_arr) and is_decreasing(right_knee_arr)) or \n",
    "            (is_decreasing(left_knee_arr) and is_increasing(right_knee_arr))):\n",
    "        return True\n",
    "    return False"
   ]
  },
  {
   "cell_type": "code",
   "execution_count": 13,
   "id": "153bb632",
   "metadata": {},
   "outputs": [
    {
     "data": {
      "text/plain": [
       "1"
      ]
     },
     "execution_count": 13,
     "metadata": {},
     "output_type": "execute_result"
    }
   ],
   "source": [
    "a = [[[0, 0, 0], [1, 2, 3]], [[1, 2, 1], [1, 2, 3]], [[2, 2, 2], [1, 2, 3]]]\n",
    "a[1][0][2]"
   ]
  },
  {
   "cell_type": "code",
   "execution_count": 14,
   "id": "203813a0",
   "metadata": {},
   "outputs": [],
   "source": [
    "def is_enough_visibility(keypoints):\n",
    "    threshold = 0.3\n",
    "    right_shoulder_score = keypoints[BodyPart.RIGHT_SHOULDER.value][2]\n",
    "    left_shoulder_score = keypoints[BodyPart.LEFT_SHOULDER.value][2]\n",
    "    right_knee_score = keypoints[BodyPart.RIGHT_KNEE.value][2]\n",
    "    left_knee_score = keypoints[BodyPart.LEFT_KNEE.value][2]\n",
    "    \n",
    "    if right_shoulder_score > threshold:\n",
    "        if left_shoulder_score > threshold:\n",
    "            if right_knee_score > threshold:\n",
    "                if left_knee_score > threshold:\n",
    "                    return True\n",
    "    return False"
   ]
  },
  {
   "cell_type": "code",
   "execution_count": 15,
   "id": "07a87f53",
   "metadata": {},
   "outputs": [],
   "source": [
    "def is_enough_visibility_for_namaste(keypoints):\n",
    "    threshold = 0.3\n",
    "    right_shoulder = keypoints[BodyPart.RIGHT_SHOULDER.value][2]\n",
    "    left_shoulder = keypoints[BodyPart.LEFT_SHOULDER.value][2]\n",
    "    right_elbow = keypoints[BodyPart.RIGHT_ELBOW.value][2]\n",
    "    left_elbow = keypoints[BodyPart.LEFT_ELBOW.value][2]\n",
    "    right_wrist = keypoints[BodyPart.RIGHT_WRIST.value][2]\n",
    "    left_wrist = keypoints[BodyPart.LEFT_WRIST.value][2]\n",
    "    \n",
    "    if right_shoulder > threshold:\n",
    "        if left_shoulder > threshold:\n",
    "            if right_elbow > threshold:\n",
    "                if left_elbow > threshold:\n",
    "                    if right_wrist > threshold:\n",
    "                        if left_wrist > threshold:\n",
    "                            return True\n",
    "    return False"
   ]
  },
  {
   "cell_type": "code",
   "execution_count": 16,
   "id": "e3951372",
   "metadata": {},
   "outputs": [],
   "source": [
    "def is_namaste(keypoints):\n",
    "    if not is_enough_visibility_for_namaste(keypoints):\n",
    "        return False\n",
    "    \n",
    "    right_shoulder = keypoints[BodyPart.RIGHT_SHOULDER.value][0:2]\n",
    "    left_shoulder = keypoints[BodyPart.LEFT_SHOULDER.value][0:2]\n",
    "    right_elbow = keypoints[BodyPart.RIGHT_ELBOW.value][0:2]\n",
    "    left_elbow = keypoints[BodyPart.LEFT_ELBOW.value][0:2]\n",
    "    right_wrist = keypoints[BodyPart.RIGHT_WRIST.value][0:2]\n",
    "    left_wrist = keypoints[BodyPart.LEFT_WRIST.value][0:2]\n",
    "    \n",
    "    right_shoulder_angle = calculate_angle(left_shoulder, right_shoulder, right_elbow)\n",
    "    left_shoulder_angle = calculate_angle(right_shoulder, left_shoulder, left_elbow)\n",
    "    right_elbow_angle = calculate_angle(right_shoulder, right_elbow, right_wrist)\n",
    "    left_elbow_angle = calculate_angle(left_shoulder, left_elbow, left_wrist)\n",
    "    \n",
    "    if left_wrist[1] < left_shoulder[1] and right_wrist[1] > right_shoulder[1]:\n",
    "        if (right_shoulder_angle > 100) and (left_shoulder_angle > 100):\n",
    "            if abs(right_shoulder_angle - left_shoulder_angle) < 10.0:\n",
    "                if (right_elbow_angle < 80) and (left_elbow_angle < 80) and (right_elbow_angle > 20) and (left_elbow_angle > 20):\n",
    "                    if abs(right_elbow_angle - left_elbow_angle) < 10.0:\n",
    "                        return True\n",
    "    return False"
   ]
  },
  {
   "cell_type": "code",
   "execution_count": 45,
   "id": "35deca75",
   "metadata": {},
   "outputs": [
    {
     "name": "stdout",
     "output_type": "stream",
     "text": [
      "0.7177653\n",
      "0.6738603\n",
      "0.49002048\n",
      "\n",
      "0.8099053\n",
      "0.27257538\n"
     ]
    }
   ],
   "source": [
    "image = cv2.imread('003_e63ed852-reversed.jpg')\n",
    "keypoints = processPose(image).flatten().reshape(17, 3)\n",
    "print(keypoints[BodyPart.LEFT_WRIST.value][1])\n",
    "print(keypoints[BodyPart.RIGHT_WRIST.value][0])\n",
    "print(keypoints[BodyPart.NOSE.value][0])\n",
    "print()\n",
    "print(keypoints[BodyPart.NOSE.value][1])\n",
    "print(keypoints[BodyPart.RIGHT_KNEE.value][1])"
   ]
  },
  {
   "cell_type": "code",
   "execution_count": 39,
   "id": "fd656546",
   "metadata": {},
   "outputs": [
    {
     "data": {
      "text/html": [
       "\n",
       "                <audio  controls=\"controls\" autoplay=\"autoplay\">\n",
       "                    <source src=\"data:audio/wav;base64,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\" type=\"audio/wav\" />\n",
       "                    Your browser does not support the audio element.\n",
       "                </audio>\n",
       "              "
      ],
      "text/plain": [
       "<IPython.lib.display.Audio object>"
      ]
     },
     "metadata": {},
     "output_type": "display_data"
    },
    {
     "data": {
      "text/html": [
       "\n",
       "                <audio  controls=\"controls\" autoplay=\"autoplay\">\n",
       "                    <source src=\"data:audio/wav;base64,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\" type=\"audio/wav\" />\n",
       "                    Your browser does not support the audio element.\n",
       "                </audio>\n",
       "              "
      ],
      "text/plain": [
       "<IPython.lib.display.Audio object>"
      ]
     },
     "metadata": {},
     "output_type": "display_data"
    },
    {
     "data": {
      "text/html": [
       "\n",
       "                <audio  controls=\"controls\" autoplay=\"autoplay\">\n",
       "                    <source src=\"data:audio/wav;base64,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\" type=\"audio/wav\" />\n",
       "                    Your browser does not support the audio element.\n",
       "                </audio>\n",
       "              "
      ],
      "text/plain": [
       "<IPython.lib.display.Audio object>"
      ]
     },
     "metadata": {},
     "output_type": "display_data"
    },
    {
     "data": {
      "text/html": [
       "\n",
       "                <audio  controls=\"controls\" autoplay=\"autoplay\">\n",
       "                    <source src=\"data:audio/wav;base64,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\" type=\"audio/wav\" />\n",
       "                    Your browser does not support the audio element.\n",
       "                </audio>\n",
       "              "
      ],
      "text/plain": [
       "<IPython.lib.display.Audio object>"
      ]
     },
     "metadata": {},
     "output_type": "display_data"
    },
    {
     "data": {
      "text/html": [
       "\n",
       "                <audio  controls=\"controls\" autoplay=\"autoplay\">\n",
       "                    <source src=\"data:audio/wav;base64,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\" type=\"audio/wav\" />\n",
       "                    Your browser does not support the audio element.\n",
       "                </audio>\n",
       "              "
      ],
      "text/plain": [
       "<IPython.lib.display.Audio object>"
      ]
     },
     "metadata": {},
     "output_type": "display_data"
    },
    {
     "data": {
      "text/html": [
       "\n",
       "                <audio  controls=\"controls\" autoplay=\"autoplay\">\n",
       "                    <source src=\"data:audio/wav;base64,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\" type=\"audio/wav\" />\n",
       "                    Your browser does not support the audio element.\n",
       "                </audio>\n",
       "              "
      ],
      "text/plain": [
       "<IPython.lib.display.Audio object>"
      ]
     },
     "metadata": {},
     "output_type": "display_data"
    },
    {
     "data": {
      "text/html": [
       "\n",
       "                <audio  controls=\"controls\" autoplay=\"autoplay\">\n",
       "                    <source src=\"data:audio/wav;base64,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\" type=\"audio/wav\" />\n",
       "                    Your browser does not support the audio element.\n",
       "                </audio>\n",
       "              "
      ],
      "text/plain": [
       "<IPython.lib.display.Audio object>"
      ]
     },
     "metadata": {},
     "output_type": "display_data"
    },
    {
     "data": {
      "text/html": [
       "\n",
       "                <audio  controls=\"controls\" autoplay=\"autoplay\">\n",
       "                    <source src=\"data:audio/wav;base64,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\" type=\"audio/wav\" />\n",
       "                    Your browser does not support the audio element.\n",
       "                </audio>\n",
       "              "
      ],
      "text/plain": [
       "<IPython.lib.display.Audio object>"
      ]
     },
     "metadata": {},
     "output_type": "display_data"
    },
    {
     "data": {
      "text/html": [
       "\n",
       "                <audio  controls=\"controls\" autoplay=\"autoplay\">\n",
       "                    <source src=\"data:audio/wav;base64,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\" type=\"audio/wav\" />\n",
       "                    Your browser does not support the audio element.\n",
       "                </audio>\n",
       "              "
      ],
      "text/plain": [
       "<IPython.lib.display.Audio object>"
      ]
     },
     "metadata": {},
     "output_type": "display_data"
    },
    {
     "data": {
      "text/html": [
       "\n",
       "                <audio  controls=\"controls\" autoplay=\"autoplay\">\n",
       "                    <source src=\"data:audio/wav;base64,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\" type=\"audio/wav\" />\n",
       "                    Your browser does not support the audio element.\n",
       "                </audio>\n",
       "              "
      ],
      "text/plain": [
       "<IPython.lib.display.Audio object>"
      ]
     },
     "metadata": {},
     "output_type": "display_data"
    },
    {
     "data": {
      "text/html": [
       "\n",
       "                <audio  controls=\"controls\" autoplay=\"autoplay\">\n",
       "                    <source src=\"data:audio/wav;base64,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\" type=\"audio/wav\" />\n",
       "                    Your browser does not support the audio element.\n",
       "                </audio>\n",
       "              "
      ],
      "text/plain": [
       "<IPython.lib.display.Audio object>"
      ]
     },
     "metadata": {},
     "output_type": "display_data"
    },
    {
     "data": {
      "text/html": [
       "\n",
       "                <audio  controls=\"controls\" autoplay=\"autoplay\">\n",
       "                    <source src=\"data:audio/wav;base64,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\" type=\"audio/wav\" />\n",
       "                    Your browser does not support the audio element.\n",
       "                </audio>\n",
       "              "
      ],
      "text/plain": [
       "<IPython.lib.display.Audio object>"
      ]
     },
     "metadata": {},
     "output_type": "display_data"
    },
    {
     "data": {
      "text/html": [
       "\n",
       "                <audio  controls=\"controls\" autoplay=\"autoplay\">\n",
       "                    <source src=\"data:audio/wav;base64,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\" type=\"audio/wav\" />\n",
       "                    Your browser does not support the audio element.\n",
       "                </audio>\n",
       "              "
      ],
      "text/plain": [
       "<IPython.lib.display.Audio object>"
      ]
     },
     "metadata": {},
     "output_type": "display_data"
    },
    {
     "data": {
      "text/html": [
       "\n",
       "                <audio  controls=\"controls\" autoplay=\"autoplay\">\n",
       "                    <source src=\"data:audio/wav;base64,//NExAARGEn0AHsMJD8Up3GKScuAFxyJoGDMkCRQ1Mg5MBioFB9nB8Hz59H//lwcBAEAQDHB8HAQBB0EAQBA5yYPggCBz///958HwfBwEAQDCj6nQURAUNI1L5pLXHuc//NExA4RWGIYAVoQAFcmDJXIJFKZqV2KWmq1M7wMsHsFEt0jQOl05WanwxJ7l1Obz/ODZ/b4gS6tX8+S8MaFJM1blO11RD8PIowQQzUPaNwfaPD6opnOHTCJrIU3siMS//NExBsX4x60AYg4ASNTyBNvso0UuYUExMXniM/5QRzDXMLCOJTEwWDYl/ycRCyIrxEEcoWIKRZP/z3O1zE5B7Tqojf/+tk99U7XPQ49nLkA5Rh/mARNf////889zj70//NExA4Vcdq4AcFAAXvSLYcQONIUQxGNCQ0OJ1o0pA5HjNX1lShYx2Vl5HtaNBK1dLFwyqkqpyBFMWmefKM6d/d2m37+rtsrfjaitj6oC5ZiKpYYWSD/vv/TyOjvVFnV//NExAsUkb60AAiMlE2CBgZVLY9IgAnCbwiMLOJD6zCLmEmiag5pxVzjJWoqZY7fs1n2fivnLoIhQiEzoKrQbGqUapmzELWMWaq30ga0idQBjyXlVTyAMkxkag9f5q0K//NExAsUaV6sAAlMlOhGEhUJCxrlGFHhB11AKEuaxutJMcVRta0etns8OxS49FPBEaEQMhbkB5YswSA0eM0QZcIrhyPJDl7twVblh7CIo9ASESyyj8xjZL7HQwsOpY28//NExAwTmPKcAMvecHwCOmkMxbcIByOosaCn1XS1Zz/PNsrcfYc8+dnoPQoHz5eOhDH2J9RsvYtYUaDV7U6+Vg0Gi0AuPSKg0o9bp3dIGTWKxXXx83cLL5IUOS7JkvKa//NExBAUeeaQAN4EmFBsPUvdLH/Xc0OLn4fmwgDagbLChNRikUXlOyooHZfK/neDhuLyk3N39f//////////+lNG8/h6RQ5/////WlQYILnPygEy8KJxNidfUKQEHDON//NExBEUGOaUAOYycE72hZFj29mwBq/P2woMpFe/HAvpWKX3rS8jxVX/SclYwq20v3SSxdktv/qnv/E+z//6nRd1Tob3f////TiokTXfNY0xmRsfgWwz8G+ysaNiaCg8//NExBMRWPKoANNecLZgDw+sT8Oa2ZidapprCTjMWsyDAAiO86bByDBcN3s2a/gRHzn//ygZl8WrNP/////9Suc3cSnEIyA14v0mUcxcRJoraxjMu/s7C46/gH1NvV0z//NExCAR6ZaoANPUlD/VYIoa25vgtjh3+lgLTp4UYBwhTUEsFolRTyB/b1///01lDvnanV3msazsjVGDm2a8n2C9bDl3GRBSa3iUfUbfye2P8RVFvO1OTlxgaYg6UNcX//NExCsR2QaoANPecOchuqnWGB7rMNjaScqGW6nYpsg8Gqv/uCwTC30q3jlVTHFmaNrKs4SYe4j+xi7hpKn7hEDOHWGBJqnUM5z+Ztw2NefRVeew+Thiw36zje4E+r3g//NExDYR8QqoAMvecE1qRGtSKJygLSpwYAv/4GWYrsO7pgIdeW2/hUEnZJKud1Hsw7hNLcZQoFA2pRDEuv15W/OWeEBxJzP8uY7xiq3L+Azem3sX4r/6b1TO21hlhxoO//NExEERIQ6kANYecKV//qqkwxT3BVJ780pApJHiVcUFHoMBypHYZhA25Q4ERsZw3EJ7424DjQU4ACpaNq5JSds29XX9907tzapFFRQO//5WlFiZEKVAFPuiJJzkhIYK//NExE8P8QqgANZWcKXNygD5QsGq2IvW40OP4T0RcHKWK3iIDYfxqjhAaNAIGRCs8vt6LqxjGYSMbGu///rsq/////pqkT2P2YauHA3IeE3i6A6gNinqDAEIy9HSTe2F//NExGIRkQqUANaKcAto7Kd6gzrPsDBPc+yZaqz6w7SV6XHVptFUnbdFBzqv/y576GFv/u///Rh8WIVxaVuhgNCQUQBCw8hVnCCcxOnM0DVqDAIEAMthsRhMaiTsEQDt//NExG4SKJqIANawTMALEbaNqKEgWC0XabIDgb3/2zCf/qkP8in////3rAKMqkEEpJAAj2qUP+aEsGmVKhG5NnYLkogBDpbkiWyXylU0QpdR9mNBwV1LAnNDJpdJJdES//NExHgRaIqEANbwTJ/1d6qggSHP9nSxKL/Ui//0///3PCBgeVqGJoLjTzwku0GRHTElLOCqpOUPhgU8ACm1CME1WQ/CVLc6cAYVynz5pGrA07lCMy/T7UsTf0o7gnIT//NExIUSoIJ4ANawSP73Gv57/////i9QiVVd7HwsrF/rqO2WgkbxIOxaUBUTHqe5Ru4+MDJMNgELONAhITV2dT6CzQfCrDeXlzubg+Jg2XWposjZUBBOp3ZTO/sob/////NExI0RmRp4ANPEcP//VSpmCPabxiqwxqKQTaPexNK9kyllbqjCamORAEJpOolJuh0qlPJZUt7g3zSzvcbrBk3e8yQi4mAgKFcKbLkAzZi17v6MlTLgClJsAqwEGMiQ//NExJkSWLJwANYeTJ6XCzn+jcHGUSkzDHFhEeIEaaELT10oiUkCMAvZwnM3uA4jGU6Jx6goFAxgUbC0aLtF+yUpJKd/ZVSUNFUtQhvFSfijeQ10kT2PZFqwDgg9novo//NExKIQ6L5kAMPeTKidy0acUfF5U07t/lERQkDMTQ3P//82aNOKPg15kFhciZ+sUJGh4q3BYXEZn0AyKNxYVkxBTUUzLjEwMKqqqqqqqqqqqqqqqqqqqqqqTEFNRTMu//NExLESaN4kAMPMcTEwMKqqqqqqqqqqqqqqqqqqqqqqqqqqqqqqqqqqqqqqqqqqqqqqqqqqqqqqqqqqqqqqqqqqqqqqqqqqqqqqqqqqqqqqqqqqqqqqqqqqTEFNRTMu//NExLoRsS14AHlMcDEwMKqqqqqqqqqqqqqqqqqqqqqqqqqqqqqqqqqqqqqqqqqqqqqqqqqqqqqqqqqqqqqqqqqqqqqqqqqqqqqqqqqqqqqqqqqqqqqqqqqqTEFNRTMu//NExKwAAANIAAAAADEwMKqqqqqqqqqqqqqqqqqqqqqqqqqqqqqqqqqqqqqqqqqqqqqqqqqqqqqqqqqqqqqqqqqqqqqqqqqqqqqqqqqqqqqqqqqqqqqqqqqqCgkcNDjA//NExKwAAANIAAAAALCCZ8f/+qsRkaOk//9TIyNHgYSKGHECwADsIyMjISKEjjCxAsJKZGRkbCRQw4gWIDxlVVVBiyQMss/0yqqoG//5FGLJAxX/7CFqowN//yKMWSBj//NExKwAAANIAAAAAL/7CFqowOoAAAAMChiEECAnR6gQQn/Xd3DixCF09EAwNzy3cAEE4GBi9AMW/u4GLCIPg/NLB99RyoExwIOB9xOCAJg+D4PvAHBMP4gPlAQh7BAE//NExKwAAANIAAAAAA/D8E3/BDxAcEAILB98aq2ZySIBAQFS6zN/qrAQEx1VVj/ZmaBgICFagIk9fY9WZm9mZVVVCgqdnsSgriY8JQVBUGgaBoGgZDRUFQVBp8GgZBUN//NExP8X0WjYADDGlXgq5mVO/KneVDSgZdiWTEFNRTMuMTAwqqqqqqqqqqqqqqqqqqqqqqqqqqqqqqqqqqqqqqqqqqqqqqqqqqqqqqqqqqqqqqqqqqqqqqqqTEFNRTMu//NExPIWQP3wAEjGcDEwMKqqqqqqqqqqqqqqqqqqqqqqqqqqqqqqqqqqqqqqqqqqqqqqqqqqqqqqqqqqqqqqqqqqqqqqqqqqqqqqqqqqqqqqqqqqqqqqqqqqqqqqqqqq//NExOwU8TnsADDGcKqqqqqqqqqqqqqqqqqqqqqqqqqqqqqqqqqqqqqqqqqqqqqqqqqqqqqqqqqqqqqqqqqqqqqqqqqqqqqqqqqqqqqqqqqqqqqqqqqqqqqqqqqqqqqq//NExKwAAANIAAAAAKqqqqqqqqqqqqqqqqqqqqqqqqqqqqqqqqqqqqqqqqqqqqqqqqqqqqqqqqqqqqqqqqqqqqqqqqqqqqqqqqqqqqqqqqqqqqqqqqqqqqqqqqqqqqqq\" type=\"audio/wav\" />\n",
       "                    Your browser does not support the audio element.\n",
       "                </audio>\n",
       "              "
      ],
      "text/plain": [
       "<IPython.lib.display.Audio object>"
      ]
     },
     "metadata": {},
     "output_type": "display_data"
    },
    {
     "data": {
      "text/html": [
       "\n",
       "                <audio  controls=\"controls\" autoplay=\"autoplay\">\n",
       "                    <source src=\"data:audio/wav;base64,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\" type=\"audio/wav\" />\n",
       "                    Your browser does not support the audio element.\n",
       "                </audio>\n",
       "              "
      ],
      "text/plain": [
       "<IPython.lib.display.Audio object>"
      ]
     },
     "metadata": {},
     "output_type": "display_data"
    },
    {
     "data": {
      "text/html": [
       "\n",
       "                <audio  controls=\"controls\" autoplay=\"autoplay\">\n",
       "                    <source src=\"data:audio/wav;base64,//NExAARGEn0AHsMJD8Up3GKScuAFxyJoGDMkCRQ1Mg5MBioFB9nB8Hz59H//lwcBAEAQDHB8HAQBB0EAQBA5yYPggCBz///958HwfBwEAQDCj6nQURAUNI1L5pLXHuc//NExA4RWGIYAVoQAFcmDJXIJFKZqV2KWmq1M7wMsHsFEt0jQOl05WanwxJ7l1Obz/ODZ/b4gS6tX8+S8MaFJM1blO11RD8PIowQQzUPaNwfaPD6opnOHTCJrIU3siMS//NExBsX4x60AYg4ASNTyBNvso0UuYUExMXniM/5QRzDXMLCOJTEwWDYl/ycRCyIrxEEcoWIKRZP/z3O1zE5B7Tqojf/+tk99U7XPQ49nLkA5Rh/mARNf////889zj70//NExA4Vcdq4AcFAAXvSLYcQONIUQxGNCQ0OJ1o0pA5HjNX1lShYx2Vl5HtaNBK1dLFwyqkqpyBFMWmefKM6d/d2m37+rtsrfjaitj6oC5ZiKpYYWSD/vv/TyOjvVFnV//NExAsUkb60AAiMlE2CBgZVLY9IgAnCbwiMLOJD6zCLmEmiag5pxVzjJWoqZY7fs1n2fivnLoIhQiEzoKrQbGqUapmzELWMWaq30ga0idQBjyXlVTyAMkxkag9f5q0K//NExAsUaV6sAAlMlOhGEhUJCxrlGFHhB11AKEuaxutJMcVRta0etns8OxS49FPBEaEQMhbkB5YswSA0eM0QZcIrhyPJDl7twVblh7CIo9ASESyyj8xjZL7HQwsOpY28//NExAwTmPKcAMvecHwCOmkMxbcIByOosaCn1XS1Zz/PNsrcfYc8+dnoPQoHz5eOhDH2J9RsvYtYUaDV7U6+Vg0Gi0AuPSKg0o9bp3dIGTWKxXXx83cLL5IUOS7JkvKa//NExBAUeeaQAN4EmFBsPUvdLH/Xc0OLn4fmwgDagbLChNRikUXlOyooHZfK/neDhuLyk3N39f//////////+lNG8/h6RQ5/////WlQYILnPygEy8KJxNidfUKQEHDON//NExBEUGOaUAOYycE72hZFj29mwBq/P2woMpFe/HAvpWKX3rS8jxVX/SclYwq20v3SSxdktv/qnv/E+z//6nRd1Tob3f////TiokTXfNY0xmRsfgWwz8G+ysaNiaCg8//NExBMRWPKoANNecLZgDw+sT8Oa2ZidapprCTjMWsyDAAiO86bByDBcN3s2a/gRHzn//ygZl8WrNP/////9Suc3cSnEIyA14v0mUcxcRJoraxjMu/s7C46/gH1NvV0z//NExCAR6ZaoANPUlD/VYIoa25vgtjh3+lgLTp4UYBwhTUEsFolRTyB/b1///01lDvnanV3msazsjVGDm2a8n2C9bDl3GRBSa3iUfUbfye2P8RVFvO1OTlxgaYg6UNcX//NExCsR2QaoANPecOchuqnWGB7rMNjaScqGW6nYpsg8Gqv/uCwTC30q3jlVTHFmaNrKs4SYe4j+xi7hpKn7hEDOHWGBJqnUM5z+Ztw2NefRVeew+Thiw36zje4E+r3g//NExDYR8QqoAMvecE1qRGtSKJygLSpwYAv/4GWYrsO7pgIdeW2/hUEnZJKud1Hsw7hNLcZQoFA2pRDEuv15W/OWeEBxJzP8uY7xiq3L+Azem3sX4r/6b1TO21hlhxoO//NExEERIQ6kANYecKV//qqkwxT3BVJ780pApJHiVcUFHoMBypHYZhA25Q4ERsZw3EJ7424DjQU4ACpaNq5JSds29XX9907tzapFFRQO//5WlFiZEKVAFPuiJJzkhIYK//NExE8P8QqgANZWcKXNygD5QsGq2IvW40OP4T0RcHKWK3iIDYfxqjhAaNAIGRCs8vt6LqxjGYSMbGu///rsq/////pqkT2P2YauHA3IeE3i6A6gNinqDAEIy9HSTe2F//NExGIRkQqUANaKcAto7Kd6gzrPsDBPc+yZaqz6w7SV6XHVptFUnbdFBzqv/y576GFv/u///Rh8WIVxaVuhgNCQUQBCw8hVnCCcxOnM0DVqDAIEAMthsRhMaiTsEQDt//NExG4SKJqIANawTMALEbaNqKEgWC0XabIDgb3/2zCf/qkP8in////3rAKMqkEEpJAAj2qUP+aEsGmVKhG5NnYLkogBDpbkiWyXylU0QpdR9mNBwV1LAnNDJpdJJdES//NExHgRaIqEANbwTJ/1d6qggSHP9nSxKL/Ui//0///3PCBgeVqGJoLjTzwku0GRHTElLOCqpOUPhgU8ACm1CME1WQ/CVLc6cAYVynz5pGrA07lCMy/T7UsTf0o7gnIT//NExIUSoIJ4ANawSP73Gv57/////i9QiVVd7HwsrF/rqO2WgkbxIOxaUBUTHqe5Ru4+MDJMNgELONAhITV2dT6CzQfCrDeXlzubg+Jg2XWposjZUBBOp3ZTO/sob/////NExI0RmRp4ANPEcP//VSpmCPabxiqwxqKQTaPexNK9kyllbqjCamORAEJpOolJuh0qlPJZUt7g3zSzvcbrBk3e8yQi4mAgKFcKbLkAzZi17v6MlTLgClJsAqwEGMiQ//NExJkSWLJwANYeTJ6XCzn+jcHGUSkzDHFhEeIEaaELT10oiUkCMAvZwnM3uA4jGU6Jx6goFAxgUbC0aLtF+yUpJKd/ZVSUNFUtQhvFSfijeQ10kT2PZFqwDgg9novo//NExKIQ6L5kAMPeTKidy0acUfF5U07t/lERQkDMTQ3P//82aNOKPg15kFhciZ+sUJGh4q3BYXEZn0AyKNxYVkxBTUUzLjEwMKqqqqqqqqqqqqqqqqqqqqqqTEFNRTMu//NExLESaN4kAMPMcTEwMKqqqqqqqqqqqqqqqqqqqqqqqqqqqqqqqqqqqqqqqqqqqqqqqqqqqqqqqqqqqqqqqqqqqqqqqqqqqqqqqqqqqqqqqqqqqqqqqqqqTEFNRTMu//NExLoRsS14AHlMcDEwMKqqqqqqqqqqqqqqqqqqqqqqqqqqqqqqqqqqqqqqqqqqqqqqqqqqqqqqqqqqqqqqqqqqqqqqqqqqqqqqqqqqqqqqqqqqqqqqqqqqTEFNRTMu//NExKwAAANIAAAAADEwMKqqqqqqqqqqqqqqqqqqqqqqqqqqqqqqqqqqqqqqqqqqqqqqqqqqqqqqqqqqqqqqqqqqqqqqqqqqqqqqqqqqqqqqqqqqqqqqqqqqCgkcNDjA//NExKwAAANIAAAAALCCZ8f/+qsRkaOk//9TIyNHgYSKGHECwADsIyMjISKEjjCxAsJKZGRkbCRQw4gWIDxlVVVBiyQMss/0yqqoG//5FGLJAxX/7CFqowN//yKMWSBj//NExKwAAANIAAAAAL/7CFqowOoAAAAMChiEECAnR6gQQn/Xd3DixCF09EAwNzy3cAEE4GBi9AMW/u4GLCIPg/NLB99RyoExwIOB9xOCAJg+D4PvAHBMP4gPlAQh7BAE//NExKwAAANIAAAAAA/D8E3/BDxAcEAILB98aq2ZySIBAQFS6zN/qrAQEx1VVj/ZmaBgICFagIk9fY9WZm9mZVVVCgqdnsSgriY8JQVBUGgaBoGgZDRUFQVBp8GgZBUN//NExP8X0WjYADDGlXgq5mVO/KneVDSgZdiWTEFNRTMuMTAwqqqqqqqqqqqqqqqqqqqqqqqqqqqqqqqqqqqqqqqqqqqqqqqqqqqqqqqqqqqqqqqqqqqqqqqqTEFNRTMu//NExPIWQP3wAEjGcDEwMKqqqqqqqqqqqqqqqqqqqqqqqqqqqqqqqqqqqqqqqqqqqqqqqqqqqqqqqqqqqqqqqqqqqqqqqqqqqqqqqqqqqqqqqqqqqqqqqqqqqqqqqqqq//NExOwU8TnsADDGcKqqqqqqqqqqqqqqqqqqqqqqqqqqqqqqqqqqqqqqqqqqqqqqqqqqqqqqqqqqqqqqqqqqqqqqqqqqqqqqqqqqqqqqqqqqqqqqqqqqqqqqqqqqqqqq//NExKwAAANIAAAAAKqqqqqqqqqqqqqqqqqqqqqqqqqqqqqqqqqqqqqqqqqqqqqqqqqqqqqqqqqqqqqqqqqqqqqqqqqqqqqqqqqqqqqqqqqqqqqqqqqqqqqqqqqqqqqq\" type=\"audio/wav\" />\n",
       "                    Your browser does not support the audio element.\n",
       "                </audio>\n",
       "              "
      ],
      "text/plain": [
       "<IPython.lib.display.Audio object>"
      ]
     },
     "metadata": {},
     "output_type": "display_data"
    },
    {
     "data": {
      "text/html": [
       "\n",
       "                <audio  controls=\"controls\" autoplay=\"autoplay\">\n",
       "                    <source src=\"data:audio/wav;base64,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\" type=\"audio/wav\" />\n",
       "                    Your browser does not support the audio element.\n",
       "                </audio>\n",
       "              "
      ],
      "text/plain": [
       "<IPython.lib.display.Audio object>"
      ]
     },
     "metadata": {},
     "output_type": "display_data"
    },
    {
     "data": {
      "text/html": [
       "\n",
       "                <audio  controls=\"controls\" autoplay=\"autoplay\">\n",
       "                    <source src=\"data:audio/wav;base64,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\" type=\"audio/wav\" />\n",
       "                    Your browser does not support the audio element.\n",
       "                </audio>\n",
       "              "
      ],
      "text/plain": [
       "<IPython.lib.display.Audio object>"
      ]
     },
     "metadata": {},
     "output_type": "display_data"
    },
    {
     "data": {
      "text/html": [
       "\n",
       "                <audio  controls=\"controls\" autoplay=\"autoplay\">\n",
       "                    <source src=\"data:audio/wav;base64,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\" type=\"audio/wav\" />\n",
       "                    Your browser does not support the audio element.\n",
       "                </audio>\n",
       "              "
      ],
      "text/plain": [
       "<IPython.lib.display.Audio object>"
      ]
     },
     "metadata": {},
     "output_type": "display_data"
    },
    {
     "data": {
      "text/html": [
       "\n",
       "                <audio  controls=\"controls\" autoplay=\"autoplay\">\n",
       "                    <source src=\"data:audio/wav;base64,//NExAARGEn0AHsMJD8Up3GKScuAFxyJoGDMkCRQ1Mg5MBioFB9nB8Hz59H//lwcBAEAQDHB8HAQBB0EAQBA5yYPggCBz///958HwfBwEAQDCj6nQURAUNI1L5pLXHuc//NExA4RWGIYAVoQAFcmDJXIJFKZqV2KWmq1M7wMsHsFEt0jQOl05WanwxJ7l1Obz/ODZ/b4gS6tX8+S8MaFJM1blO11RD8PIowQQzUPaNwfaPD6opnOHTCJrIU3siMS//NExBsX4x60AYg4ASNTyBNvso0UuYUExMXniM/5QRzDXMLCOJTEwWDYl/ycRCyIrxEEcoWIKRZP/z3O1zE5B7Tqojf/+tk99U7XPQ49nLkA5Rh/mARNf////889zj70//NExA4Vcdq4AcFAAXvSLYcQONIUQxGNCQ0OJ1o0pA5HjNX1lShYx2Vl5HtaNBK1dLFwyqkqpyBFMWmefKM6d/d2m37+rtsrfjaitj6oC5ZiKpYYWSD/vv/TyOjvVFnV//NExAsUkb60AAiMlE2CBgZVLY9IgAnCbwiMLOJD6zCLmEmiag5pxVzjJWoqZY7fs1n2fivnLoIhQiEzoKrQbGqUapmzELWMWaq30ga0idQBjyXlVTyAMkxkag9f5q0K//NExAsUaV6sAAlMlOhGEhUJCxrlGFHhB11AKEuaxutJMcVRta0etns8OxS49FPBEaEQMhbkB5YswSA0eM0QZcIrhyPJDl7twVblh7CIo9ASESyyj8xjZL7HQwsOpY28//NExAwTmPKcAMvecHwCOmkMxbcIByOosaCn1XS1Zz/PNsrcfYc8+dnoPQoHz5eOhDH2J9RsvYtYUaDV7U6+Vg0Gi0AuPSKg0o9bp3dIGTWKxXXx83cLL5IUOS7JkvKa//NExBAUeeaQAN4EmFBsPUvdLH/Xc0OLn4fmwgDagbLChNRikUXlOyooHZfK/neDhuLyk3N39f//////////+lNG8/h6RQ5/////WlQYILnPygEy8KJxNidfUKQEHDON//NExBEUGOaUAOYycE72hZFj29mwBq/P2woMpFe/HAvpWKX3rS8jxVX/SclYwq20v3SSxdktv/qnv/E+z//6nRd1Tob3f////TiokTXfNY0xmRsfgWwz8G+ysaNiaCg8//NExBMRWPKoANNecLZgDw+sT8Oa2ZidapprCTjMWsyDAAiO86bByDBcN3s2a/gRHzn//ygZl8WrNP/////9Suc3cSnEIyA14v0mUcxcRJoraxjMu/s7C46/gH1NvV0z//NExCAR6ZaoANPUlD/VYIoa25vgtjh3+lgLTp4UYBwhTUEsFolRTyB/b1///01lDvnanV3msazsjVGDm2a8n2C9bDl3GRBSa3iUfUbfye2P8RVFvO1OTlxgaYg6UNcX//NExCsR2QaoANPecOchuqnWGB7rMNjaScqGW6nYpsg8Gqv/uCwTC30q3jlVTHFmaNrKs4SYe4j+xi7hpKn7hEDOHWGBJqnUM5z+Ztw2NefRVeew+Thiw36zje4E+r3g//NExDYR8QqoAMvecE1qRGtSKJygLSpwYAv/4GWYrsO7pgIdeW2/hUEnZJKud1Hsw7hNLcZQoFA2pRDEuv15W/OWeEBxJzP8uY7xiq3L+Azem3sX4r/6b1TO21hlhxoO//NExEERIQ6kANYecKV//qqkwxT3BVJ780pApJHiVcUFHoMBypHYZhA25Q4ERsZw3EJ7424DjQU4ACpaNq5JSds29XX9907tzapFFRQO//5WlFiZEKVAFPuiJJzkhIYK//NExE8P8QqgANZWcKXNygD5QsGq2IvW40OP4T0RcHKWK3iIDYfxqjhAaNAIGRCs8vt6LqxjGYSMbGu///rsq/////pqkT2P2YauHA3IeE3i6A6gNinqDAEIy9HSTe2F//NExGIRkQqUANaKcAto7Kd6gzrPsDBPc+yZaqz6w7SV6XHVptFUnbdFBzqv/y576GFv/u///Rh8WIVxaVuhgNCQUQBCw8hVnCCcxOnM0DVqDAIEAMthsRhMaiTsEQDt//NExG4SKJqIANawTMALEbaNqKEgWC0XabIDgb3/2zCf/qkP8in////3rAKMqkEEpJAAj2qUP+aEsGmVKhG5NnYLkogBDpbkiWyXylU0QpdR9mNBwV1LAnNDJpdJJdES//NExHgRaIqEANbwTJ/1d6qggSHP9nSxKL/Ui//0///3PCBgeVqGJoLjTzwku0GRHTElLOCqpOUPhgU8ACm1CME1WQ/CVLc6cAYVynz5pGrA07lCMy/T7UsTf0o7gnIT//NExIUSoIJ4ANawSP73Gv57/////i9QiVVd7HwsrF/rqO2WgkbxIOxaUBUTHqe5Ru4+MDJMNgELONAhITV2dT6CzQfCrDeXlzubg+Jg2XWposjZUBBOp3ZTO/sob/////NExI0RmRp4ANPEcP//VSpmCPabxiqwxqKQTaPexNK9kyllbqjCamORAEJpOolJuh0qlPJZUt7g3zSzvcbrBk3e8yQi4mAgKFcKbLkAzZi17v6MlTLgClJsAqwEGMiQ//NExJkSWLJwANYeTJ6XCzn+jcHGUSkzDHFhEeIEaaELT10oiUkCMAvZwnM3uA4jGU6Jx6goFAxgUbC0aLtF+yUpJKd/ZVSUNFUtQhvFSfijeQ10kT2PZFqwDgg9novo//NExKIQ6L5kAMPeTKidy0acUfF5U07t/lERQkDMTQ3P//82aNOKPg15kFhciZ+sUJGh4q3BYXEZn0AyKNxYVkxBTUUzLjEwMKqqqqqqqqqqqqqqqqqqqqqqTEFNRTMu//NExLESaN4kAMPMcTEwMKqqqqqqqqqqqqqqqqqqqqqqqqqqqqqqqqqqqqqqqqqqqqqqqqqqqqqqqqqqqqqqqqqqqqqqqqqqqqqqqqqqqqqqqqqqqqqqqqqqTEFNRTMu//NExLoRsS14AHlMcDEwMKqqqqqqqqqqqqqqqqqqqqqqqqqqqqqqqqqqqqqqqqqqqqqqqqqqqqqqqqqqqqqqqqqqqqqqqqqqqqqqqqqqqqqqqqqqqqqqqqqqTEFNRTMu//NExKwAAANIAAAAADEwMKqqqqqqqqqqqqqqqqqqqqqqqqqqqqqqqqqqqqqqqqqqqqqqqqqqqqqqqqqqqqqqqqqqqqqqqqqqqqqqqqqqqqqqqqqqqqqqqqqqCgkcNDjA//NExKwAAANIAAAAALCCZ8f/+qsRkaOk//9TIyNHgYSKGHECwADsIyMjISKEjjCxAsJKZGRkbCRQw4gWIDxlVVVBiyQMss/0yqqoG//5FGLJAxX/7CFqowN//yKMWSBj//NExKwAAANIAAAAAL/7CFqowOoAAAAMChiEECAnR6gQQn/Xd3DixCF09EAwNzy3cAEE4GBi9AMW/u4GLCIPg/NLB99RyoExwIOB9xOCAJg+D4PvAHBMP4gPlAQh7BAE//NExKwAAANIAAAAAA/D8E3/BDxAcEAILB98aq2ZySIBAQFS6zN/qrAQEx1VVj/ZmaBgICFagIk9fY9WZm9mZVVVCgqdnsSgriY8JQVBUGgaBoGgZDRUFQVBp8GgZBUN//NExP8X0WjYADDGlXgq5mVO/KneVDSgZdiWTEFNRTMuMTAwqqqqqqqqqqqqqqqqqqqqqqqqqqqqqqqqqqqqqqqqqqqqqqqqqqqqqqqqqqqqqqqqqqqqqqqqTEFNRTMu//NExPIWQP3wAEjGcDEwMKqqqqqqqqqqqqqqqqqqqqqqqqqqqqqqqqqqqqqqqqqqqqqqqqqqqqqqqqqqqqqqqqqqqqqqqqqqqqqqqqqqqqqqqqqqqqqqqqqqqqqqqqqq//NExOwU8TnsADDGcKqqqqqqqqqqqqqqqqqqqqqqqqqqqqqqqqqqqqqqqqqqqqqqqqqqqqqqqqqqqqqqqqqqqqqqqqqqqqqqqqqqqqqqqqqqqqqqqqqqqqqqqqqqqqqq//NExKwAAANIAAAAAKqqqqqqqqqqqqqqqqqqqqqqqqqqqqqqqqqqqqqqqqqqqqqqqqqqqqqqqqqqqqqqqqqqqqqqqqqqqqqqqqqqqqqqqqqqqqqqqqqqqqqqqqqqqqqq\" type=\"audio/wav\" />\n",
       "                    Your browser does not support the audio element.\n",
       "                </audio>\n",
       "              "
      ],
      "text/plain": [
       "<IPython.lib.display.Audio object>"
      ]
     },
     "metadata": {},
     "output_type": "display_data"
    },
    {
     "data": {
      "text/html": [
       "\n",
       "                <audio  controls=\"controls\" autoplay=\"autoplay\">\n",
       "                    <source src=\"data:audio/wav;base64,//NExAARGEn0AHsMJD8Up3GKScuAFxyJoGDMkCRQ1Mg5MBioFB9nB8Hz59H//lwcBAEAQDHB8HAQBB0EAQBA5yYPggCBz///958HwfBwEAQDCj6nQURAUNI1L5pLXHuc//NExA4RWGIYAVoQAFcmDJXIJFKZqV2KWmq1M7wMsHsFEt0jQOl05WanwxJ7l1Obz/ODZ/b4gS6tX8+S8MaFJM1blO11RD8PIowQQzUPaNwfaPD6opnOHTCJrIU3siMS//NExBsX4x60AYg4ASNTyBNvso0UuYUExMXniM/5QRzDXMLCOJTEwWDYl/ycRCyIrxEEcoWIKRZP/z3O1zE5B7Tqojf/+tk99U7XPQ49nLkA5Rh/mARNf////889zj70//NExA4Vcdq4AcFAAXvSLYcQONIUQxGNCQ0OJ1o0pA5HjNX1lShYx2Vl5HtaNBK1dLFwyqkqpyBFMWmefKM6d/d2m37+rtsrfjaitj6oC5ZiKpYYWSD/vv/TyOjvVFnV//NExAsUkb60AAiMlE2CBgZVLY9IgAnCbwiMLOJD6zCLmEmiag5pxVzjJWoqZY7fs1n2fivnLoIhQiEzoKrQbGqUapmzELWMWaq30ga0idQBjyXlVTyAMkxkag9f5q0K//NExAsUaV6sAAlMlOhGEhUJCxrlGFHhB11AKEuaxutJMcVRta0etns8OxS49FPBEaEQMhbkB5YswSA0eM0QZcIrhyPJDl7twVblh7CIo9ASESyyj8xjZL7HQwsOpY28//NExAwTmPKcAMvecHwCOmkMxbcIByOosaCn1XS1Zz/PNsrcfYc8+dnoPQoHz5eOhDH2J9RsvYtYUaDV7U6+Vg0Gi0AuPSKg0o9bp3dIGTWKxXXx83cLL5IUOS7JkvKa//NExBAUeeaQAN4EmFBsPUvdLH/Xc0OLn4fmwgDagbLChNRikUXlOyooHZfK/neDhuLyk3N39f//////////+lNG8/h6RQ5/////WlQYILnPygEy8KJxNidfUKQEHDON//NExBEUGOaUAOYycE72hZFj29mwBq/P2woMpFe/HAvpWKX3rS8jxVX/SclYwq20v3SSxdktv/qnv/E+z//6nRd1Tob3f////TiokTXfNY0xmRsfgWwz8G+ysaNiaCg8//NExBMRWPKoANNecLZgDw+sT8Oa2ZidapprCTjMWsyDAAiO86bByDBcN3s2a/gRHzn//ygZl8WrNP/////9Suc3cSnEIyA14v0mUcxcRJoraxjMu/s7C46/gH1NvV0z//NExCAR6ZaoANPUlD/VYIoa25vgtjh3+lgLTp4UYBwhTUEsFolRTyB/b1///01lDvnanV3msazsjVGDm2a8n2C9bDl3GRBSa3iUfUbfye2P8RVFvO1OTlxgaYg6UNcX//NExCsR2QaoANPecOchuqnWGB7rMNjaScqGW6nYpsg8Gqv/uCwTC30q3jlVTHFmaNrKs4SYe4j+xi7hpKn7hEDOHWGBJqnUM5z+Ztw2NefRVeew+Thiw36zje4E+r3g//NExDYR8QqoAMvecE1qRGtSKJygLSpwYAv/4GWYrsO7pgIdeW2/hUEnZJKud1Hsw7hNLcZQoFA2pRDEuv15W/OWeEBxJzP8uY7xiq3L+Azem3sX4r/6b1TO21hlhxoO//NExEERIQ6kANYecKV//qqkwxT3BVJ780pApJHiVcUFHoMBypHYZhA25Q4ERsZw3EJ7424DjQU4ACpaNq5JSds29XX9907tzapFFRQO//5WlFiZEKVAFPuiJJzkhIYK//NExE8P8QqgANZWcKXNygD5QsGq2IvW40OP4T0RcHKWK3iIDYfxqjhAaNAIGRCs8vt6LqxjGYSMbGu///rsq/////pqkT2P2YauHA3IeE3i6A6gNinqDAEIy9HSTe2F//NExGIRkQqUANaKcAto7Kd6gzrPsDBPc+yZaqz6w7SV6XHVptFUnbdFBzqv/y576GFv/u///Rh8WIVxaVuhgNCQUQBCw8hVnCCcxOnM0DVqDAIEAMthsRhMaiTsEQDt//NExG4SKJqIANawTMALEbaNqKEgWC0XabIDgb3/2zCf/qkP8in////3rAKMqkEEpJAAj2qUP+aEsGmVKhG5NnYLkogBDpbkiWyXylU0QpdR9mNBwV1LAnNDJpdJJdES//NExHgRaIqEANbwTJ/1d6qggSHP9nSxKL/Ui//0///3PCBgeVqGJoLjTzwku0GRHTElLOCqpOUPhgU8ACm1CME1WQ/CVLc6cAYVynz5pGrA07lCMy/T7UsTf0o7gnIT//NExIUSoIJ4ANawSP73Gv57/////i9QiVVd7HwsrF/rqO2WgkbxIOxaUBUTHqe5Ru4+MDJMNgELONAhITV2dT6CzQfCrDeXlzubg+Jg2XWposjZUBBOp3ZTO/sob/////NExI0RmRp4ANPEcP//VSpmCPabxiqwxqKQTaPexNK9kyllbqjCamORAEJpOolJuh0qlPJZUt7g3zSzvcbrBk3e8yQi4mAgKFcKbLkAzZi17v6MlTLgClJsAqwEGMiQ//NExJkSWLJwANYeTJ6XCzn+jcHGUSkzDHFhEeIEaaELT10oiUkCMAvZwnM3uA4jGU6Jx6goFAxgUbC0aLtF+yUpJKd/ZVSUNFUtQhvFSfijeQ10kT2PZFqwDgg9novo//NExKIQ6L5kAMPeTKidy0acUfF5U07t/lERQkDMTQ3P//82aNOKPg15kFhciZ+sUJGh4q3BYXEZn0AyKNxYVkxBTUUzLjEwMKqqqqqqqqqqqqqqqqqqqqqqTEFNRTMu//NExLESaN4kAMPMcTEwMKqqqqqqqqqqqqqqqqqqqqqqqqqqqqqqqqqqqqqqqqqqqqqqqqqqqqqqqqqqqqqqqqqqqqqqqqqqqqqqqqqqqqqqqqqqqqqqqqqqTEFNRTMu//NExLoRsS14AHlMcDEwMKqqqqqqqqqqqqqqqqqqqqqqqqqqqqqqqqqqqqqqqqqqqqqqqqqqqqqqqqqqqqqqqqqqqqqqqqqqqqqqqqqqqqqqqqqqqqqqqqqqTEFNRTMu//NExKwAAANIAAAAADEwMKqqqqqqqqqqqqqqqqqqqqqqqqqqqqqqqqqqqqqqqqqqqqqqqqqqqqqqqqqqqqqqqqqqqqqqqqqqqqqqqqqqqqqqqqqqqqqqqqqqCgkcNDjA//NExKwAAANIAAAAALCCZ8f/+qsRkaOk//9TIyNHgYSKGHECwADsIyMjISKEjjCxAsJKZGRkbCRQw4gWIDxlVVVBiyQMss/0yqqoG//5FGLJAxX/7CFqowN//yKMWSBj//NExKwAAANIAAAAAL/7CFqowOoAAAAMChiEECAnR6gQQn/Xd3DixCF09EAwNzy3cAEE4GBi9AMW/u4GLCIPg/NLB99RyoExwIOB9xOCAJg+D4PvAHBMP4gPlAQh7BAE//NExKwAAANIAAAAAA/D8E3/BDxAcEAILB98aq2ZySIBAQFS6zN/qrAQEx1VVj/ZmaBgICFagIk9fY9WZm9mZVVVCgqdnsSgriY8JQVBUGgaBoGgZDRUFQVBp8GgZBUN//NExP8X0WjYADDGlXgq5mVO/KneVDSgZdiWTEFNRTMuMTAwqqqqqqqqqqqqqqqqqqqqqqqqqqqqqqqqqqqqqqqqqqqqqqqqqqqqqqqqqqqqqqqqqqqqqqqqTEFNRTMu//NExPIWQP3wAEjGcDEwMKqqqqqqqqqqqqqqqqqqqqqqqqqqqqqqqqqqqqqqqqqqqqqqqqqqqqqqqqqqqqqqqqqqqqqqqqqqqqqqqqqqqqqqqqqqqqqqqqqqqqqqqqqq//NExOwU8TnsADDGcKqqqqqqqqqqqqqqqqqqqqqqqqqqqqqqqqqqqqqqqqqqqqqqqqqqqqqqqqqqqqqqqqqqqqqqqqqqqqqqqqqqqqqqqqqqqqqqqqqqqqqqqqqqqqqq//NExKwAAANIAAAAAKqqqqqqqqqqqqqqqqqqqqqqqqqqqqqqqqqqqqqqqqqqqqqqqqqqqqqqqqqqqqqqqqqqqqqqqqqqqqqqqqqqqqqqqqqqqqqqqqqqqqqqqqqqqqqq\" type=\"audio/wav\" />\n",
       "                    Your browser does not support the audio element.\n",
       "                </audio>\n",
       "              "
      ],
      "text/plain": [
       "<IPython.lib.display.Audio object>"
      ]
     },
     "metadata": {},
     "output_type": "display_data"
    },
    {
     "data": {
      "text/html": [
       "\n",
       "                <audio  controls=\"controls\" autoplay=\"autoplay\">\n",
       "                    <source src=\"data:audio/wav;base64,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\" type=\"audio/wav\" />\n",
       "                    Your browser does not support the audio element.\n",
       "                </audio>\n",
       "              "
      ],
      "text/plain": [
       "<IPython.lib.display.Audio object>"
      ]
     },
     "metadata": {},
     "output_type": "display_data"
    },
    {
     "data": {
      "text/html": [
       "\n",
       "                <audio  controls=\"controls\" autoplay=\"autoplay\">\n",
       "                    <source src=\"data:audio/wav;base64,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\" type=\"audio/wav\" />\n",
       "                    Your browser does not support the audio element.\n",
       "                </audio>\n",
       "              "
      ],
      "text/plain": [
       "<IPython.lib.display.Audio object>"
      ]
     },
     "metadata": {},
     "output_type": "display_data"
    },
    {
     "data": {
      "text/html": [
       "\n",
       "                <audio  controls=\"controls\" autoplay=\"autoplay\">\n",
       "                    <source src=\"data:audio/wav;base64,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\" type=\"audio/wav\" />\n",
       "                    Your browser does not support the audio element.\n",
       "                </audio>\n",
       "              "
      ],
      "text/plain": [
       "<IPython.lib.display.Audio object>"
      ]
     },
     "metadata": {},
     "output_type": "display_data"
    },
    {
     "data": {
      "text/html": [
       "\n",
       "                <audio  controls=\"controls\" autoplay=\"autoplay\">\n",
       "                    <source src=\"data:audio/wav;base64,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\" type=\"audio/wav\" />\n",
       "                    Your browser does not support the audio element.\n",
       "                </audio>\n",
       "              "
      ],
      "text/plain": [
       "<IPython.lib.display.Audio object>"
      ]
     },
     "metadata": {},
     "output_type": "display_data"
    }
   ],
   "source": [
    "# try the mechanism\n",
    "namaste_min_consecutive = 10\n",
    "namaste_count = 0\n",
    "cap = cv2.VideoCapture(0)\n",
    "namaste_status = False\n",
    "\n",
    "history = []\n",
    "num_frames_requirement = 5\n",
    "down_done = False\n",
    "\n",
    "while cap.isOpened():\n",
    "    ret, frame = cap.read()\n",
    "    frame = cv2.flip(frame, 1)\n",
    "\n",
    "    if ret != True:\n",
    "        break\n",
    "    cv2.imshow('Frame', frame)\n",
    "    keypoints = processPose(frame).flatten().reshape(17, 3)\n",
    "    \n",
    "    if not namaste_status:\n",
    "        if is_namaste(keypoints):\n",
    "            namaste_count += 1\n",
    "        else:\n",
    "            namaste_count = 0\n",
    "        if namaste_count == namaste_min_consecutive:\n",
    "            namaste_status = True\n",
    "            threading.Thread(target=text_to_speech, args=[\"start\"]).start()\n",
    "        \n",
    "    else:\n",
    "        if is_enough_visibility(keypoints):\n",
    "#             history.append(keypoints)\n",
    "#             print(int(keypoints[BodyPart.RIGHT_KNEE.value][0] * 100), end=\" \")\n",
    "            height = int(keypoints[BodyPart.RIGHT_WRIST.value][0] * 100)\n",
    "    \n",
    "            if (len(history) == 0) or (height != history[-1]):\n",
    "                history.append(height)\n",
    "\n",
    "                if len(history) >= num_frames_requirement:\n",
    "        #                 print(history[-num_frames_requirement:], end=\" \")\n",
    "#                     if is_decreasing(history[-num_frames_requirement:]):\n",
    "#                         down_done = True\n",
    "\n",
    "#                     elif is_increasing(history[-num_frames_requirement:]):\n",
    "#                         if down_done:\n",
    "#                             down_done = False\n",
    "#                             threading.Thread(target=text_to_speech, args=[\"true\"]).start()\n",
    "                            \n",
    "                    if is_increasing(history[-num_frames_requirement:]):\n",
    "                        threading.Thread(target=text_to_speech, args=[\"true\"]).start()\n",
    "                \n",
    "            \n",
    "#             if len(history) >= num_frames_requirement:\n",
    "#                 history = history[-num_frames_requirement:]\n",
    "#                 if is_running(history[-3:]):\n",
    "#                     print(\"run\", end=\" \")\n",
    "#                 if is_jumping(history[-5:]):\n",
    "#                     print(\"JUMP\", end=\" \")\n",
    "    \n",
    "    \n",
    "    if cv2.waitKey(10) & 0xFF == ord('q'):\n",
    "            break\n",
    "\n",
    "cap.release()\n",
    "cv2.destroyAllWindows()"
   ]
  },
  {
   "cell_type": "code",
   "execution_count": null,
   "id": "ced2f50b",
   "metadata": {},
   "outputs": [],
   "source": [
    "# try the mechanism\n",
    "namaste_min_consecutive = 10\n",
    "namaste_count = 0\n",
    "cap = cv2.VideoCapture(0)\n",
    "namaste_status = False\n",
    "\n",
    "history = []\n",
    "num_frames_requirement = 10\n",
    "\n",
    "while cap.isOpened():\n",
    "    ret, frame = cap.read()\n",
    "    frame = cv2.flip(frame, 1)\n",
    "\n",
    "    if ret != True:\n",
    "        break\n",
    "    cv2.imshow('Frame', frame)\n",
    "    keypoints = processPose(frame).flatten().reshape(17, 3)\n",
    "    \n",
    "    if not namaste_status:\n",
    "        if is_namaste(keypoints):\n",
    "            namaste_count += 1\n",
    "        else:\n",
    "            namaste_count = 0\n",
    "        if namaste_count == namaste_min_consecutive:\n",
    "            namaste_status = True\n",
    "            threading.Thread(target=text_to_speech, args=[\"start\"]).start()\n",
    "        \n",
    "    else:\n",
    "        if is_enough_visibility(keypoints):\n",
    "            history.append(keypoints)\n",
    "            print(int(keypoints[BodyPart.RIGHT_KNEE.value][0] * 100), end=\" \")\n",
    "            \n",
    "            \n",
    "            \n",
    "#             if len(history) >= num_frames_requirement:\n",
    "#                 history = history[-num_frames_requirement:]\n",
    "#                 if is_running(history[-3:]):\n",
    "#                     print(\"run\", end=\" \")\n",
    "#                 if is_jumping(history[-5:]):\n",
    "#                     print(\"JUMP\", end=\" \")\n",
    "    \n",
    "    \n",
    "    if cv2.waitKey(10) & 0xFF == ord('q'):\n",
    "            break\n",
    "\n",
    "cap.release()\n",
    "cv2.destroyAllWindows()"
   ]
  },
  {
   "cell_type": "code",
   "execution_count": 27,
   "id": "bf88561b",
   "metadata": {},
   "outputs": [],
   "source": [
    "def wait_to_start():\n",
    "    \n",
    "    min_consecutive = 10\n",
    "    namaste_count = 0\n",
    "    \n",
    "    cap = cv2.VideoCapture(0)\n",
    "\n",
    "    while cap.isOpened():\n",
    "        ret, frame = cap.read()\n",
    "        frame = cv2.flip(frame, 1)\n",
    "\n",
    "        if ret != True:\n",
    "            break\n",
    "        cv2.imshow('Frame', frame)\n",
    "        \n",
    "#     while True:\n",
    "        keypoints = processPose(frame).flatten().reshape(17, 3)\n",
    "        if is_namaste(keypoints):\n",
    "            namaste_count += 1\n",
    "        else:\n",
    "            namaste_count = 0\n",
    "        if namaste_count == min_consecutive:\n",
    "            break\n",
    "    cap.release()\n",
    "    cv2.destroyAllWindows()\n",
    "    return"
   ]
  },
  {
   "cell_type": "code",
   "execution_count": null,
   "id": "ec0accfa",
   "metadata": {},
   "outputs": [],
   "source": []
  },
  {
   "cell_type": "code",
   "execution_count": 19,
   "id": "220ca007",
   "metadata": {},
   "outputs": [
    {
     "name": "stderr",
     "output_type": "stream",
     "text": [
      "<>:32: SyntaxWarning: \"is\" with a literal. Did you mean \"==\"?\n",
      "<>:68: SyntaxWarning: \"is\" with a literal. Did you mean \"==\"?\n",
      "<>:32: SyntaxWarning: \"is\" with a literal. Did you mean \"==\"?\n",
      "<>:68: SyntaxWarning: \"is\" with a literal. Did you mean \"==\"?\n",
      "C:\\Users\\Deandra\\AppData\\Local\\Temp/ipykernel_9224/303767359.py:32: SyntaxWarning: \"is\" with a literal. Did you mean \"==\"?\n",
      "  if colorkey is -1:\n",
      "C:\\Users\\Deandra\\AppData\\Local\\Temp/ipykernel_9224/303767359.py:68: SyntaxWarning: \"is\" with a literal. Did you mean \"==\"?\n",
      "  if colorkey is -1:\n"
     ]
    },
    {
     "name": "stdout",
     "output_type": "stream",
     "text": [
      "Couldn't load display surface\n",
      "Couldn't load display surface\n",
      "Couldn't load display surface\n"
     ]
    }
   ],
   "source": [
    "pygame.init()\n",
    "\n",
    "scr_size = (width,height) = (700,250)\n",
    "FPS = 60\n",
    "gravity = 0.5\n",
    "\n",
    "black = (0,0,0)\n",
    "white = (255,255,255)\n",
    "background_col = (0,0,0)\n",
    "\n",
    "high_score = 0\n",
    "\n",
    "screen = pygame.display.set_mode(scr_size)\n",
    "clock = pygame.time.Clock()\n",
    "pygame.display.set_caption(\"T-Rex\")\n",
    "\n",
    "jump_sound = pygame.mixer.Sound('sprites/jump.wav')\n",
    "die_sound = pygame.mixer.Sound('sprites/die.wav')\n",
    "checkPoint_sound = pygame.mixer.Sound('sprites/checkPoint.wav')\n",
    "\n",
    "def load_image(\n",
    "    name,\n",
    "    sizex=-1,\n",
    "    sizey=-1,\n",
    "    colorkey=None,\n",
    "    ):\n",
    "\n",
    "    fullname = os.path.join('sprites', name)\n",
    "    image = pygame.image.load(fullname)\n",
    "    image = image.convert()\n",
    "    if colorkey is not None:\n",
    "        if colorkey is -1:\n",
    "            colorkey = image.get_at((0, 0))\n",
    "        image.set_colorkey(colorkey, RLEACCEL)\n",
    "\n",
    "    if sizex != -1 or sizey != -1:\n",
    "        image = pygame.transform.scale(image, (sizex, sizey))\n",
    "\n",
    "    return (image, image.get_rect())\n",
    "\n",
    "def load_sprite_sheet(\n",
    "        sheetname,\n",
    "        nx,\n",
    "        ny,\n",
    "        scalex = -1,\n",
    "        scaley = -1,\n",
    "        colorkey = None,\n",
    "        ):\n",
    "    fullname = os.path.join('sprites',sheetname)\n",
    "    sheet = pygame.image.load(fullname)\n",
    "    sheet = sheet.convert()\n",
    "\n",
    "    sheet_rect = sheet.get_rect()\n",
    "\n",
    "    sprites = []\n",
    "\n",
    "    sizex = sheet_rect.width/nx\n",
    "    sizey = sheet_rect.height/ny\n",
    "\n",
    "    for i in range(0,ny):\n",
    "        for j in range(0,nx):\n",
    "            rect = pygame.Rect((j*sizex,i*sizey,sizex,sizey))\n",
    "            image = pygame.Surface(rect.size)\n",
    "            image = image.convert()\n",
    "            image.blit(sheet,(0,0),rect)\n",
    "\n",
    "            if colorkey is not None:\n",
    "                if colorkey is -1:\n",
    "                    colorkey = image.get_at((0,0))\n",
    "                image.set_colorkey(colorkey,RLEACCEL)\n",
    "\n",
    "            if scalex != -1 or scaley != -1:\n",
    "                image = pygame.transform.scale(image,(scalex,scaley))\n",
    "\n",
    "            sprites.append(image)\n",
    "\n",
    "    sprite_rect = sprites[0].get_rect()\n",
    "\n",
    "    return sprites,sprite_rect\n",
    "\n",
    "def disp_gameOver_msg(retbutton_image,gameover_image):\n",
    "    retbutton_rect = retbutton_image.get_rect()\n",
    "    retbutton_rect.centerx = width / 2\n",
    "    retbutton_rect.top = height*0.52\n",
    "\n",
    "    gameover_rect = gameover_image.get_rect()\n",
    "    gameover_rect.centerx = width / 2\n",
    "    gameover_rect.centery = height*0.35\n",
    "\n",
    "    screen.blit(retbutton_image, retbutton_rect)\n",
    "    screen.blit(gameover_image, gameover_rect)\n",
    "\n",
    "def extractDigits(number):\n",
    "    if number > -1:\n",
    "        digits = []\n",
    "        i = 0\n",
    "        while(number/10 != 0):\n",
    "            digits.append(number%10)\n",
    "            number = int(number/10)\n",
    "\n",
    "        digits.append(number%10)\n",
    "        for i in range(len(digits),5):\n",
    "            digits.append(0)\n",
    "        digits.reverse()\n",
    "        return digits\n",
    "\n",
    "class Dino():\n",
    "    def __init__(self,sizex=-1,sizey=-1):\n",
    "        self.images,self.rect = load_sprite_sheet('dino.png',5,1,sizex,sizey,-1)\n",
    "        self.images1,self.rect1 = load_sprite_sheet('dino_ducking.png',2,1,59,sizey,-1)\n",
    "        self.rect.bottom = int(0.98*height)\n",
    "        self.rect.left = width/15\n",
    "        self.image = self.images[0]\n",
    "        self.index = 0\n",
    "        self.counter = 0\n",
    "        self.score = 0\n",
    "        self.isJumping = False\n",
    "        self.isDead = False\n",
    "        self.isDucking = False\n",
    "        self.isBlinking = False\n",
    "        self.movement = [0,0]\n",
    "        self.jumpSpeed = 11.5\n",
    "\n",
    "        self.stand_pos_width = self.rect.width\n",
    "        self.duck_pos_width = self.rect1.width\n",
    "\n",
    "    def draw(self):\n",
    "        screen.blit(self.image,self.rect)\n",
    "\n",
    "    def checkbounds(self):\n",
    "        if self.rect.bottom > int(0.98*height):\n",
    "            self.rect.bottom = int(0.98*height)\n",
    "            self.isJumping = False\n",
    "\n",
    "    def update(self):\n",
    "        if self.isJumping:\n",
    "            self.movement[1] = self.movement[1] + gravity\n",
    "\n",
    "        if self.isJumping:\n",
    "            self.index = 0\n",
    "        elif self.isBlinking:\n",
    "            if self.index == 0:\n",
    "                if self.counter % 400 == 399:\n",
    "                    self.index = (self.index + 1)%2\n",
    "            else:\n",
    "                if self.counter % 20 == 19:\n",
    "                    self.index = (self.index + 1)%2\n",
    "\n",
    "        elif self.isDucking:\n",
    "            if self.counter % 5 == 0:\n",
    "                self.index = (self.index + 1)%2\n",
    "        else:\n",
    "            if self.counter % 5 == 0:\n",
    "                self.index = (self.index + 1)%2 + 2\n",
    "\n",
    "        if self.isDead:\n",
    "           self.index = 4\n",
    "\n",
    "        if not self.isDucking:\n",
    "            self.image = self.images[self.index]\n",
    "            self.rect.width = self.stand_pos_width\n",
    "        else:\n",
    "            self.image = self.images1[(self.index)%2]\n",
    "            self.rect.width = self.duck_pos_width\n",
    "\n",
    "        self.rect = self.rect.move(self.movement)\n",
    "        self.checkbounds()\n",
    "\n",
    "        if not self.isDead and self.counter % 7 == 6 and self.isBlinking == False:\n",
    "            self.score += 1\n",
    "            if self.score % 100 == 0 and self.score != 0:\n",
    "                if pygame.mixer.get_init() != None:\n",
    "                    checkPoint_sound.play()\n",
    "\n",
    "        self.counter = (self.counter + 1)\n",
    "\n",
    "class Cactus(pygame.sprite.Sprite):\n",
    "    def __init__(self,speed=5,sizex=-1,sizey=-1):\n",
    "        pygame.sprite.Sprite.__init__(self,self.containers)\n",
    "        self.images,self.rect = load_sprite_sheet('cacti-small.png',3,1,sizex,sizey,-1)\n",
    "        self.rect.bottom = int(0.98*height)\n",
    "        self.rect.left = width + self.rect.width\n",
    "        self.image = self.images[random.randrange(0,3)]\n",
    "        self.movement = [-1*speed,0]\n",
    "\n",
    "    def draw(self):\n",
    "        screen.blit(self.image,self.rect)\n",
    "\n",
    "    def update(self):\n",
    "        self.rect = self.rect.move(self.movement)\n",
    "\n",
    "        if self.rect.right < 0:\n",
    "            self.kill()\n",
    "\n",
    "class Ptera(pygame.sprite.Sprite):\n",
    "    def __init__(self,speed=5,sizex=-1,sizey=-1):\n",
    "        pygame.sprite.Sprite.__init__(self,self.containers)\n",
    "        self.images,self.rect = load_sprite_sheet('ptera.png',2,1,sizex,sizey,-1)\n",
    "        self.ptera_height = [height*0.82,height*0.75,height*0.60]\n",
    "        self.rect.centery = self.ptera_height[random.randrange(0,3)]\n",
    "        self.rect.left = width + self.rect.width\n",
    "        self.image = self.images[0]\n",
    "        self.movement = [-1*speed,0]\n",
    "        self.index = 0\n",
    "        self.counter = 0\n",
    "\n",
    "    def draw(self):\n",
    "        screen.blit(self.image,self.rect)\n",
    "\n",
    "    def update(self):\n",
    "        if self.counter % 10 == 0:\n",
    "            self.index = (self.index+1)%2\n",
    "        self.image = self.images[self.index]\n",
    "        self.rect = self.rect.move(self.movement)\n",
    "        self.counter = (self.counter + 1)\n",
    "        if self.rect.right < 0:\n",
    "            self.kill()\n",
    "\n",
    "\n",
    "class Ground():\n",
    "    def __init__(self,speed=-5):\n",
    "        self.image,self.rect = load_image('ground.png',-1,-1,-1)\n",
    "        self.image1,self.rect1 = load_image('ground.png',-1,-1,-1)\n",
    "        self.rect.bottom = height\n",
    "        self.rect1.bottom = height\n",
    "        self.rect1.left = self.rect.right\n",
    "        self.speed = speed\n",
    "\n",
    "    def draw(self):\n",
    "        screen.blit(self.image,self.rect)\n",
    "        screen.blit(self.image1,self.rect1)\n",
    "\n",
    "    def update(self):\n",
    "        self.rect.left += self.speed\n",
    "        self.rect1.left += self.speed\n",
    "\n",
    "        if self.rect.right < 0:\n",
    "            self.rect.left = self.rect1.right\n",
    "\n",
    "        if self.rect1.right < 0:\n",
    "            self.rect1.left = self.rect.right\n",
    "\n",
    "class Cloud(pygame.sprite.Sprite):\n",
    "    def __init__(self,x,y):\n",
    "        pygame.sprite.Sprite.__init__(self,self.containers)\n",
    "        self.image,self.rect = load_image('cloud.png',int(90*30/42),30,-1)\n",
    "        self.speed = 1\n",
    "        self.rect.left = x\n",
    "        self.rect.top = y\n",
    "        self.movement = [-1*self.speed,0]\n",
    "\n",
    "    def draw(self):\n",
    "        screen.blit(self.image,self.rect)\n",
    "\n",
    "    def update(self):\n",
    "        self.rect = self.rect.move(self.movement)\n",
    "        if self.rect.right < 0:\n",
    "            self.kill()\n",
    "\n",
    "class Scoreboard():\n",
    "    def __init__(self,x=-1,y=-1):\n",
    "        self.score = 0\n",
    "        self.tempimages,self.temprect = load_sprite_sheet('numbers.png',12,1,11,int(11*6/5),-1)\n",
    "        self.image = pygame.Surface((55,int(11*6/5)))\n",
    "        self.rect = self.image.get_rect()\n",
    "        if x == -1:\n",
    "            self.rect.left = width*0.89\n",
    "        else:\n",
    "            self.rect.left = x\n",
    "        if y == -1:\n",
    "            self.rect.top = height*0.1\n",
    "        else:\n",
    "            self.rect.top = y\n",
    "\n",
    "    def draw(self):\n",
    "        screen.blit(self.image,self.rect)\n",
    "\n",
    "    def update(self,score):\n",
    "        score_digits = extractDigits(score)\n",
    "        self.image.fill(background_col)\n",
    "        for s in score_digits:\n",
    "            self.image.blit(self.tempimages[s],self.temprect)\n",
    "            self.temprect.left += self.temprect.width\n",
    "        self.temprect.left = 0\n",
    "\n",
    "\n",
    "def introscreen():\n",
    "    temp_dino = Dino(44,47)\n",
    "    temp_dino.isBlinking = True\n",
    "    gameStart = False\n",
    "\n",
    "    callout,callout_rect = load_image('call_out.png',196,45,-1)\n",
    "    callout_rect.left = width*0.05\n",
    "    callout_rect.top = height*0.4\n",
    "\n",
    "    temp_ground,temp_ground_rect = load_sprite_sheet('ground.png',15,1,-1,-1,-1)\n",
    "    temp_ground_rect.left = width/20\n",
    "    temp_ground_rect.bottom = height\n",
    "\n",
    "    logo,logo_rect = load_image('logo.png',240,40,-1)\n",
    "    logo_rect.centerx = width*0.6\n",
    "    logo_rect.centery = height*0.6\n",
    "    while not gameStart:\n",
    "        if pygame.display.get_surface() == None:\n",
    "            print(\"Couldn't load display surface\")\n",
    "            return True\n",
    "        else:\n",
    "            for event in pygame.event.get():\n",
    "                if event.type == pygame.QUIT:\n",
    "                    return True\n",
    "                if event.type == pygame.KEYDOWN:\n",
    "                    if event.key == pygame.K_SPACE or event.key == pygame.K_UP:\n",
    "                        temp_dino.isJumping = True\n",
    "                        temp_dino.isBlinking = False\n",
    "                        temp_dino.movement[1] = -1*temp_dino.jumpSpeed\n",
    "\n",
    "        temp_dino.update()\n",
    "\n",
    "        if pygame.display.get_surface() != None:\n",
    "            screen.fill(background_col)\n",
    "            screen.blit(temp_ground[0],temp_ground_rect)\n",
    "            if temp_dino.isBlinking:\n",
    "                screen.blit(logo,logo_rect)\n",
    "                screen.blit(callout,callout_rect)\n",
    "            temp_dino.draw()\n",
    "\n",
    "            pygame.display.update()\n",
    "\n",
    "        clock.tick(FPS)\n",
    "        if temp_dino.isJumping == False and temp_dino.isBlinking == False:\n",
    "            gameStart = True\n",
    "\n",
    "def gameplay():\n",
    "    global high_score\n",
    "    gamespeed = 4\n",
    "    startMenu = False\n",
    "    gameOver = False\n",
    "    gameQuit = False\n",
    "    playerDino = Dino(44,47)\n",
    "    new_ground = Ground(-1*gamespeed)\n",
    "    scb = Scoreboard()\n",
    "    highsc = Scoreboard(width*0.78)\n",
    "    counter = 0\n",
    "\n",
    "    cacti = pygame.sprite.Group()\n",
    "    pteras = pygame.sprite.Group()\n",
    "    clouds = pygame.sprite.Group()\n",
    "    last_obstacle = pygame.sprite.Group()\n",
    "\n",
    "    Cactus.containers = cacti\n",
    "    Ptera.containers = pteras\n",
    "    Cloud.containers = clouds\n",
    "\n",
    "    retbutton_image,retbutton_rect = load_image('replay_button.png',35,31,-1)\n",
    "    gameover_image,gameover_rect = load_image('game_over.png',190,11,-1)\n",
    "\n",
    "    temp_images,temp_rect = load_sprite_sheet('numbers.png',12,1,11,int(11*6/5),-1)\n",
    "    HI_image = pygame.Surface((22,int(11*6/5)))\n",
    "    HI_rect = HI_image.get_rect()\n",
    "    HI_image.fill(background_col)\n",
    "    HI_image.blit(temp_images[10],temp_rect)\n",
    "    temp_rect.left += temp_rect.width\n",
    "    HI_image.blit(temp_images[11],temp_rect)\n",
    "    HI_rect.top = height*0.1\n",
    "    HI_rect.left = width*0.73\n",
    "\n",
    "    while not gameQuit:\n",
    "        while startMenu:\n",
    "            pass\n",
    "        while not gameOver:\n",
    "            if pygame.display.get_surface() == None:\n",
    "                print(\"Couldn't load display surface\")\n",
    "                gameQuit = True\n",
    "                gameOver = True\n",
    "            else:\n",
    "                for event in pygame.event.get():\n",
    "                    if event.type == pygame.QUIT:\n",
    "                        gameQuit = True\n",
    "                        gameOver = True\n",
    "\n",
    "                    if event.type == pygame.KEYDOWN:\n",
    "                        if event.key == pygame.K_SPACE:\n",
    "                            if playerDino.rect.bottom == int(0.98*height):\n",
    "                                playerDino.isJumping = True\n",
    "                                if pygame.mixer.get_init() != None:\n",
    "                                    jump_sound.play()\n",
    "                                playerDino.movement[1] = -1*playerDino.jumpSpeed\n",
    "\n",
    "                        if event.key == pygame.K_DOWN:\n",
    "                            if not (playerDino.isJumping and playerDino.isDead):\n",
    "                                playerDino.isDucking = True\n",
    "\n",
    "                    if event.type == pygame.KEYUP:\n",
    "                        if event.key == pygame.K_DOWN:\n",
    "                            playerDino.isDucking = False\n",
    "            for c in cacti:\n",
    "                c.movement[0] = -1*gamespeed\n",
    "                if pygame.sprite.collide_mask(playerDino,c):\n",
    "                    playerDino.isDead = True\n",
    "                    if pygame.mixer.get_init() != None:\n",
    "                        die_sound.play()\n",
    "\n",
    "            for p in pteras:\n",
    "                p.movement[0] = -1*gamespeed\n",
    "                if pygame.sprite.collide_mask(playerDino,p):\n",
    "                    playerDino.isDead = True\n",
    "                    if pygame.mixer.get_init() != None:\n",
    "                        die_sound.play()\n",
    "\n",
    "            if len(cacti) < 2:\n",
    "                if len(cacti) == 0:\n",
    "                    last_obstacle.empty()\n",
    "                    last_obstacle.add(Cactus(gamespeed,40,40))\n",
    "                else:\n",
    "                    for l in last_obstacle:\n",
    "                        if l.rect.right < width*0.7 and random.randrange(0,50) == 10:\n",
    "                            last_obstacle.empty()\n",
    "                            last_obstacle.add(Cactus(gamespeed, 40, 40))\n",
    "\n",
    "            if len(pteras) == 0 and random.randrange(0,200) == 10 and counter > 500:\n",
    "                for l in last_obstacle:\n",
    "                    if l.rect.right < width*0.8:\n",
    "                        last_obstacle.empty()\n",
    "                        last_obstacle.add(Ptera(gamespeed, 46, 40))\n",
    "\n",
    "            if len(clouds) < 5 and random.randrange(0,300) == 10:\n",
    "                Cloud(width,random.randrange(height/5,height/2))\n",
    "\n",
    "            playerDino.update()\n",
    "            cacti.update()\n",
    "            pteras.update()\n",
    "            clouds.update()\n",
    "            new_ground.update()\n",
    "            scb.update(playerDino.score)\n",
    "            highsc.update(high_score)\n",
    "\n",
    "            if pygame.display.get_surface() != None:\n",
    "                screen.fill(background_col)\n",
    "                new_ground.draw()\n",
    "                clouds.draw(screen)\n",
    "                scb.draw()\n",
    "                if high_score != 0:\n",
    "                    highsc.draw()\n",
    "                    screen.blit(HI_image,HI_rect)\n",
    "                cacti.draw(screen)\n",
    "                pteras.draw(screen)\n",
    "                playerDino.draw()\n",
    "\n",
    "                pygame.display.update()\n",
    "            clock.tick(FPS)\n",
    "\n",
    "            if playerDino.isDead:\n",
    "                gameOver = True\n",
    "                if playerDino.score > high_score:\n",
    "                    high_score = playerDino.score\n",
    "\n",
    "            if counter%700 == 699:\n",
    "                new_ground.speed -= 1\n",
    "                gamespeed += 1\n",
    "\n",
    "            counter = (counter + 1)\n",
    "\n",
    "        if gameQuit:\n",
    "            break\n",
    "\n",
    "        while gameOver:\n",
    "            if pygame.display.get_surface() == None:\n",
    "                print(\"Couldn't load display surface\")\n",
    "                gameQuit = True\n",
    "                gameOver = False\n",
    "            else:\n",
    "                for event in pygame.event.get():\n",
    "                    if event.type == pygame.QUIT:\n",
    "                        gameQuit = True\n",
    "                        gameOver = False\n",
    "                    if event.type == pygame.KEYDOWN:\n",
    "                        if event.key == pygame.K_ESCAPE:\n",
    "                            gameQuit = True\n",
    "                            gameOver = False\n",
    "\n",
    "                        if event.key == pygame.K_RETURN or event.key == pygame.K_SPACE:\n",
    "                            gameOver = False\n",
    "                            gameplay()\n",
    "            highsc.update(high_score)\n",
    "            if pygame.display.get_surface() != None:\n",
    "                disp_gameOver_msg(retbutton_image,gameover_image)\n",
    "                if high_score != 0:\n",
    "                    highsc.draw()\n",
    "                    screen.blit(HI_image,HI_rect)\n",
    "                pygame.display.update()\n",
    "            clock.tick(FPS)\n",
    "\n",
    "    pygame.quit()\n",
    "    quit()\n",
    "\n",
    "def main():\n",
    "    isGameQuit = introscreen()\n",
    "    if not isGameQuit:\n",
    "        gameplay()\n",
    "\n",
    "main()\n"
   ]
  },
  {
   "cell_type": "code",
   "execution_count": null,
   "id": "557881bf",
   "metadata": {},
   "outputs": [],
   "source": []
  }
 ],
 "metadata": {
  "kernelspec": {
   "display_name": "Python 3 (ipykernel)",
   "language": "python",
   "name": "python3"
  },
  "language_info": {
   "codemirror_mode": {
    "name": "ipython",
    "version": 3
   },
   "file_extension": ".py",
   "mimetype": "text/x-python",
   "name": "python",
   "nbconvert_exporter": "python",
   "pygments_lexer": "ipython3",
   "version": "3.9.7"
  }
 },
 "nbformat": 4,
 "nbformat_minor": 5
}
