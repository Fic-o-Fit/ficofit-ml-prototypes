{
 "cells": [
  {
   "cell_type": "code",
   "execution_count": 1,
   "id": "1aa9e84e",
   "metadata": {
    "collapsed": true
   },
   "outputs": [
    {
     "name": "stdout",
     "output_type": "stream",
     "text": [
      "Requirement already satisfied: tensorflow in d:\\users\\deandra\\anaconda3\\lib\\site-packages (2.8.0)\n",
      "Requirement already satisfied: opencv-python in d:\\users\\deandra\\anaconda3\\lib\\site-packages (4.5.5.64)\n",
      "Requirement already satisfied: matplotlib in d:\\users\\deandra\\anaconda3\\lib\\site-packages (3.4.3)\n",
      "Requirement already satisfied: sklearn in d:\\users\\deandra\\anaconda3\\lib\\site-packages (0.0)\n",
      "Requirement already satisfied: gTTS in d:\\users\\deandra\\anaconda3\\lib\\site-packages (2.2.4)\n",
      "Requirement already satisfied: ipython in d:\\users\\deandra\\anaconda3\\lib\\site-packages (7.29.0)\n",
      "Requirement already satisfied: numpy>=1.20 in d:\\users\\deandra\\anaconda3\\lib\\site-packages (from tensorflow) (1.20.3)\n",
      "Requirement already satisfied: opt-einsum>=2.3.2 in d:\\users\\deandra\\anaconda3\\lib\\site-packages (from tensorflow) (3.3.0)\n",
      "Requirement already satisfied: google-pasta>=0.1.1 in d:\\users\\deandra\\anaconda3\\lib\\site-packages (from tensorflow) (0.2.0)\n",
      "Requirement already satisfied: setuptools in d:\\users\\deandra\\anaconda3\\lib\\site-packages (from tensorflow) (58.0.4)\n",
      "Requirement already satisfied: astunparse>=1.6.0 in d:\\users\\deandra\\anaconda3\\lib\\site-packages (from tensorflow) (1.6.3)\n",
      "Requirement already satisfied: keras-preprocessing>=1.1.1 in d:\\users\\deandra\\anaconda3\\lib\\site-packages (from tensorflow) (1.1.2)\n",
      "Requirement already satisfied: typing-extensions>=3.6.6 in d:\\users\\deandra\\anaconda3\\lib\\site-packages (from tensorflow) (3.10.0.2)\n",
      "Requirement already satisfied: h5py>=2.9.0 in d:\\users\\deandra\\anaconda3\\lib\\site-packages (from tensorflow) (3.2.1)\n",
      "Requirement already satisfied: absl-py>=0.4.0 in d:\\users\\deandra\\anaconda3\\lib\\site-packages (from tensorflow) (1.0.0)\n",
      "Requirement already satisfied: tf-estimator-nightly==2.8.0.dev2021122109 in d:\\users\\deandra\\anaconda3\\lib\\site-packages (from tensorflow) (2.8.0.dev2021122109)\n",
      "Requirement already satisfied: gast>=0.2.1 in d:\\users\\deandra\\anaconda3\\lib\\site-packages (from tensorflow) (0.5.3)\n",
      "Requirement already satisfied: libclang>=9.0.1 in d:\\users\\deandra\\anaconda3\\lib\\site-packages (from tensorflow) (13.0.0)\n",
      "Requirement already satisfied: six>=1.12.0 in d:\\users\\deandra\\anaconda3\\lib\\site-packages (from tensorflow) (1.16.0)\n",
      "Requirement already satisfied: tensorboard<2.9,>=2.8 in d:\\users\\deandra\\anaconda3\\lib\\site-packages (from tensorflow) (2.8.0)\n",
      "Requirement already satisfied: protobuf>=3.9.2 in d:\\users\\deandra\\anaconda3\\lib\\site-packages (from tensorflow) (3.20.0)\n",
      "Requirement already satisfied: termcolor>=1.1.0 in d:\\users\\deandra\\anaconda3\\lib\\site-packages (from tensorflow) (1.1.0)\n",
      "Requirement already satisfied: flatbuffers>=1.12 in d:\\users\\deandra\\anaconda3\\lib\\site-packages (from tensorflow) (2.0)\n",
      "Requirement already satisfied: tensorflow-io-gcs-filesystem>=0.23.1 in d:\\users\\deandra\\anaconda3\\lib\\site-packages (from tensorflow) (0.24.0)\n",
      "Requirement already satisfied: keras<2.9,>=2.8.0rc0 in d:\\users\\deandra\\anaconda3\\lib\\site-packages (from tensorflow) (2.8.0)\n",
      "Requirement already satisfied: grpcio<2.0,>=1.24.3 in d:\\users\\deandra\\anaconda3\\lib\\site-packages (from tensorflow) (1.44.0)\n",
      "Requirement already satisfied: wrapt>=1.11.0 in d:\\users\\deandra\\anaconda3\\lib\\site-packages (from tensorflow) (1.12.1)\n",
      "Requirement already satisfied: cycler>=0.10 in d:\\users\\deandra\\anaconda3\\lib\\site-packages (from matplotlib) (0.10.0)\n",
      "Requirement already satisfied: pyparsing>=2.2.1 in d:\\users\\deandra\\anaconda3\\lib\\site-packages (from matplotlib) (3.0.4)\n",
      "Requirement already satisfied: python-dateutil>=2.7 in d:\\users\\deandra\\anaconda3\\lib\\site-packages (from matplotlib) (2.8.2)\n",
      "Requirement already satisfied: kiwisolver>=1.0.1 in d:\\users\\deandra\\anaconda3\\lib\\site-packages (from matplotlib) (1.3.1)\n",
      "Requirement already satisfied: pillow>=6.2.0 in d:\\users\\deandra\\anaconda3\\lib\\site-packages (from matplotlib) (8.4.0)\n",
      "Requirement already satisfied: scikit-learn in d:\\users\\deandra\\anaconda3\\lib\\site-packages (from sklearn) (0.24.2)\n",
      "Requirement already satisfied: click in d:\\users\\deandra\\anaconda3\\lib\\site-packages (from gTTS) (8.0.3)\n",
      "Requirement already satisfied: requests in d:\\users\\deandra\\anaconda3\\lib\\site-packages (from gTTS) (2.26.0)\n",
      "Requirement already satisfied: jedi>=0.16 in d:\\users\\deandra\\anaconda3\\lib\\site-packages (from ipython) (0.18.0)\n",
      "Requirement already satisfied: prompt-toolkit!=3.0.0,!=3.0.1,<3.1.0,>=2.0.0 in d:\\users\\deandra\\anaconda3\\lib\\site-packages (from ipython) (3.0.20)\n",
      "Requirement already satisfied: colorama in d:\\users\\deandra\\anaconda3\\lib\\site-packages (from ipython) (0.4.4)\n",
      "Requirement already satisfied: traitlets>=4.2 in d:\\users\\deandra\\anaconda3\\lib\\site-packages (from ipython) (5.1.0)\n",
      "Requirement already satisfied: pickleshare in d:\\users\\deandra\\anaconda3\\lib\\site-packages (from ipython) (0.7.5)\n",
      "Requirement already satisfied: pygments in d:\\users\\deandra\\anaconda3\\lib\\site-packages (from ipython) (2.10.0)\n",
      "Requirement already satisfied: matplotlib-inline in d:\\users\\deandra\\anaconda3\\lib\\site-packages (from ipython) (0.1.2)\n",
      "Requirement already satisfied: backcall in d:\\users\\deandra\\anaconda3\\lib\\site-packages (from ipython) (0.2.0)\n",
      "Requirement already satisfied: decorator in d:\\users\\deandra\\anaconda3\\lib\\site-packages (from ipython) (5.1.0)\n",
      "Requirement already satisfied: wheel<1.0,>=0.23.0 in d:\\users\\deandra\\anaconda3\\lib\\site-packages (from astunparse>=1.6.0->tensorflow) (0.37.0)\n",
      "Requirement already satisfied: parso<0.9.0,>=0.8.0 in d:\\users\\deandra\\anaconda3\\lib\\site-packages (from jedi>=0.16->ipython) (0.8.2)\n",
      "Requirement already satisfied: wcwidth in d:\\users\\deandra\\anaconda3\\lib\\site-packages (from prompt-toolkit!=3.0.0,!=3.0.1,<3.1.0,>=2.0.0->ipython) (0.2.5)\n",
      "Requirement already satisfied: tensorboard-plugin-wit>=1.6.0 in d:\\users\\deandra\\anaconda3\\lib\\site-packages (from tensorboard<2.9,>=2.8->tensorflow) (1.8.1)\n",
      "Requirement already satisfied: werkzeug>=0.11.15 in d:\\users\\deandra\\anaconda3\\lib\\site-packages (from tensorboard<2.9,>=2.8->tensorflow) (2.0.2)\n",
      "Requirement already satisfied: tensorboard-data-server<0.7.0,>=0.6.0 in d:\\users\\deandra\\anaconda3\\lib\\site-packages (from tensorboard<2.9,>=2.8->tensorflow) (0.6.1)\n",
      "Requirement already satisfied: markdown>=2.6.8 in d:\\users\\deandra\\anaconda3\\lib\\site-packages (from tensorboard<2.9,>=2.8->tensorflow) (3.3.6)\n",
      "Requirement already satisfied: google-auth<3,>=1.6.3 in d:\\users\\deandra\\anaconda3\\lib\\site-packages (from tensorboard<2.9,>=2.8->tensorflow) (2.6.5)\n",
      "Requirement already satisfied: google-auth-oauthlib<0.5,>=0.4.1 in d:\\users\\deandra\\anaconda3\\lib\\site-packages (from tensorboard<2.9,>=2.8->tensorflow) (0.4.6)\n",
      "Requirement already satisfied: pyasn1-modules>=0.2.1 in d:\\users\\deandra\\anaconda3\\lib\\site-packages (from google-auth<3,>=1.6.3->tensorboard<2.9,>=2.8->tensorflow) (0.2.8)\n",
      "Requirement already satisfied: rsa<5,>=3.1.4 in d:\\users\\deandra\\anaconda3\\lib\\site-packages (from google-auth<3,>=1.6.3->tensorboard<2.9,>=2.8->tensorflow) (4.8)\n",
      "Requirement already satisfied: cachetools<6.0,>=2.0.0 in d:\\users\\deandra\\anaconda3\\lib\\site-packages (from google-auth<3,>=1.6.3->tensorboard<2.9,>=2.8->tensorflow) (5.0.0)\n",
      "Requirement already satisfied: requests-oauthlib>=0.7.0 in d:\\users\\deandra\\anaconda3\\lib\\site-packages (from google-auth-oauthlib<0.5,>=0.4.1->tensorboard<2.9,>=2.8->tensorflow) (1.3.1)\n",
      "Requirement already satisfied: importlib-metadata>=4.4 in d:\\users\\deandra\\anaconda3\\lib\\site-packages (from markdown>=2.6.8->tensorboard<2.9,>=2.8->tensorflow) (4.8.1)\n",
      "Requirement already satisfied: zipp>=0.5 in d:\\users\\deandra\\anaconda3\\lib\\site-packages (from importlib-metadata>=4.4->markdown>=2.6.8->tensorboard<2.9,>=2.8->tensorflow) (3.6.0)\n",
      "Requirement already satisfied: pyasn1<0.5.0,>=0.4.6 in d:\\users\\deandra\\anaconda3\\lib\\site-packages (from pyasn1-modules>=0.2.1->google-auth<3,>=1.6.3->tensorboard<2.9,>=2.8->tensorflow) (0.4.8)\n",
      "Requirement already satisfied: idna<4,>=2.5 in d:\\users\\deandra\\anaconda3\\lib\\site-packages (from requests->gTTS) (3.2)\n",
      "Requirement already satisfied: certifi>=2017.4.17 in d:\\users\\deandra\\anaconda3\\lib\\site-packages (from requests->gTTS) (2021.10.8)\n",
      "Requirement already satisfied: urllib3<1.27,>=1.21.1 in d:\\users\\deandra\\anaconda3\\lib\\site-packages (from requests->gTTS) (1.26.7)\n",
      "Requirement already satisfied: charset-normalizer~=2.0.0 in d:\\users\\deandra\\anaconda3\\lib\\site-packages (from requests->gTTS) (2.0.4)\n",
      "Requirement already satisfied: oauthlib>=3.0.0 in d:\\users\\deandra\\anaconda3\\lib\\site-packages (from requests-oauthlib>=0.7.0->google-auth-oauthlib<0.5,>=0.4.1->tensorboard<2.9,>=2.8->tensorflow) (3.2.0)\n",
      "Requirement already satisfied: scipy>=0.19.1 in d:\\users\\deandra\\anaconda3\\lib\\site-packages (from scikit-learn->sklearn) (1.7.1)\n",
      "Requirement already satisfied: joblib>=0.11 in d:\\users\\deandra\\anaconda3\\lib\\site-packages (from scikit-learn->sklearn) (1.1.0)\n",
      "Requirement already satisfied: threadpoolctl>=2.0.0 in d:\\users\\deandra\\anaconda3\\lib\\site-packages (from scikit-learn->sklearn) (2.2.0)\n"
     ]
    }
   ],
   "source": [
    "!pip install tensorflow opencv-python matplotlib sklearn gTTS ipython"
   ]
  },
  {
   "cell_type": "code",
   "execution_count": 1,
   "id": "83005088",
   "metadata": {},
   "outputs": [],
   "source": [
    "import tensorflow as tf\n",
    "import numpy as np\n",
    "import cv2\n",
    "from gtts import gTTS\n",
    "from IPython.display import Audio\n",
    "import threading\n",
    "import time"
   ]
  },
  {
   "cell_type": "code",
   "execution_count": 5,
   "id": "be9449b6",
   "metadata": {},
   "outputs": [],
   "source": [
    "# model = tf.keras.models.load_model('pushup-counter-softmax.h5')\n",
    "# model = tf.keras.models.load_model('pushup-counter-with-reduced-landmark-and-sigmoid.h5')\n",
    "model = tf.keras.models.load_model('pushup-counter-movenet.h5')"
   ]
  },
  {
   "cell_type": "code",
   "execution_count": 4,
   "id": "6bdd9fcf",
   "metadata": {},
   "outputs": [],
   "source": []
  },
  {
   "cell_type": "code",
   "execution_count": 6,
   "id": "d39943a7",
   "metadata": {},
   "outputs": [],
   "source": [
    "movenet_folder = 'models/movenet_lightning.tflite'\n",
    "interpreter = tf.lite.Interpreter(model_path=movenet_folder)\n",
    "interpreter.allocate_tensors()"
   ]
  },
  {
   "cell_type": "code",
   "execution_count": 7,
   "id": "025fcf74",
   "metadata": {},
   "outputs": [],
   "source": [
    "def processPose(image):\n",
    "    img = tf.image.resize_with_pad(np.expand_dims(image, axis=0), 192,192)\n",
    "    img = tf.cast(img, dtype=tf.float32)\n",
    "    input_details = interpreter.get_input_details()\n",
    "    output_details = interpreter.get_output_details()\n",
    "    interpreter.set_tensor(input_details[0]['index'], np.array(img))\n",
    "    # Invoke inference.\n",
    "    interpreter.invoke()\n",
    "    # Get the model prediction.\n",
    "    keypoints_with_scores = interpreter.get_tensor(output_details[0]['index'])\n",
    "    keypoints = keypoints_with_scores.flatten().reshape(17,3)\n",
    "    fixed_keypoints = []\n",
    "    for [x, y, score] in keypoints:\n",
    "        if score < 0.2:\n",
    "            fixed_keypoints.append([0, 0, 0])\n",
    "        else:\n",
    "            fixed_keypoints.append([x, y, score])\n",
    "    return np.array(fixed_keypoints)"
   ]
  },
  {
   "cell_type": "code",
   "execution_count": 20,
   "id": "348f5a9c",
   "metadata": {},
   "outputs": [],
   "source": [
    "def allEqual(iterable):\n",
    "    iterator = iter(iterable)\n",
    "    \n",
    "    try:\n",
    "        firstItem = next(iterator)\n",
    "    except StopIteration:\n",
    "        return True\n",
    "        \n",
    "    for x in iterator:\n",
    "        if x!=firstItem:\n",
    "            return False\n",
    "    return True"
   ]
  },
  {
   "cell_type": "code",
   "execution_count": 22,
   "id": "0ee42f5b",
   "metadata": {},
   "outputs": [],
   "source": [
    "def text_to_speech(sentence):\n",
    "    tts = gTTS(sentence) #Provide the string to convert to speech\n",
    "    sound_file = '1.wav'\n",
    "    tts.save(sound_file) #save the string converted to speech as a .wav file\n",
    "    display(Audio('1.wav', autoplay=True))"
   ]
  },
  {
   "cell_type": "code",
   "execution_count": 28,
   "id": "8853dad7",
   "metadata": {},
   "outputs": [
    {
     "name": "stdout",
     "output_type": "stream",
     "text": [
      "[[1.0000000e+00 2.7352547e-17]]\n",
      "0\n",
      "1.0\n"
     ]
    }
   ],
   "source": [
    "# im just trying to test with static image first\n",
    "image = cv2.imread('gambar4.jpg')\n",
    "keypoints = processPose(image).flatten().reshape(1, 51)\n",
    "predd = model.predict(keypoints)\n",
    "posee = np.argmax(predd)\n",
    "confidence = predd[0][posee]\n",
    "print(predd)\n",
    "print(posee)\n",
    "print(confidence)"
   ]
  },
  {
   "cell_type": "code",
   "execution_count": 30,
   "id": "33c1bb58",
   "metadata": {},
   "outputs": [
    {
     "data": {
      "text/plain": [
       "True"
      ]
     },
     "execution_count": 30,
     "metadata": {},
     "output_type": "execute_result"
    }
   ],
   "source": [
    "any([0, 0, 0, 1])"
   ]
  },
  {
   "cell_type": "code",
   "execution_count": 39,
   "id": "439e59d2",
   "metadata": {},
   "outputs": [],
   "source": [
    "def body_is_visible(keypoints):\n",
    "    keypoints = keypoints.reshape(17, 3)\n",
    "    important_bodyparts = [5, 7, 9, 11, 13] #this is only for the left part\n",
    "    for index in important_bodyparts:\n",
    "        if (keypoints[index][2] < 0.2) and (keypoints[index+1][2] < 0.2):  # one of the left and right bodypart needs to be seen\n",
    "            return False\n",
    "    return True"
   ]
  },
  {
   "cell_type": "code",
   "execution_count": 44,
   "id": "88231703",
   "metadata": {},
   "outputs": [
    {
     "name": "stdout",
     "output_type": "stream",
     "text": [
      "1 1 0 0 0 0 0 0 0 0 0 0 0 0 0 0 0 0 1 0 0 0 1 0 0 0 0 0 0 1 0 0 0 0 0 1 0 0 0 0 0 0 0 0 1 1 1 1 0 0 0 1 1 1 1 "
     ]
    },
    {
     "data": {
      "text/html": [
       "\n",
       "                <audio  controls=\"controls\" autoplay=\"autoplay\">\n",
       "                    <source src=\"data:audio/wav;base64,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\" type=\"audio/wav\" />\n",
       "                    Your browser does not support the audio element.\n",
       "                </audio>\n",
       "              "
      ],
      "text/plain": [
       "<IPython.lib.display.Audio object>"
      ]
     },
     "metadata": {},
     "output_type": "display_data"
    },
    {
     "name": "stdout",
     "output_type": "stream",
     "text": [
      "0 1 1 0 0 0 0 0 0 0 0 1 1 1 1 1 1 0 0 0 1 0 0 1 1 1 1 1 1 1 1 1 0 0 0 0 0 0 1 0 0 1 0 0 0 0 0 0 0 0 0 1 0 0 1 1 1 1 1 1 1 1 1 1 0 0 0 0 0 1 0 0 0 0 1 0 0 0 0 0 0 0 1 1 0 1 1 1 1 1 1 1 1 1 0 0 0 1 1 1 1 "
     ]
    },
    {
     "data": {
      "text/html": [
       "\n",
       "                <audio  controls=\"controls\" autoplay=\"autoplay\">\n",
       "                    <source src=\"data:audio/wav;base64,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\" type=\"audio/wav\" />\n",
       "                    Your browser does not support the audio element.\n",
       "                </audio>\n",
       "              "
      ],
      "text/plain": [
       "<IPython.lib.display.Audio object>"
      ]
     },
     "metadata": {},
     "output_type": "display_data"
    },
    {
     "name": "stdout",
     "output_type": "stream",
     "text": [
      "1 1 0 0 0 0 0 0 1 1 0 1 1 1 1 1 1 0 0 0 1 1 1 1 "
     ]
    },
    {
     "data": {
      "text/html": [
       "\n",
       "                <audio  controls=\"controls\" autoplay=\"autoplay\">\n",
       "                    <source src=\"data:audio/wav;base64,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\" type=\"audio/wav\" />\n",
       "                    Your browser does not support the audio element.\n",
       "                </audio>\n",
       "              "
      ],
      "text/plain": [
       "<IPython.lib.display.Audio object>"
      ]
     },
     "metadata": {},
     "output_type": "display_data"
    },
    {
     "name": "stdout",
     "output_type": "stream",
     "text": [
      "1 1 1 0 0 0 0 0 0 0 0 0 0 0 0 0 1 1 1 1 "
     ]
    },
    {
     "data": {
      "text/html": [
       "\n",
       "                <audio  controls=\"controls\" autoplay=\"autoplay\">\n",
       "                    <source src=\"data:audio/wav;base64,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\" type=\"audio/wav\" />\n",
       "                    Your browser does not support the audio element.\n",
       "                </audio>\n",
       "              "
      ],
      "text/plain": [
       "<IPython.lib.display.Audio object>"
      ]
     },
     "metadata": {},
     "output_type": "display_data"
    },
    {
     "name": "stdout",
     "output_type": "stream",
     "text": [
      "1 1 1 1 1 1 1 0 1 1 1 0 0 1 0 1 1 1 1 0 0 0 0 0 0 0 1 1 1 1 "
     ]
    },
    {
     "data": {
      "text/html": [
       "\n",
       "                <audio  controls=\"controls\" autoplay=\"autoplay\">\n",
       "                    <source src=\"data:audio/wav;base64,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\" type=\"audio/wav\" />\n",
       "                    Your browser does not support the audio element.\n",
       "                </audio>\n",
       "              "
      ],
      "text/plain": [
       "<IPython.lib.display.Audio object>"
      ]
     },
     "metadata": {},
     "output_type": "display_data"
    },
    {
     "name": "stdout",
     "output_type": "stream",
     "text": [
      "1 1 1 1 1 1 1 1 1 1 1 1 1 0 0 0 0 0 0 0 0 0 0 0 0 1 1 1 1 "
     ]
    },
    {
     "data": {
      "text/html": [
       "\n",
       "                <audio  controls=\"controls\" autoplay=\"autoplay\">\n",
       "                    <source src=\"data:audio/wav;base64,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\" type=\"audio/wav\" />\n",
       "                    Your browser does not support the audio element.\n",
       "                </audio>\n",
       "              "
      ],
      "text/plain": [
       "<IPython.lib.display.Audio object>"
      ]
     },
     "metadata": {},
     "output_type": "display_data"
    },
    {
     "name": "stdout",
     "output_type": "stream",
     "text": [
      "1 1 1 1 1 1 1 1 1 1 1 1 1 1 0 0 0 0 0 0 0 1 1 1 1 "
     ]
    },
    {
     "data": {
      "text/html": [
       "\n",
       "                <audio  controls=\"controls\" autoplay=\"autoplay\">\n",
       "                    <source src=\"data:audio/wav;base64,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\" type=\"audio/wav\" />\n",
       "                    Your browser does not support the audio element.\n",
       "                </audio>\n",
       "              "
      ],
      "text/plain": [
       "<IPython.lib.display.Audio object>"
      ]
     },
     "metadata": {},
     "output_type": "display_data"
    },
    {
     "name": "stdout",
     "output_type": "stream",
     "text": [
      "1 1 1 1 1 1 1 1 1 1 1 1 1 1 1 1 1 1 1 1 1 1 1 1 1 1 1 1 1 1 1 0 0 1 1 1 1 1 1 0 0 0 0 0 0 1 1 1 1 "
     ]
    },
    {
     "data": {
      "text/html": [
       "\n",
       "                <audio  controls=\"controls\" autoplay=\"autoplay\">\n",
       "                    <source src=\"data:audio/wav;base64,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\" type=\"audio/wav\" />\n",
       "                    Your browser does not support the audio element.\n",
       "                </audio>\n",
       "              "
      ],
      "text/plain": [
       "<IPython.lib.display.Audio object>"
      ]
     },
     "metadata": {},
     "output_type": "display_data"
    },
    {
     "name": "stdout",
     "output_type": "stream",
     "text": [
      "1 0 0 1 1 1 1 1 1 1 0 0 0 0 0 0 0 0 0 1 1 1 0 "
     ]
    },
    {
     "data": {
      "text/html": [
       "\n",
       "                <audio  controls=\"controls\" autoplay=\"autoplay\">\n",
       "                    <source src=\"data:audio/wav;base64,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\" type=\"audio/wav\" />\n",
       "                    Your browser does not support the audio element.\n",
       "                </audio>\n",
       "              "
      ],
      "text/plain": [
       "<IPython.lib.display.Audio object>"
      ]
     },
     "metadata": {},
     "output_type": "display_data"
    },
    {
     "name": "stdout",
     "output_type": "stream",
     "text": [
      "0 1 1 0 1 1 1 1 0 0 0 0 0 0 0 0 0 1 1 1 "
     ]
    },
    {
     "data": {
      "text/html": [
       "\n",
       "                <audio  controls=\"controls\" autoplay=\"autoplay\">\n",
       "                    <source src=\"data:audio/wav;base64,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\" type=\"audio/wav\" />\n",
       "                    Your browser does not support the audio element.\n",
       "                </audio>\n",
       "              "
      ],
      "text/plain": [
       "<IPython.lib.display.Audio object>"
      ]
     },
     "metadata": {},
     "output_type": "display_data"
    },
    {
     "name": "stdout",
     "output_type": "stream",
     "text": [
      "0 0 0 1 0 1 1 0 1 1 0 0 0 0 0 0 0 0 0 0 1 "
     ]
    }
   ],
   "source": [
    "threshold = 0.6\n",
    "history = []\n",
    "fail_count = 0\n",
    "pushup_count = 0\n",
    "num_frames_requirement = 3\n",
    "pushup_down_done = False\n",
    "\n",
    "cap = cv2.VideoCapture(0)\n",
    "\n",
    "while cap.isOpened():\n",
    "    # Read feed\n",
    "    ret, frame = cap.read()\n",
    "    #frame = cv2.flip(frame, 1)\n",
    "\n",
    "    cv2.putText(frame, \"push up count:\"+str(pushup_count), (3,30), cv2.FONT_HERSHEY_SIMPLEX, 1, (255, 255, 255), 2, cv2.LINE_AA)\n",
    "\n",
    "    keypoints = processPose(frame).flatten().reshape(1, 51)\n",
    "    \n",
    "    if body_is_visible(keypoints):\n",
    "        y_pred = model.predict(keypoints)\n",
    "        pushup_pose = np.argmax(y_pred)\n",
    "        pose_confidence = y_pred[0][pushup_pose]\n",
    "        \n",
    "        print(pushup_pose, end=\" \") #######\n",
    "        \n",
    "        if pose_confidence > threshold:\n",
    "            # reset continuous fail count\n",
    "            fail_count = 0\n",
    "\n",
    "            history.append(pushup_pose)\n",
    "            \n",
    "            if len(history) >= (2*num_frames_requirement):\n",
    "                if allEqual(history[(-1*num_frames_requirement):]):\n",
    "                    if history[(-1*num_frames_requirement)] != history[(-1*num_frames_requirement)-1]:\n",
    "                        if allEqual(history[(-2*num_frames_requirement):(-1*num_frames_requirement)]):\n",
    "                            if pushup_pose == 0:\n",
    "                                pushup_down_done = True\n",
    "                            else:\n",
    "                                if pushup_down_done:\n",
    "                                    pushup_count += 1\n",
    "                                    pushup_down_done = False\n",
    "                                    cv2.putText(frame, \"push up count:\"+str(pushup_count), (3,30), cv2.FONT_HERSHEY_SIMPLEX, 1, (255, 255, 255), 2, cv2.LINE_AA)\n",
    "                                    threading.Thread(target=text_to_speech, args=[str(pushup_count)+\" pushup\"]).start()\n",
    "#                                         t = threading.Thread(target=text_to_speech, args=[str(pushup_count)+\" pushup\"])\n",
    "#                                         t.start()\n",
    "#                                         t.join()\n",
    "#         else:\n",
    "#             fail_count += 1\n",
    "#             if fail_count > 100:\n",
    "#                 history = []\n",
    "#                 pushup_down_done = False\n",
    "\n",
    "    cv2.imshow('OpenCV Feed', frame)\n",
    "\n",
    "    if cv2.waitKey(10) & 0xFF == ord('q'):\n",
    "        break\n",
    "cap.release()\n",
    "cv2.destroyAllWindows()"
   ]
  },
  {
   "cell_type": "code",
   "execution_count": null,
   "id": "91fb2a6f",
   "metadata": {},
   "outputs": [],
   "source": []
  }
 ],
 "metadata": {
  "kernelspec": {
   "display_name": "Python 3 (ipykernel)",
   "language": "python",
   "name": "python3"
  },
  "language_info": {
   "codemirror_mode": {
    "name": "ipython",
    "version": 3
   },
   "file_extension": ".py",
   "mimetype": "text/x-python",
   "name": "python",
   "nbconvert_exporter": "python",
   "pygments_lexer": "ipython3",
   "version": "3.9.7"
  }
 },
 "nbformat": 4,
 "nbformat_minor": 5
}
