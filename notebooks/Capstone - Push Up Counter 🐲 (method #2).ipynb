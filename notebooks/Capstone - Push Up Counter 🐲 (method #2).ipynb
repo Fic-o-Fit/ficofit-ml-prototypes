{
 "cells": [
  {
   "cell_type": "code",
   "execution_count": 1,
   "id": "1aa9e84e",
   "metadata": {},
   "outputs": [],
   "source": [
    "#!pip install tensorflow opencv-python matplotlib sklearn gTTS ipython"
   ]
  },
  {
   "cell_type": "code",
   "execution_count": 2,
   "id": "83005088",
   "metadata": {},
   "outputs": [],
   "source": [
    "import tensorflow as tf\n",
    "import numpy as np\n",
    "import cv2\n",
    "from gtts import gTTS\n",
    "from IPython.display import Audio\n",
    "import threading\n",
    "import time\n",
    "import enum\n",
    "\n",
    "# Import matplotlib libraries\n",
    "from matplotlib import pyplot as plt\n",
    "from matplotlib.collections import LineCollection\n",
    "import matplotlib.patches as patches\n"
   ]
  },
  {
   "cell_type": "code",
   "execution_count": 3,
   "id": "be9449b6",
   "metadata": {},
   "outputs": [],
   "source": [
    "# model = tf.keras.models.load_model('pushup-counter-softmax.h5')\n",
    "# model = tf.keras.models.load_model('pushup-counter-with-reduced-landmark-and-sigmoid.h5')\n",
    "# model = tf.keras.models.load_model('pushup-counter-movenet.h5')"
   ]
  },
  {
   "cell_type": "code",
   "execution_count": 4,
   "id": "5234d6f1",
   "metadata": {},
   "outputs": [],
   "source": [
    "pushup_model_folder = 'models/pushup-model-31may22.tflite'\n",
    "pushup_model = tf.lite.Interpreter(model_path=pushup_model_folder)\n",
    "pushup_model.allocate_tensors()"
   ]
  },
  {
   "cell_type": "code",
   "execution_count": 5,
   "id": "d39943a7",
   "metadata": {},
   "outputs": [],
   "source": [
    "movenet_folder = 'models/movenet_lightning.tflite'\n",
    "movenet = tf.lite.Interpreter(model_path=movenet_folder)\n",
    "movenet.allocate_tensors()"
   ]
  },
  {
   "cell_type": "code",
   "execution_count": 6,
   "id": "580b7ba5",
   "metadata": {},
   "outputs": [],
   "source": [
    "# Source: the Movenet TFLite Documentation\n",
    "class BodyPart(enum.Enum):\n",
    "    \"\"\"Enum representing human body keypoints detected by pose estimation models.\"\"\"\n",
    "    NOSE = 0\n",
    "    LEFT_EYE = 1\n",
    "    RIGHT_EYE = 2\n",
    "    LEFT_EAR = 3\n",
    "    RIGHT_EAR = 4\n",
    "    LEFT_SHOULDER = 5\n",
    "    RIGHT_SHOULDER = 6\n",
    "    LEFT_ELBOW = 7\n",
    "    RIGHT_ELBOW = 8\n",
    "    LEFT_WRIST = 9\n",
    "    RIGHT_WRIST = 10\n",
    "    LEFT_HIP = 11\n",
    "    RIGHT_HIP = 12\n",
    "    LEFT_KNEE = 13\n",
    "    RIGHT_KNEE = 14\n",
    "    LEFT_ANKLE = 15\n",
    "    RIGHT_ANKLE = 16"
   ]
  },
  {
   "cell_type": "code",
   "execution_count": 7,
   "id": "025fcf74",
   "metadata": {},
   "outputs": [],
   "source": [
    "def processPose(image):\n",
    "    img = tf.image.resize_with_pad(np.expand_dims(image, axis=0), 192,192)\n",
    "    img = tf.cast(img, dtype=tf.float32)\n",
    "    input_details = movenet.get_input_details()\n",
    "    output_details = movenet.get_output_details()\n",
    "    movenet.set_tensor(input_details[0]['index'], np.array(img))\n",
    "    # Invoke inference.\n",
    "    movenet.invoke()\n",
    "    # Get the model prediction.\n",
    "    keypoints_with_scores = movenet.get_tensor(output_details[0]['index'])\n",
    "    keypoints = keypoints_with_scores.flatten().reshape(17,3)\n",
    "    fixed_keypoints = []\n",
    "    for [x, y, score] in keypoints:\n",
    "        if score < 0.2:\n",
    "            fixed_keypoints.append([0, 0, 0])\n",
    "        else:\n",
    "            fixed_keypoints.append([x, y, score])\n",
    "    return np.array(fixed_keypoints)"
   ]
  },
  {
   "cell_type": "code",
   "execution_count": 8,
   "id": "0ee42f5b",
   "metadata": {},
   "outputs": [],
   "source": [
    "def text_to_speech(sentence):\n",
    "    tts = gTTS(sentence) #Provide the string to convert to speech\n",
    "    sound_file = '1.wav'\n",
    "    tts.save(sound_file) #save the string converted to speech as a .wav file\n",
    "    display(Audio('1.wav', autoplay=True))"
   ]
  },
  {
   "cell_type": "code",
   "execution_count": 9,
   "id": "439e59d2",
   "metadata": {},
   "outputs": [],
   "source": [
    "def body_is_visible(keypoints):\n",
    "    keypoints = keypoints.reshape(17, 3)\n",
    "    # shoulder, elbow, wrist, hip, knee must be visible\n",
    "    important_bodyparts = [5, 7, 9, 11, 13] #this is only for the left part\n",
    "    for index in important_bodyparts:\n",
    "        if (keypoints[index][2] < 0.2) and (keypoints[index+1][2] < 0.2):  # one of the left and right bodypart needs to be seen\n",
    "            return False\n",
    "    return True"
   ]
  },
  {
   "cell_type": "code",
   "execution_count": 10,
   "id": "1bf0bff2",
   "metadata": {},
   "outputs": [],
   "source": [
    "def is_pushup(keypoints):\n",
    "    threshold = 0.9\n",
    "    keypoints = tf.cast(keypoints, dtype=tf.float32) # convert from float64 to float32\n",
    "    \n",
    "    input_details = pushup_model.get_input_details()\n",
    "    output_details = pushup_model.get_output_details()\n",
    "    pushup_model.set_tensor(input_details[0]['index'], keypoints)\n",
    "    # Invoke inference.\n",
    "    pushup_model.invoke()\n",
    "    # Get the model prediction.\n",
    "    \n",
    "    result = pushup_model.get_tensor(output_details[0]['index'])\n",
    "    status = np.argmax(result)\n",
    "    confidence = result[0][status]\n",
    "#     print(result)\n",
    "    \n",
    "    if ((result[0][1] > threshold) or (result[0][2] > threshold)) and body_is_visible(np.array(keypoints)):\n",
    "        return True\n",
    "    return False\n",
    "    \n",
    "#     if (status == 1) and (confidence > threshold) and body_is_visible(np.array(keypoints)):\n",
    "#         return True\n",
    "#     return False"
   ]
  },
  {
   "cell_type": "code",
   "execution_count": 11,
   "id": "8a3dbba4",
   "metadata": {},
   "outputs": [
    {
     "name": "stdout",
     "output_type": "stream",
     "text": [
      "0\n"
     ]
    }
   ],
   "source": [
    "print(BodyPart.NOSE.value)"
   ]
  },
  {
   "cell_type": "code",
   "execution_count": 12,
   "id": "8853dad7",
   "metadata": {},
   "outputs": [
    {
     "name": "stdout",
     "output_type": "stream",
     "text": [
      "True\n"
     ]
    }
   ],
   "source": [
    "# im just trying to test with static image first\n",
    "image = cv2.imread('008_139e64eb.jpg')\n",
    "keypoints = processPose(image).flatten().reshape(1, 51)\n",
    "\n",
    "print(is_pushup(keypoints))"
   ]
  },
  {
   "cell_type": "code",
   "execution_count": 13,
   "id": "101434d7",
   "metadata": {},
   "outputs": [],
   "source": [
    "def is_increasing(arr):\n",
    "    # this list will show if the majority of the elements are increasing\n",
    "    # from the previous element or not (True means it increased)\n",
    "    status = []\n",
    "    threshold = 0.8   # the minimum percentage of True status list element\n",
    "    for i in range(1, len(arr)):\n",
    "        if arr[i] > arr[i-1]:\n",
    "            status.append(True)\n",
    "        else:\n",
    "            status.append(False)\n",
    "    true_percentage = status.count(True) / (len(arr)-1)*1.0\n",
    "    if true_percentage >= threshold:\n",
    "        return True\n",
    "    else:\n",
    "        return False\n",
    "    \n",
    "\n",
    "def is_decreasing(arr):\n",
    "    # this list will show if the majority of the elements are decreasing\n",
    "    # from the previous element or not (True means it decreased)\n",
    "    status = []\n",
    "    threshold = 0.8   # the minimum percentage of True status list element\n",
    "    for i in range(1, len(arr)):\n",
    "        if arr[i] < arr[i-1]:\n",
    "            status.append(True)\n",
    "        else:\n",
    "            status.append(False)\n",
    "    true_percentage = status.count(True) / (len(arr)-1)*1.0\n",
    "    if true_percentage >= threshold:\n",
    "        return True\n",
    "    else:\n",
    "        return False"
   ]
  },
  {
   "cell_type": "code",
   "execution_count": 14,
   "id": "5d818295",
   "metadata": {},
   "outputs": [
    {
     "name": "stdout",
     "output_type": "stream",
     "text": [
      "True\n"
     ]
    },
    {
     "data": {
      "text/plain": [
       "range(1, 3)"
      ]
     },
     "execution_count": 14,
     "metadata": {},
     "output_type": "execute_result"
    }
   ],
   "source": [
    "print(is_decreasing([329, 324, 322]))\n",
    "range(1, len([329, 324, 322]))"
   ]
  },
  {
   "cell_type": "code",
   "execution_count": 15,
   "id": "a83f601d",
   "metadata": {},
   "outputs": [],
   "source": [
    "def calculate_angle(a,b,c):\n",
    "    a = np.array(a) # First\n",
    "    b = np.array(b) # Middle\n",
    "    c = np.array(c) # End\n",
    "    \n",
    "    radians = np.arctan2(c[1]-b[1], c[0]-b[0]) - np.arctan2(a[1]-b[1], a[0]-b[0])\n",
    "    angle = np.abs(radians*180.0/np.pi)\n",
    "    \n",
    "    if angle > 180.0:\n",
    "        angle = 360-angle\n",
    "        \n",
    "    return angle"
   ]
  },
  {
   "cell_type": "code",
   "execution_count": 16,
   "id": "5a6545ca",
   "metadata": {},
   "outputs": [],
   "source": [
    "#@title Helper functions for visualization\n",
    "\n",
    "# Dictionary that maps from joint names to keypoint indices.\n",
    "KEYPOINT_DICT = {\n",
    "    'nose': 0,\n",
    "    'left_eye': 1,\n",
    "    'right_eye': 2,\n",
    "    'left_ear': 3,\n",
    "    'right_ear': 4,\n",
    "    'left_shoulder': 5,\n",
    "    'right_shoulder': 6,\n",
    "    'left_elbow': 7,\n",
    "    'right_elbow': 8,\n",
    "    'left_wrist': 9,\n",
    "    'right_wrist': 10,\n",
    "    'left_hip': 11,\n",
    "    'right_hip': 12,\n",
    "    'left_knee': 13,\n",
    "    'right_knee': 14,\n",
    "    'left_ankle': 15,\n",
    "    'right_ankle': 16\n",
    "}\n",
    "\n",
    "# Maps bones to a matplotlib color name.\n",
    "KEYPOINT_EDGE_INDS_TO_COLOR = {\n",
    "    (0, 1): 'm',\n",
    "    (0, 2): 'c',\n",
    "    (1, 3): 'm',\n",
    "    (2, 4): 'c',\n",
    "    (0, 5): 'm',\n",
    "    (0, 6): 'c',\n",
    "    (5, 7): 'm',\n",
    "    (7, 9): 'm',\n",
    "    (6, 8): 'c',\n",
    "    (8, 10): 'c',\n",
    "    (5, 6): 'y',\n",
    "    (5, 11): 'm',\n",
    "    (6, 12): 'c',\n",
    "    (11, 12): 'y',\n",
    "    (11, 13): 'm',\n",
    "    (13, 15): 'm',\n",
    "    (12, 14): 'c',\n",
    "    (14, 16): 'c'\n",
    "}\n",
    "\n",
    "def _keypoints_and_edges_for_display(keypoints_with_scores,\n",
    "                                     height,\n",
    "                                     width,\n",
    "                                     keypoint_threshold=0.11):\n",
    "    \"\"\"Returns high confidence keypoints and edges for visualization.\n",
    "\n",
    "    Args:\n",
    "    keypoints_with_scores: A numpy array with shape [1, 1, 17, 3] representing\n",
    "      the keypoint coordinates and scores returned from the MoveNet model.\n",
    "    height: height of the image in pixels.\n",
    "    width: width of the image in pixels.\n",
    "    keypoint_threshold: minimum confidence score for a keypoint to be\n",
    "      visualized.\n",
    "\n",
    "    Returns:\n",
    "    A (keypoints_xy, edges_xy, edge_colors) containing:\n",
    "      * the coordinates of all keypoints of all detected entities;\n",
    "      * the coordinates of all skeleton edges of all detected entities;\n",
    "      * the colors in which the edges should be plotted.\n",
    "    \"\"\"\n",
    "    keypoints_all = []\n",
    "    keypoint_edges_all = []\n",
    "    edge_colors = []\n",
    "    num_instances, _, _, _ = keypoints_with_scores.shape\n",
    "    for idx in range(num_instances):\n",
    "        kpts_x = keypoints_with_scores[0, idx, :, 1]\n",
    "        kpts_y = keypoints_with_scores[0, idx, :, 0]\n",
    "        kpts_scores = keypoints_with_scores[0, idx, :, 2]\n",
    "        kpts_absolute_xy = np.stack(\n",
    "            [width * np.array(kpts_x), height * np.array(kpts_y)], axis=-1)\n",
    "        kpts_above_thresh_absolute = kpts_absolute_xy[\n",
    "            kpts_scores > keypoint_threshold, :]\n",
    "        keypoints_all.append(kpts_above_thresh_absolute)\n",
    "\n",
    "        for edge_pair, color in KEYPOINT_EDGE_INDS_TO_COLOR.items():\n",
    "            if (kpts_scores[edge_pair[0]] > keypoint_threshold and\n",
    "              kpts_scores[edge_pair[1]] > keypoint_threshold):\n",
    "                x_start = kpts_absolute_xy[edge_pair[0], 0]\n",
    "                y_start = kpts_absolute_xy[edge_pair[0], 1]\n",
    "                x_end = kpts_absolute_xy[edge_pair[1], 0]\n",
    "                y_end = kpts_absolute_xy[edge_pair[1], 1]\n",
    "                line_seg = np.array([[x_start, y_start], [x_end, y_end]])\n",
    "                keypoint_edges_all.append(line_seg)\n",
    "                edge_colors.append(color)\n",
    "    if keypoints_all:\n",
    "        keypoints_xy = np.concatenate(keypoints_all, axis=0)\n",
    "    else:\n",
    "        keypoints_xy = np.zeros((0, 17, 2))\n",
    "\n",
    "    if keypoint_edges_all:\n",
    "        edges_xy = np.stack(keypoint_edges_all, axis=0)\n",
    "    else:\n",
    "        edges_xy = np.zeros((0, 2, 2))\n",
    "    return keypoints_xy, edges_xy, edge_colors\n",
    "\n",
    "\n",
    "def draw_prediction_on_image(\n",
    "    image, keypoints_with_scores, crop_region=None, close_figure=False,\n",
    "    output_image_height=None):\n",
    "    \"\"\"Draws the keypoint predictions on image.\n",
    "\n",
    "    Args:\n",
    "    image: A numpy array with shape [height, width, channel] representing the\n",
    "      pixel values of the input image.\n",
    "    keypoints_with_scores: A numpy array with shape [1, 1, 17, 3] representing\n",
    "      the keypoint coordinates and scores returned from the MoveNet model.\n",
    "    crop_region: A dictionary that defines the coordinates of the bounding box\n",
    "      of the crop region in normalized coordinates (see the init_crop_region\n",
    "      function below for more detail). If provided, this function will also\n",
    "      draw the bounding box on the image.\n",
    "    output_image_height: An integer indicating the height of the output image.\n",
    "      Note that the image aspect ratio will be the same as the input image.\n",
    "\n",
    "    Returns:\n",
    "    A numpy array with shape [out_height, out_width, channel] representing the\n",
    "    image overlaid with keypoint predictions.\n",
    "    \"\"\"\n",
    "    height, width, channel = image.shape\n",
    "    aspect_ratio = float(width) / height\n",
    "    fig, ax = plt.subplots(figsize=(12 * aspect_ratio, 12))\n",
    "    # To remove the huge white borders\n",
    "    fig.tight_layout(pad=0)\n",
    "    ax.margins(0)\n",
    "    ax.set_yticklabels([])\n",
    "    ax.set_xticklabels([])\n",
    "    plt.axis('off')\n",
    "\n",
    "    im = ax.imshow(image)\n",
    "    line_segments = LineCollection([], linewidths=(4), linestyle='solid')\n",
    "    ax.add_collection(line_segments)\n",
    "    # Turn off tick labels\n",
    "    scat = ax.scatter([], [], s=60, color='#FF1493', zorder=3)\n",
    "\n",
    "    (keypoint_locs, keypoint_edges,\n",
    "    edge_colors) = _keypoints_and_edges_for_display(\n",
    "       keypoints_with_scores, height, width)\n",
    "\n",
    "    line_segments.set_segments(keypoint_edges)\n",
    "    line_segments.set_color(edge_colors)\n",
    "    if keypoint_edges.shape[0]:\n",
    "        line_segments.set_segments(keypoint_edges)\n",
    "        line_segments.set_color(edge_colors)\n",
    "    if keypoint_locs.shape[0]:\n",
    "        scat.set_offsets(keypoint_locs)\n",
    "\n",
    "    if crop_region is not None:\n",
    "        xmin = max(crop_region['x_min'] * width, 0.0)\n",
    "        ymin = max(crop_region['y_min'] * height, 0.0)\n",
    "        rec_width = min(crop_region['x_max'], 0.99) * width - xmin\n",
    "        rec_height = min(crop_region['y_max'], 0.99) * height - ymin\n",
    "        rect = patches.Rectangle(\n",
    "            (xmin,ymin),rec_width,rec_height,\n",
    "            linewidth=1,edgecolor='b',facecolor='none')\n",
    "        ax.add_patch(rect)\n",
    "\n",
    "    fig.canvas.draw()\n",
    "    image_from_plot = np.frombuffer(fig.canvas.tostring_rgb(), dtype=np.uint8)\n",
    "    image_from_plot = image_from_plot.reshape(\n",
    "      fig.canvas.get_width_height()[::-1] + (3,))\n",
    "    plt.close(fig)\n",
    "    if output_image_height is not None:\n",
    "        output_image_width = int(output_image_height / height * width)\n",
    "        image_from_plot = cv2.resize(\n",
    "            image_from_plot, dsize=(output_image_width, output_image_height),\n",
    "             interpolation=cv2.INTER_CUBIC)\n",
    "    return image_from_plot"
   ]
  },
  {
   "cell_type": "code",
   "execution_count": 17,
   "id": "d0098cbf",
   "metadata": {},
   "outputs": [],
   "source": [
    " def movenet_process(input_image):\n",
    "    input_image = tf.image.resize_with_pad(np.expand_dims(input_image, axis=0), 192,192)\n",
    "    input_image = tf.cast(input_image, dtype=tf.float32)\n",
    "    input_details = movenet.get_input_details()\n",
    "    output_details = movenet.get_output_details()\n",
    "    movenet.set_tensor(input_details[0]['index'], input_image.numpy())\n",
    "    # Invoke inference.\n",
    "    movenet.invoke()\n",
    "    # Get the model prediction.\n",
    "    keypoints_with_scores = movenet.get_tensor(output_details[0]['index'])\n",
    "    return keypoints_with_scores"
   ]
  },
  {
   "cell_type": "code",
   "execution_count": 22,
   "id": "5247fc33",
   "metadata": {},
   "outputs": [
    {
     "name": "stdout",
     "output_type": "stream",
     "text": [
      "*46 ***48 *45 ***46 *****47 [46, 48, 45, 46, 47] *46 [48, 45, 46, 47, 46] *47 [45, 46, 47, 46, 47] *46 [46, 47, 46, 47, 46] ***45 [47, 46, 47, 46, 45] *******46 [46, 47, 46, 45, 46] **********47 [47, 46, 45, 46, 47] *****48 [46, 45, 46, 47, 48] *51 [45, 46, 47, 48, 51] up *55 [46, 47, 48, 51, 55] up *56 [47, 48, 51, 55, 56] up *60 [48, 51, 55, 56, 60] up *61 [51, 55, 56, 60, 61] up *62 [55, 56, 60, 61, 62] up *64 [56, 60, 61, 62, 64] up ****63 [60, 61, 62, 64, 63] *62 [61, 62, 64, 63, 62] **60 [62, 64, 63, 62, 60] *59 [64, 63, 62, 60, 59] dw *57 [63, 62, 60, 59, 57] dw *55 [62, 60, 59, 57, 55] dw *50 [60, 59, 57, 55, 50] dw *49 [59, 57, 55, 50, 49] dw *47 [57, 55, 50, 49, 47] dw *46 [55, 50, 49, 47, 46] dw **47 [50, 49, 47, 46, 47] **49 [49, 47, 46, 47, 49] *50 [47, 46, 47, 49, 50] *52 [46, 47, 49, 50, 52] up 1\n",
      "*54 [47, 49, 50, 52, 54] up *56 [49, 50, 52, 54, 56] up *58 [50, 52, 54, 56, 58] up *59 [52, 54, 56, 58, 59] up "
     ]
    },
    {
     "data": {
      "text/html": [
       "\n",
       "                <audio  controls=\"controls\" autoplay=\"autoplay\">\n",
       "                    <source src=\"data:audio/wav;base64,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\" type=\"audio/wav\" />\n",
       "                    Your browser does not support the audio element.\n",
       "                </audio>\n",
       "              "
      ],
      "text/plain": [
       "<IPython.lib.display.Audio object>"
      ]
     },
     "metadata": {},
     "output_type": "display_data"
    },
    {
     "name": "stdout",
     "output_type": "stream",
     "text": [
      "*60 [54, 56, 58, 59, 60] up *61 [56, 58, 59, 60, 61] up *62 [58, 59, 60, 61, 62] up *64 [59, 60, 61, 62, 64] up ****62 [60, 61, 62, 64, 62] **61 [61, 62, 64, 62, 61] *60 [62, 64, 62, 61, 60] *57 [64, 62, 61, 60, 57] dw *56 [62, 61, 60, 57, 56] dw *54 [61, 60, 57, 56, 54] dw *51 [60, 57, 56, 54, 51] dw *49 [57, 56, 54, 51, 49] dw *50 [56, 54, 51, 49, 50] *52 [54, 51, 49, 50, 52] *54 [51, 49, 50, 52, 54] *56 [49, 50, 52, 54, 56] up 2\n",
      "*59 [50, 52, 54, 56, 59] up *60 [52, 54, 56, 59, 60] up "
     ]
    },
    {
     "data": {
      "text/html": [
       "\n",
       "                <audio  controls=\"controls\" autoplay=\"autoplay\">\n",
       "                    <source src=\"data:audio/wav;base64,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\" type=\"audio/wav\" />\n",
       "                    Your browser does not support the audio element.\n",
       "                </audio>\n",
       "              "
      ],
      "text/plain": [
       "<IPython.lib.display.Audio object>"
      ]
     },
     "metadata": {},
     "output_type": "display_data"
    },
    {
     "name": "stdout",
     "output_type": "stream",
     "text": [
      "*62 [54, 56, 59, 60, 62] up *64 [56, 59, 60, 62, 64] up ***63 [59, 60, 62, 64, 63] *62 [60, 62, 64, 63, 62] *61 [62, 64, 63, 62, 61] *60 [64, 63, 62, 61, 60] dw *58 [63, 62, 61, 60, 58] dw *57 [62, 61, 60, 58, 57] dw *55 [61, 60, 58, 57, 55] dw *52 [60, 58, 57, 55, 52] dw *50 [58, 57, 55, 52, 50] dw *49 [57, 55, 52, 50, 49] dw *48 [55, 52, 50, 49, 48] dw ***49 [52, 50, 49, 48, 49] *50 [50, 49, 48, 49, 50] *55 [49, 48, 49, 50, 55] *58 [48, 49, 50, 55, 58] up 3\n",
      "*59 [49, 50, 55, 58, 59] up *60 [50, 55, 58, 59, 60] up "
     ]
    },
    {
     "data": {
      "text/html": [
       "\n",
       "                <audio  controls=\"controls\" autoplay=\"autoplay\">\n",
       "                    <source src=\"data:audio/wav;base64,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\" type=\"audio/wav\" />\n",
       "                    Your browser does not support the audio element.\n",
       "                </audio>\n",
       "              "
      ],
      "text/plain": [
       "<IPython.lib.display.Audio object>"
      ]
     },
     "metadata": {},
     "output_type": "display_data"
    },
    {
     "name": "stdout",
     "output_type": "stream",
     "text": [
      "*61 [55, 58, 59, 60, 61] up *62 [58, 59, 60, 61, 62] up *64 [59, 60, 61, 62, 64] up ***62 [60, 61, 62, 64, 62] **59 [61, 62, 64, 62, 59] *58 [62, 64, 62, 59, 58] *56 [64, 62, 59, 58, 56] dw *51 [62, 59, 58, 56, 51] dw *49 [59, 58, 56, 51, 49] dw *48 [58, 56, 51, 49, 48] dw *47 [56, 51, 49, 48, 47] dw ***48 [51, 49, 48, 47, 48] *50 [49, 48, 47, 48, 50] *55 [48, 47, 48, 50, 55] *60 [47, 48, 50, 55, 60] up 4\n",
      "*62 [48, 50, 55, 60, 62] up "
     ]
    },
    {
     "data": {
      "text/html": [
       "\n",
       "                <audio  controls=\"controls\" autoplay=\"autoplay\">\n",
       "                    <source src=\"data:audio/wav;base64,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\" type=\"audio/wav\" />\n",
       "                    Your browser does not support the audio element.\n",
       "                </audio>\n",
       "              "
      ],
      "text/plain": [
       "<IPython.lib.display.Audio object>"
      ]
     },
     "metadata": {},
     "output_type": "display_data"
    },
    {
     "name": "stdout",
     "output_type": "stream",
     "text": [
      "*63 [50, 55, 60, 62, 63] up *64 [55, 60, 62, 63, 64] up "
     ]
    }
   ],
   "source": [
    "shoulder_height = 0\n",
    "history = []\n",
    "fail_count = 0\n",
    "pushup_count = 0\n",
    "num_frames_requirement = 5\n",
    "pushup_down_done = False\n",
    "\n",
    "cap = cv2.VideoCapture(\"tests/pushup-video-1x.mp4\")\n",
    "\n",
    "while cap.isOpened():\n",
    "    # Read feed\n",
    "    ret, frame = cap.read()\n",
    "    #frame = cv2.flip(frame, 1)\n",
    "    \n",
    "    if ret != True:\n",
    "        break\n",
    "\n",
    "    cv2.putText(frame, \"push up count:\"+str(pushup_count), (3,30), cv2.FONT_HERSHEY_SIMPLEX, 1, (255, 255, 255), 2, cv2.LINE_AA)\n",
    "\n",
    "    keypoints = processPose(frame).flatten().reshape(1, 51)\n",
    "    \n",
    "    if is_pushup(keypoints):\n",
    "        print(\"*\", end =\"\")\n",
    "        fail_count = 0\n",
    "        keypoints = keypoints.reshape(17, 3)\n",
    "        \n",
    "        if keypoints[BodyPart.NOSE.value][1] > keypoints[BodyPart.RIGHT_KNEE.value][1]: #bagian kanan di depan kamera\n",
    "            shoulder_y = keypoints[BodyPart.RIGHT_SHOULDER.value][0] # the y coordinate is in the first element\n",
    "        else:\n",
    "            shoulder_y = keypoints[BodyPart.LEFT_SHOULDER.value][0]     \n",
    "\n",
    "        head_height = shoulder_y \n",
    "        \n",
    "        head_height = int(head_height*100)\n",
    "        \n",
    "        if (len(history) == 0) or (head_height != history[-1]):\n",
    "            history.append(head_height)\n",
    "            print(head_height, end=\" \")\n",
    "            \n",
    "            if len(history) >= num_frames_requirement:\n",
    "                print(history[-num_frames_requirement:], end=\" \")\n",
    "                if is_decreasing(history[-num_frames_requirement:]):\n",
    "                    pushup_down_done = True\n",
    "                    print(\"dw\", end=\" \")\n",
    "                elif is_increasing(history[-num_frames_requirement:]):\n",
    "                    print(\"up\", end=\" \")\n",
    "                    if pushup_down_done:\n",
    "                        pushup_count += 1\n",
    "                        print(pushup_count)\n",
    "                        pushup_down_done = False\n",
    "                        cv2.putText(frame, \"push up count:\"+str(pushup_count), (3,30), cv2.FONT_HERSHEY_SIMPLEX, 1, (255, 255, 255), 2, cv2.LINE_AA)\n",
    "                        threading.Thread(target=text_to_speech, args=[str(pushup_count)+\" pushup\"]).start()\n",
    "        \n",
    "#     else:\n",
    "#         print(\"-\", end =\"\")\n",
    "#         fail_count += 1\n",
    "#         if fail_count > 100:\n",
    "#             history = []\n",
    "#             pushup_down_done = False\n",
    "\n",
    "    cv2.imshow('Frame', frame)\n",
    "\n",
    "    if cv2.waitKey(10) & 0xFF == ord('q'):\n",
    "        break\n",
    "cap.release()\n",
    "cv2.destroyAllWindows()"
   ]
  },
  {
   "cell_type": "code",
   "execution_count": 18,
   "id": "06787417",
   "metadata": {},
   "outputs": [],
   "source": [
    "# shoulder_height = 0\n",
    "# history = []\n",
    "# fail_count = 0\n",
    "# pushup_count = 0\n",
    "# num_frames_requirement = 5\n",
    "# pushup_down_done = False\n",
    "\n",
    "\n",
    "# cap = cv2.VideoCapture(\"tests/pushup-video-1x.mp4\")\n",
    "\n",
    "# while cap.isOpened():\n",
    "#     # Read feed\n",
    "#     ret, frame = cap.read()\n",
    "#     #frame = cv2.flip(frame, 1)\n",
    "    \n",
    "#     if ret != True:\n",
    "#         break\n",
    "#     status = False\n",
    "# #     cv2.putText(frame, \"push up count:\"+str(pushup_count), (3,30), cv2.FONT_HERSHEY_SIMPLEX, 1, (255, 255, 255), 2, cv2.LINE_AA)\n",
    "\n",
    "#     keypoints = processPose(frame).flatten().reshape(1, 51)\n",
    "    \n",
    "#     if is_pushup(keypoints):\n",
    "# #         print(\"*\", end =\"\")\n",
    "# #         fail_count = 0\n",
    "#         status = True\n",
    "#         keypoints = keypoints.reshape(17, 3)\n",
    "# #         print(keypoints[BodyPart.NOSE.value][1], end=\" \")\n",
    "# #         print(keypoints[BodyPart.RIGHT_KNEE.value][1])\n",
    "        \n",
    "#         if keypoints[BodyPart.NOSE.value][1] < keypoints[BodyPart.RIGHT_KNEE.value][1]: #badan bagian kanan ke arah kamera\n",
    "#             knee_xy = keypoints[BodyPart.RIGHT_KNEE.value][:2]\n",
    "#             shoulder_xy = keypoints[BodyPart.RIGHT_SHOULDER.value][:2]\n",
    "#             wrist_xy = keypoints[BodyPart.RIGHT_WRIST.value][:2]\n",
    "#             elbow_xy = keypoints[BodyPart.RIGHT_ELBOW.value][:2]\n",
    "#         else:\n",
    "#             knee_xy = keypoints[BodyPart.LEFT_KNEE.value][:2]\n",
    "#             shoulder_xy = keypoints[BodyPart.LEFT_SHOULDER.value][:2]\n",
    "#             wrist_xy = keypoints[BodyPart.LEFT_WRIST.value][:2]   \n",
    "#             elbow_xy = keypoints[BodyPart.LEFT_ELBOW.value][:2]\n",
    "\n",
    "#         angle = calculate_angle(shoulder_xy, elbow_xy, wrist_xy)\n",
    "#         cv2.putText(frame, \"angle:\"+str(int(angle)), (3,30), cv2.FONT_HERSHEY_SIMPLEX, 1, (255, 255, 255), 2, cv2.LINE_AA)\n",
    "# #         print(angle)\n",
    "        \n",
    "# #         if (len(history) == 0) or (head_height != history[-1]):\n",
    "# #             history.append(head_height)\n",
    "# #             print(head_height, end=\" \")\n",
    "            \n",
    "# #             if len(history) >= num_frames_requirement:\n",
    "# #                 print(history[-num_frames_requirement:], end=\" \")\n",
    "# #                 if is_decreasing(history[-num_frames_requirement:]):\n",
    "# #                     pushup_down_done = True\n",
    "# #                     print(\"dw\", end=\" \")\n",
    "# #                 elif is_increasing(history[-num_frames_requirement:]):\n",
    "# #                     print(\"up\", end=\" \")\n",
    "# #                     if pushup_down_done:\n",
    "# #                         pushup_count += 1\n",
    "# #                         print(pushup_count)\n",
    "# #                         pushup_down_done = False\n",
    "# #                         cv2.putText(frame, \"push up count:\"+str(pushup_count), (3,30), cv2.FONT_HERSHEY_SIMPLEX, 1, (255, 255, 255), 2, cv2.LINE_AA)\n",
    "# #                         threading.Thread(target=text_to_speech, args=[str(pushup_count)+\" pushup\"]).start()\n",
    "        \n",
    "# #     else:\n",
    "# #         print(\"-\", end =\"\")\n",
    "# #         fail_count += 1\n",
    "# #         if fail_count > 100:\n",
    "# #             history = []\n",
    "# #             pushup_down_done = False\n",
    "\n",
    "#     output = draw_prediction_on_image(frame, movenet_process(frame))\n",
    "#     cv2.imshow('Frame', output)\n",
    "# #     if(status):\n",
    "# #         time.sleep(0.5)\n",
    "    \n",
    "#     if cv2.waitKey(10) & 0xFF == ord('q'):\n",
    "#         break\n",
    "# cap.release()\n",
    "# cv2.destroyAllWindows()"
   ]
  },
  {
   "cell_type": "code",
   "execution_count": null,
   "id": "88231703",
   "metadata": {},
   "outputs": [],
   "source": []
  },
  {
   "cell_type": "code",
   "execution_count": null,
   "id": "91fb2a6f",
   "metadata": {},
   "outputs": [],
   "source": []
  }
 ],
 "metadata": {
  "kernelspec": {
   "display_name": "Python 3 (ipykernel)",
   "language": "python",
   "name": "python3"
  },
  "language_info": {
   "codemirror_mode": {
    "name": "ipython",
    "version": 3
   },
   "file_extension": ".py",
   "mimetype": "text/x-python",
   "name": "python",
   "nbconvert_exporter": "python",
   "pygments_lexer": "ipython3",
   "version": "3.9.7"
  }
 },
 "nbformat": 4,
 "nbformat_minor": 5
}
