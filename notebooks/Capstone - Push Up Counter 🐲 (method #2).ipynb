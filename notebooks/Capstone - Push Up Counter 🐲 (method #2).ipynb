{
 "cells": [
  {
   "cell_type": "code",
   "execution_count": 8,
   "id": "1aa9e84e",
   "metadata": {},
   "outputs": [],
   "source": [
    "#!pip install tensorflow opencv-python matplotlib sklearn gTTS ipython"
   ]
  },
  {
   "cell_type": "code",
   "execution_count": 9,
   "id": "83005088",
   "metadata": {},
   "outputs": [],
   "source": [
    "import tensorflow as tf\n",
    "import numpy as np\n",
    "import cv2\n",
    "from gtts import gTTS\n",
    "from IPython.display import Audio\n",
    "import threading\n",
    "import time\n",
    "import enum\n",
    "\n",
    "# Import matplotlib libraries\n",
    "from matplotlib import pyplot as plt\n",
    "from matplotlib.collections import LineCollection\n",
    "import matplotlib.patches as patches\n"
   ]
  },
  {
   "cell_type": "code",
   "execution_count": 10,
   "id": "be9449b6",
   "metadata": {},
   "outputs": [],
   "source": [
    "# model = tf.keras.models.load_model('pushup-counter-softmax.h5')\n",
    "# model = tf.keras.models.load_model('pushup-counter-with-reduced-landmark-and-sigmoid.h5')\n",
    "# model = tf.keras.models.load_model('pushup-counter-movenet.h5')"
   ]
  },
  {
   "cell_type": "code",
   "execution_count": 11,
   "id": "5234d6f1",
   "metadata": {},
   "outputs": [],
   "source": [
    "pushup_model_folder = 'models/pushup-model-31may22.tflite'\n",
    "pushup_model = tf.lite.Interpreter(model_path=pushup_model_folder)\n",
    "pushup_model.allocate_tensors()"
   ]
  },
  {
   "cell_type": "code",
   "execution_count": 12,
   "id": "d39943a7",
   "metadata": {},
   "outputs": [],
   "source": [
    "movenet_folder = 'models/movenet_lightning.tflite'\n",
    "movenet = tf.lite.Interpreter(model_path=movenet_folder)\n",
    "movenet.allocate_tensors()"
   ]
  },
  {
   "cell_type": "code",
   "execution_count": 13,
   "id": "580b7ba5",
   "metadata": {},
   "outputs": [],
   "source": [
    "# Source: the Movenet TFLite Documentation\n",
    "class BodyPart(enum.Enum):\n",
    "    \"\"\"Enum representing human body keypoints detected by pose estimation models.\"\"\"\n",
    "    NOSE = 0\n",
    "    LEFT_EYE = 1\n",
    "    RIGHT_EYE = 2\n",
    "    LEFT_EAR = 3\n",
    "    RIGHT_EAR = 4\n",
    "    LEFT_SHOULDER = 5\n",
    "    RIGHT_SHOULDER = 6\n",
    "    LEFT_ELBOW = 7\n",
    "    RIGHT_ELBOW = 8\n",
    "    LEFT_WRIST = 9\n",
    "    RIGHT_WRIST = 10\n",
    "    LEFT_HIP = 11\n",
    "    RIGHT_HIP = 12\n",
    "    LEFT_KNEE = 13\n",
    "    RIGHT_KNEE = 14\n",
    "    LEFT_ANKLE = 15\n",
    "    RIGHT_ANKLE = 16"
   ]
  },
  {
   "cell_type": "code",
   "execution_count": 14,
   "id": "025fcf74",
   "metadata": {},
   "outputs": [],
   "source": [
    "def processPose(image):\n",
    "    img = tf.image.resize_with_pad(np.expand_dims(image, axis=0), 192,192)\n",
    "    img = tf.cast(img, dtype=tf.float32)\n",
    "    input_details = movenet.get_input_details()\n",
    "    output_details = movenet.get_output_details()\n",
    "    movenet.set_tensor(input_details[0]['index'], np.array(img))\n",
    "    # Invoke inference.\n",
    "    movenet.invoke()\n",
    "    # Get the model prediction.\n",
    "    keypoints_with_scores = movenet.get_tensor(output_details[0]['index'])\n",
    "    keypoints = keypoints_with_scores.flatten().reshape(17,3)\n",
    "    fixed_keypoints = []\n",
    "    for [x, y, score] in keypoints:\n",
    "        if score < 0.2:\n",
    "            fixed_keypoints.append([0, 0, 0])\n",
    "        else:\n",
    "            fixed_keypoints.append([x, y, score])\n",
    "    return np.array(fixed_keypoints)"
   ]
  },
  {
   "cell_type": "code",
   "execution_count": 15,
   "id": "0ee42f5b",
   "metadata": {},
   "outputs": [],
   "source": [
    "def text_to_speech(sentence):\n",
    "    tts = gTTS(sentence) #Provide the string to convert to speech\n",
    "    sound_file = '1.wav'\n",
    "    tts.save(sound_file) #save the string converted to speech as a .wav file\n",
    "    display(Audio('1.wav', autoplay=True))"
   ]
  },
  {
   "cell_type": "code",
   "execution_count": 16,
   "id": "4a7d7e5f",
   "metadata": {},
   "outputs": [],
   "source": [
    "threading.Thread(target=text_to_speech, args=[\"start\"]).start()"
   ]
  },
  {
   "cell_type": "code",
   "execution_count": 17,
   "id": "439e59d2",
   "metadata": {},
   "outputs": [],
   "source": [
    "def body_is_visible(keypoints):\n",
    "    keypoints = keypoints.reshape(17, 3)\n",
    "    # shoulder, elbow, wrist, hip, knee must be visible\n",
    "    important_bodyparts = [5, 7, 9, 11, 13] #this is only for the left part\n",
    "    for index in important_bodyparts:\n",
    "        if (keypoints[index][2] < 0.2) and (keypoints[index+1][2] < 0.2):  # one of the left and right bodypart needs to be seen\n",
    "            return False\n",
    "    return True"
   ]
  },
  {
   "cell_type": "code",
   "execution_count": 18,
   "id": "1bf0bff2",
   "metadata": {},
   "outputs": [],
   "source": [
    "def is_pushup(keypoints):\n",
    "    threshold = 0.9\n",
    "    keypoints = tf.cast(keypoints, dtype=tf.float32) # convert from float64 to float32\n",
    "    \n",
    "    input_details = pushup_model.get_input_details()\n",
    "    output_details = pushup_model.get_output_details()\n",
    "    pushup_model.set_tensor(input_details[0]['index'], keypoints)\n",
    "    # Invoke inference.\n",
    "    pushup_model.invoke()\n",
    "    # Get the model prediction.\n",
    "    \n",
    "    result = pushup_model.get_tensor(output_details[0]['index'])\n",
    "    status = np.argmax(result)\n",
    "    confidence = result[0][status]\n",
    "#     print(result)\n",
    "    \n",
    "    if ((result[0][1] > threshold) or (result[0][2] > threshold)) and body_is_visible(np.array(keypoints)):\n",
    "        return True\n",
    "    return False\n",
    "    \n",
    "#     if (status == 1) and (confidence > threshold) and body_is_visible(np.array(keypoints)):\n",
    "#         return True\n",
    "#     return False"
   ]
  },
  {
   "cell_type": "code",
   "execution_count": 19,
   "id": "8a3dbba4",
   "metadata": {},
   "outputs": [
    {
     "name": "stdout",
     "output_type": "stream",
     "text": [
      "0\n"
     ]
    }
   ],
   "source": [
    "print(BodyPart.NOSE.value)"
   ]
  },
  {
   "cell_type": "code",
   "execution_count": 20,
   "id": "8853dad7",
   "metadata": {},
   "outputs": [
    {
     "data": {
      "text/html": [
       "\n",
       "                <audio  controls=\"controls\" autoplay=\"autoplay\">\n",
       "                    <source src=\"data:audio/wav;base64,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\" type=\"audio/wav\" />\n",
       "                    Your browser does not support the audio element.\n",
       "                </audio>\n",
       "              "
      ],
      "text/plain": [
       "<IPython.lib.display.Audio object>"
      ]
     },
     "metadata": {},
     "output_type": "display_data"
    },
    {
     "name": "stdout",
     "output_type": "stream",
     "text": [
      "True\n"
     ]
    }
   ],
   "source": [
    "# im just trying to test with static image first\n",
    "image = cv2.imread('008_139e64eb.jpg')\n",
    "keypoints = processPose(image).flatten().reshape(1, 51)\n",
    "\n",
    "print(is_pushup(keypoints))"
   ]
  },
  {
   "cell_type": "code",
   "execution_count": 21,
   "id": "101434d7",
   "metadata": {},
   "outputs": [],
   "source": [
    "def is_increasing(arr):\n",
    "    # this list will show if the majority of the elements are increasing\n",
    "    # from the previous element or not (True means it increased)\n",
    "    status = []\n",
    "    threshold = 0.8   # the minimum percentage of True status list element\n",
    "    for i in range(1, len(arr)):\n",
    "        if arr[i] > arr[i-1]:\n",
    "            status.append(True)\n",
    "        else:\n",
    "            status.append(False)\n",
    "    true_percentage = status.count(True) / (len(arr)-1)*1.0\n",
    "    if true_percentage >= threshold:\n",
    "        return True\n",
    "    else:\n",
    "        return False\n",
    "    \n",
    "\n",
    "def is_decreasing(arr):\n",
    "    # this list will show if the majority of the elements are decreasing\n",
    "    # from the previous element or not (True means it decreased)\n",
    "    status = []\n",
    "    threshold = 0.8   # the minimum percentage of True status list element\n",
    "    for i in range(1, len(arr)):\n",
    "        if arr[i] < arr[i-1]:\n",
    "            status.append(True)\n",
    "        else:\n",
    "            status.append(False)\n",
    "    true_percentage = status.count(True) / (len(arr)-1)*1.0\n",
    "    if true_percentage >= threshold:\n",
    "        return True\n",
    "    else:\n",
    "        return False"
   ]
  },
  {
   "cell_type": "code",
   "execution_count": 22,
   "id": "5d818295",
   "metadata": {},
   "outputs": [
    {
     "name": "stdout",
     "output_type": "stream",
     "text": [
      "True\n"
     ]
    },
    {
     "data": {
      "text/plain": [
       "range(1, 3)"
      ]
     },
     "execution_count": 22,
     "metadata": {},
     "output_type": "execute_result"
    }
   ],
   "source": [
    "print(is_decreasing([329, 324, 322]))\n",
    "range(1, len([329, 324, 322]))"
   ]
  },
  {
   "cell_type": "code",
   "execution_count": 23,
   "id": "a83f601d",
   "metadata": {},
   "outputs": [],
   "source": [
    "def calculate_angle(a,b,c):\n",
    "    a = np.array(a) # First\n",
    "    b = np.array(b) # Middle\n",
    "    c = np.array(c) # End\n",
    "    \n",
    "    radians = np.arctan2(c[1]-b[1], c[0]-b[0]) - np.arctan2(a[1]-b[1], a[0]-b[0])\n",
    "    angle = np.abs(radians*180.0/np.pi)\n",
    "    \n",
    "    if angle > 180.0:\n",
    "        angle = 360-angle\n",
    "        \n",
    "    return angle"
   ]
  },
  {
   "cell_type": "code",
   "execution_count": 24,
   "id": "5a6545ca",
   "metadata": {},
   "outputs": [],
   "source": [
    "#@title Helper functions for visualization\n",
    "\n",
    "# Dictionary that maps from joint names to keypoint indices.\n",
    "KEYPOINT_DICT = {\n",
    "    'nose': 0,\n",
    "    'left_eye': 1,\n",
    "    'right_eye': 2,\n",
    "    'left_ear': 3,\n",
    "    'right_ear': 4,\n",
    "    'left_shoulder': 5,\n",
    "    'right_shoulder': 6,\n",
    "    'left_elbow': 7,\n",
    "    'right_elbow': 8,\n",
    "    'left_wrist': 9,\n",
    "    'right_wrist': 10,\n",
    "    'left_hip': 11,\n",
    "    'right_hip': 12,\n",
    "    'left_knee': 13,\n",
    "    'right_knee': 14,\n",
    "    'left_ankle': 15,\n",
    "    'right_ankle': 16\n",
    "}\n",
    "\n",
    "# Maps bones to a matplotlib color name.\n",
    "KEYPOINT_EDGE_INDS_TO_COLOR = {\n",
    "    (0, 1): 'm',\n",
    "    (0, 2): 'c',\n",
    "    (1, 3): 'm',\n",
    "    (2, 4): 'c',\n",
    "    (0, 5): 'm',\n",
    "    (0, 6): 'c',\n",
    "    (5, 7): 'm',\n",
    "    (7, 9): 'm',\n",
    "    (6, 8): 'c',\n",
    "    (8, 10): 'c',\n",
    "    (5, 6): 'y',\n",
    "    (5, 11): 'm',\n",
    "    (6, 12): 'c',\n",
    "    (11, 12): 'y',\n",
    "    (11, 13): 'm',\n",
    "    (13, 15): 'm',\n",
    "    (12, 14): 'c',\n",
    "    (14, 16): 'c'\n",
    "}\n",
    "\n",
    "def _keypoints_and_edges_for_display(keypoints_with_scores,\n",
    "                                     height,\n",
    "                                     width,\n",
    "                                     keypoint_threshold=0.11):\n",
    "    \"\"\"Returns high confidence keypoints and edges for visualization.\n",
    "\n",
    "    Args:\n",
    "    keypoints_with_scores: A numpy array with shape [1, 1, 17, 3] representing\n",
    "      the keypoint coordinates and scores returned from the MoveNet model.\n",
    "    height: height of the image in pixels.\n",
    "    width: width of the image in pixels.\n",
    "    keypoint_threshold: minimum confidence score for a keypoint to be\n",
    "      visualized.\n",
    "\n",
    "    Returns:\n",
    "    A (keypoints_xy, edges_xy, edge_colors) containing:\n",
    "      * the coordinates of all keypoints of all detected entities;\n",
    "      * the coordinates of all skeleton edges of all detected entities;\n",
    "      * the colors in which the edges should be plotted.\n",
    "    \"\"\"\n",
    "    keypoints_all = []\n",
    "    keypoint_edges_all = []\n",
    "    edge_colors = []\n",
    "    num_instances, _, _, _ = keypoints_with_scores.shape\n",
    "    for idx in range(num_instances):\n",
    "        kpts_x = keypoints_with_scores[0, idx, :, 1]\n",
    "        kpts_y = keypoints_with_scores[0, idx, :, 0]\n",
    "        kpts_scores = keypoints_with_scores[0, idx, :, 2]\n",
    "        kpts_absolute_xy = np.stack(\n",
    "            [width * np.array(kpts_x), height * np.array(kpts_y)], axis=-1)\n",
    "        kpts_above_thresh_absolute = kpts_absolute_xy[\n",
    "            kpts_scores > keypoint_threshold, :]\n",
    "        keypoints_all.append(kpts_above_thresh_absolute)\n",
    "\n",
    "        for edge_pair, color in KEYPOINT_EDGE_INDS_TO_COLOR.items():\n",
    "            if (kpts_scores[edge_pair[0]] > keypoint_threshold and\n",
    "              kpts_scores[edge_pair[1]] > keypoint_threshold):\n",
    "                x_start = kpts_absolute_xy[edge_pair[0], 0]\n",
    "                y_start = kpts_absolute_xy[edge_pair[0], 1]\n",
    "                x_end = kpts_absolute_xy[edge_pair[1], 0]\n",
    "                y_end = kpts_absolute_xy[edge_pair[1], 1]\n",
    "                line_seg = np.array([[x_start, y_start], [x_end, y_end]])\n",
    "                keypoint_edges_all.append(line_seg)\n",
    "                edge_colors.append(color)\n",
    "    if keypoints_all:\n",
    "        keypoints_xy = np.concatenate(keypoints_all, axis=0)\n",
    "    else:\n",
    "        keypoints_xy = np.zeros((0, 17, 2))\n",
    "\n",
    "    if keypoint_edges_all:\n",
    "        edges_xy = np.stack(keypoint_edges_all, axis=0)\n",
    "    else:\n",
    "        edges_xy = np.zeros((0, 2, 2))\n",
    "    return keypoints_xy, edges_xy, edge_colors\n",
    "\n",
    "\n",
    "def draw_prediction_on_image(\n",
    "    image, keypoints_with_scores, crop_region=None, close_figure=False,\n",
    "    output_image_height=None):\n",
    "    \"\"\"Draws the keypoint predictions on image.\n",
    "\n",
    "    Args:\n",
    "    image: A numpy array with shape [height, width, channel] representing the\n",
    "      pixel values of the input image.\n",
    "    keypoints_with_scores: A numpy array with shape [1, 1, 17, 3] representing\n",
    "      the keypoint coordinates and scores returned from the MoveNet model.\n",
    "    crop_region: A dictionary that defines the coordinates of the bounding box\n",
    "      of the crop region in normalized coordinates (see the init_crop_region\n",
    "      function below for more detail). If provided, this function will also\n",
    "      draw the bounding box on the image.\n",
    "    output_image_height: An integer indicating the height of the output image.\n",
    "      Note that the image aspect ratio will be the same as the input image.\n",
    "\n",
    "    Returns:\n",
    "    A numpy array with shape [out_height, out_width, channel] representing the\n",
    "    image overlaid with keypoint predictions.\n",
    "    \"\"\"\n",
    "    height, width, channel = image.shape\n",
    "    aspect_ratio = float(width) / height\n",
    "    fig, ax = plt.subplots(figsize=(12 * aspect_ratio, 12))\n",
    "    # To remove the huge white borders\n",
    "    fig.tight_layout(pad=0)\n",
    "    ax.margins(0)\n",
    "    ax.set_yticklabels([])\n",
    "    ax.set_xticklabels([])\n",
    "    plt.axis('off')\n",
    "\n",
    "    im = ax.imshow(image)\n",
    "    line_segments = LineCollection([], linewidths=(4), linestyle='solid')\n",
    "    ax.add_collection(line_segments)\n",
    "    # Turn off tick labels\n",
    "    scat = ax.scatter([], [], s=60, color='#FF1493', zorder=3)\n",
    "\n",
    "    (keypoint_locs, keypoint_edges,\n",
    "    edge_colors) = _keypoints_and_edges_for_display(\n",
    "       keypoints_with_scores, height, width)\n",
    "\n",
    "    line_segments.set_segments(keypoint_edges)\n",
    "    line_segments.set_color(edge_colors)\n",
    "    if keypoint_edges.shape[0]:\n",
    "        line_segments.set_segments(keypoint_edges)\n",
    "        line_segments.set_color(edge_colors)\n",
    "    if keypoint_locs.shape[0]:\n",
    "        scat.set_offsets(keypoint_locs)\n",
    "\n",
    "    if crop_region is not None:\n",
    "        xmin = max(crop_region['x_min'] * width, 0.0)\n",
    "        ymin = max(crop_region['y_min'] * height, 0.0)\n",
    "        rec_width = min(crop_region['x_max'], 0.99) * width - xmin\n",
    "        rec_height = min(crop_region['y_max'], 0.99) * height - ymin\n",
    "        rect = patches.Rectangle(\n",
    "            (xmin,ymin),rec_width,rec_height,\n",
    "            linewidth=1,edgecolor='b',facecolor='none')\n",
    "        ax.add_patch(rect)\n",
    "\n",
    "    fig.canvas.draw()\n",
    "    image_from_plot = np.frombuffer(fig.canvas.tostring_rgb(), dtype=np.uint8)\n",
    "    image_from_plot = image_from_plot.reshape(\n",
    "      fig.canvas.get_width_height()[::-1] + (3,))\n",
    "    plt.close(fig)\n",
    "    if output_image_height is not None:\n",
    "        output_image_width = int(output_image_height / height * width)\n",
    "        image_from_plot = cv2.resize(\n",
    "            image_from_plot, dsize=(output_image_width, output_image_height),\n",
    "             interpolation=cv2.INTER_CUBIC)\n",
    "    return image_from_plot"
   ]
  },
  {
   "cell_type": "code",
   "execution_count": 25,
   "id": "d0098cbf",
   "metadata": {},
   "outputs": [],
   "source": [
    " def movenet_process(input_image):\n",
    "    input_image = tf.image.resize_with_pad(np.expand_dims(input_image, axis=0), 192,192)\n",
    "    input_image = tf.cast(input_image, dtype=tf.float32)\n",
    "    input_details = movenet.get_input_details()\n",
    "    output_details = movenet.get_output_details()\n",
    "    movenet.set_tensor(input_details[0]['index'], input_image.numpy())\n",
    "    # Invoke inference.\n",
    "    movenet.invoke()\n",
    "    # Get the model prediction.\n",
    "    keypoints_with_scores = movenet.get_tensor(output_details[0]['index'])\n",
    "    return keypoints_with_scores"
   ]
  },
  {
   "cell_type": "code",
   "execution_count": null,
   "id": "986eb9df",
   "metadata": {},
   "outputs": [],
   "source": []
  },
  {
   "cell_type": "code",
   "execution_count": 26,
   "id": "5247fc33",
   "metadata": {},
   "outputs": [
    {
     "name": "stdout",
     "output_type": "stream",
     "text": [
      "*46 ***48 *45 ***46 *****47 [46, 48, 45, 46, 47] *46 [48, 45, 46, 47, 46] *47 [45, 46, 47, 46, 47] *46 [46, 47, 46, 47, 46] ***45 [47, 46, 47, 46, 45] *******46 [46, 47, 46, 45, 46] **********47 [47, 46, 45, 46, 47] *****48 [46, 45, 46, 47, 48] *51 [45, 46, 47, 48, 51] up *55 [46, 47, 48, 51, 55] up *56 [47, 48, 51, 55, 56] up *60 [48, 51, 55, 56, 60] up *61 [51, 55, 56, 60, 61] up *62 [55, 56, 60, 61, 62] up *64 [56, 60, 61, 62, 64] up ****63 [60, 61, 62, 64, 63] *62 [61, 62, 64, 63, 62] **60 [62, 64, 63, 62, 60] *59 [64, 63, 62, 60, 59] dw *57 [63, 62, 60, 59, 57] dw *55 [62, 60, 59, 57, 55] dw *50 [60, 59, 57, 55, 50] dw *49 [59, 57, 55, 50, 49] dw *47 [57, 55, 50, 49, 47] dw *46 [55, 50, 49, 47, 46] dw **47 [50, 49, 47, 46, 47] **49 [49, 47, 46, 47, 49] *50 [47, 46, 47, 49, 50] *52 [46, 47, 49, 50, 52] up 1\n",
      "*54 [47, 49, 50, 52, 54] up *56 [49, 50, 52, 54, 56] up *58 [50, 52, 54, 56, 58] up "
     ]
    },
    {
     "data": {
      "text/html": [
       "\n",
       "                <audio  controls=\"controls\" autoplay=\"autoplay\">\n",
       "                    <source src=\"data:audio/wav;base64,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\" type=\"audio/wav\" />\n",
       "                    Your browser does not support the audio element.\n",
       "                </audio>\n",
       "              "
      ],
      "text/plain": [
       "<IPython.lib.display.Audio object>"
      ]
     },
     "metadata": {},
     "output_type": "display_data"
    },
    {
     "name": "stdout",
     "output_type": "stream",
     "text": [
      "*59 [52, 54, 56, 58, 59] up *60 [54, 56, 58, 59, 60] up *61 [56, 58, 59, 60, 61] up *62 [58, 59, 60, 61, 62] up *64 [59, 60, 61, 62, 64] up ****62 [60, 61, 62, 64, 62] **61 [61, 62, 64, 62, 61] *60 [62, 64, 62, 61, 60] *57 [64, 62, 61, 60, 57] dw *56 [62, 61, 60, 57, 56] dw *54 [61, 60, 57, 56, 54] dw *51 [60, 57, 56, 54, 51] dw *49 [57, 56, 54, 51, 49] dw *50 [56, 54, 51, 49, 50] *52 [54, 51, 49, 50, 52] *54 [51, 49, 50, 52, 54] *56 [49, 50, 52, 54, 56] up 2\n",
      "*59 [50, 52, 54, 56, 59] up "
     ]
    },
    {
     "data": {
      "text/html": [
       "\n",
       "                <audio  controls=\"controls\" autoplay=\"autoplay\">\n",
       "                    <source src=\"data:audio/wav;base64,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\" type=\"audio/wav\" />\n",
       "                    Your browser does not support the audio element.\n",
       "                </audio>\n",
       "              "
      ],
      "text/plain": [
       "<IPython.lib.display.Audio object>"
      ]
     },
     "metadata": {},
     "output_type": "display_data"
    },
    {
     "name": "stdout",
     "output_type": "stream",
     "text": [
      "*60 [52, 54, 56, 59, 60] up *62 [54, 56, 59, 60, 62] up *64 [56, 59, 60, 62, 64] up ***63 [59, 60, 62, 64, 63] *62 [60, 62, 64, 63, 62] *61 [62, 64, 63, 62, 61] *60 [64, 63, 62, 61, 60] dw *58 [63, 62, 61, 60, 58] dw *57 [62, 61, 60, 58, 57] dw *55 [61, 60, 58, 57, 55] dw *52 [60, 58, 57, 55, 52] dw *50 [58, 57, 55, 52, 50] dw *49 [57, 55, 52, 50, 49] dw *48 [55, 52, 50, 49, 48] dw ***49 [52, 50, 49, 48, 49] *50 [50, 49, 48, 49, 50] *55 [49, 48, 49, 50, 55] *58 [48, 49, 50, 55, 58] up 3\n",
      "*59 [49, 50, 55, 58, 59] up *60 [50, 55, 58, 59, 60] up *61 [55, 58, 59, 60, 61] up "
     ]
    },
    {
     "data": {
      "text/html": [
       "\n",
       "                <audio  controls=\"controls\" autoplay=\"autoplay\">\n",
       "                    <source src=\"data:audio/wav;base64,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\" type=\"audio/wav\" />\n",
       "                    Your browser does not support the audio element.\n",
       "                </audio>\n",
       "              "
      ],
      "text/plain": [
       "<IPython.lib.display.Audio object>"
      ]
     },
     "metadata": {},
     "output_type": "display_data"
    },
    {
     "name": "stdout",
     "output_type": "stream",
     "text": [
      "*62 [58, 59, 60, 61, 62] up *64 [59, 60, 61, 62, 64] up ***62 [60, 61, 62, 64, 62] **59 [61, 62, 64, 62, 59] *58 [62, 64, 62, 59, 58] *56 [64, 62, 59, 58, 56] dw *51 [62, 59, 58, 56, 51] dw *49 [59, 58, 56, 51, 49] dw *48 [58, 56, 51, 49, 48] dw *47 [56, 51, 49, 48, 47] dw ***48 [51, 49, 48, 47, 48] *50 [49, 48, 47, 48, 50] *55 [48, 47, 48, 50, 55] *60 [47, 48, 50, 55, 60] up 4\n",
      "*62 [48, 50, 55, 60, 62] up "
     ]
    },
    {
     "data": {
      "text/html": [
       "\n",
       "                <audio  controls=\"controls\" autoplay=\"autoplay\">\n",
       "                    <source src=\"data:audio/wav;base64,//NExAAQQDHwAUYQAAghh5MmTJkyBAgCAY/8EDn+o5KBjghg+DgIAgcggCByDgIHMEHf3fggGHxOD4OAgCAIcuD4OAgCBwQA+D4Pn9QYZMA1l4K4r03RQ8pHe9DCr+PW//NExBIVaypwAY0oAKLjnN9MylQTDQ/+wnEBSClGB8h/6uhtkDzmKb/xjKpz1Y6DBVzMMJ/+rkS9VvExiDykQUc9P//+6Nk+iDhdy1MyC4m6DuSLdrJVpevfa6fxN1Rc//NExA8WSwZ8Ac0YAUhNSJ0J1FDBMOggDQG+AC5TzbZxBLQ8VCke4BAsLMmLN34IplD+onRtzL5Eqcl8pcnOd7TS6fofrwirdNvLQqemZq7mGKfg9ImF1QIAh/NRyf/8//NExAgSYS6AADhGcbQP3WrmTOZy+Ga0tVyM4GKeVKQHg3/SQxph0411JpxIoEgkWMiINsN5/Sd059yjbjt7n3rnvFc79PRCvTJRQqNuRRNxWf////X9/mENM9+a1niP//NExBEWkwp8AGmGudmsn41npBLFPGIOUmPqMU0kCLECIqhQPLFMIhWJufPO6CPw7I8m9PhWU1OFbJDW/OmaDE5p84XTKaTzSd6btCeZ3yORxYsVQTXVD+yoymI1tDc///NExAkUQv6cABDGuesgoQVZHNIZNnnwjESwIFU9FOUx0anpnGU80qQ04IOEROTn/cuZlvpPTk69PL5fk3J2TLT87+Zd///lp+j75ZukJ5D9VBGZpo7T25JDplye1s6d//NExAsUIH6cAMZeSEhgVLOGMFTy+3g3BTRRnOq28R8A7Md5WTsdiaBihQKCxGw6Cw8FXKVg0DJhkSlgaLHmOSg4T8xcWc88z+Rtu1u/lnraQqWWT12gl4oCj4POw03J//NExA0SeUKQAN7EcCfMeSj6R1rEE3pQFTczUDqMBlqtq6BYLiv5SqNS//aDF/+h/U/0/6BgSGmQRqdbxtJzdKn1tf////9JddbL8K8oHSpG7afLNt0MCKP3HQwbhynp//NExBYQ8S6YANbEcMLCJr4Cj/fx7Klhop/4XJdz9QL6N5vov0+nlCElg3LcCWmXW6olAbv////zd6KpZ1VgIctBFjs1qr0Cpp2Fggkit9uagBjiWCndr0tw3ABiQMkA//NExCUSGOaUAM7EcORVt40vfX5hHhj+gttYYl8GwxtwXxI6j9ki7////7hhNoulVec/WcMnEOyjPVCp0ZjKGvAj+zUCuKskxscV7LrHZIFQozoGb6jt8uQ2E79X6lRu//NExC8SQQacANbOcPzi7c0dEt9S7Z3/8q+HTP0tv////6cAMJro5r9XWqG7UmZXqx5rIrka0rOr1SMtxBn8PyfmrqjgOneS3zK7Mi6IC94FEw4a9M9C3+/8KFV6/8KN//NExDkSaPagAM5ecK///EonfPfS7/////2gARyayx/Gs8Ir+rm1jTYKrHxPTd6M1o0ICJlg0C2sfzEQ11cP1q8SnEoZ7mPmld56vf1R2CrP7yppVY1///4cwYyr5Y////NExEISUN6gAM6wcP///2iJy2Jqw1zt5nZgh6LH+VyDX/XIcIeqXy67hTu4bEed/mqRJ0Sbt7ucfcRsjUNTtNXp0QZruP9eEsy7vuDb7f/////+X8btypn/////UlKa//NExEsSob6YAN5ElJfOXvXwDDpy2wGZSmAY4BBJi7R2WwQujNNuIioozI5Grl+kdYLAUNpPRQ1Py09RwzWjMLxyrF3Ferw9SOckTf///T///////11FAZHq+aAYE4Bn//NExFMSKMaMANaecOdquPQbp+j2HuIiAKj/VCbVPUzuLrtQsyCpn5L9VNmkSbKw89BVihZoCU7H9i9T/+23lkZ1P2af+V0qO1ZjRxQxAfX0yswolVgUzGSF8V0vQ6zo//NExF0RGK5gANPSTMsANMLNRcqowBBqkqLpyRV0UQKsUsVG5nqUiFK5NaRZ7KJuwYS1hFZJCnvr7m7v777VVTpyoGgZh4kVh7Qo2/zvW8bHMb4wBjYQBIJm3oQNMUpO//NExGsSiG4oAN4QKBx7xWpzQuh9xdTAu4kkeGR2jztaVAYV0WnE5dg5w4zHMUtE7YKVu9xhMmBIicAIPyccVtA7y1eMTBzkmjv/4ssIb9eAwAC+ADAD+wGfJgHCxH4G//NExHMSMDocAVsAAIj3/gZQATIjcRwMh/+LJC0cewGBYWWBYp/1eK4Fwg2AMYEC+haGY///KiYyBNuM2PgZAMsf///idCIHCiRMmRc5ExHgswUoSf////+XFiCAzBBA//NExH0iCypIAZugANVjjczIGRMg4+BwKgITOFz0LuzGzO30XZDYKj6y56hZnyqk05KRPnnER6GtkdNGgTN+rW2mL5Z2y+2TThmO8gwsSWh7fa1XEBz8V+0YvXNc2zbe//NExEcemeKgAY94AF5XtsCjqTEuvXGvbPzvVa71uuZqRNatAzQAVjJoscuWDIieGSwB9zBHFJhChr6kpWEiorUi3/zr7ecUiqskeTOIVxOsRBZc/i+qFLlEh7jNBVUS//NExB8SqMqkAcl4ADZrbW92+JeWFSzQ0FVLSWMFGoJpvImj7iQQcMKoczWIlA6u6/I7//7v8ilafWN3HxFRjsqEiWT1KAGIHFAAoGCP6rgYAAgVTBov4D7HW1YONsDo//NExCcYKZKYAMvKlAWBCUS4vXmc1xStcb96/syujbdbMkxggBEUaps+Z+q7VcYQgwGD74iSMA4FCZC3///17RwELBAQOJ2mnvuw4Z2UaULnKELJhwyeHGMM5eIThqmI//NExBkY0bKYAN5OlFi1JBpS/S5W2RHuNDcekUcCxSCjySjGmldj//DH/qT8cGPKdAgGDZwvAJG3Rm3v5nOKjKI4rB+z6k6lOYfa391Dv//mSS2hEoKalb37qPWDF6z3//NExAgUmZ6oANYOlPqWMhc0d82s6zassbJiTWX3GpYaxszLrWefpQ5c8C3sslDl6WMPrQ5/1NfoPn8qNHxMDsaIoiiMT9//o3QfPWVKK+B9lhj////9Krf/UfQxrGLY//NExAgRiRqoAMvYcNaeIRT5eHnE/M0ftvTZw1xrSLQmb+peEr9o4IQHh29xDJtcu3S/ze+WzZzfnvqe3QHzn72L3Tf0vs/////1VWeoO8AEtakYAPk1nfzP//1fkR3N//NExBQRMc7AAFhQlHGnV9c+kwjwhZIRyLsKT7tW7K1EnlnB4sGC4eJOWL38vvuLgwQnD5HiezW/6P/6061+L//////5dv/8//y7Z8865iD2Aro2tSLloVuImhQM0ilD//NExCISKcLEAAhMlE0ZxBaQSmbGS2mfUCqQeETTYBnyAJk2LU61DcCBJ7UHgyXToMqtSl///f//9/lndVRuGVK28wiRtpyROWk+TJcqTSFOQUSL6gQhhyxKh2mWG4uY//NExCwSqc7AAAgSlXqew3TtUWVIe+2CuoX5U679t4s5h6Wr5uphYjWb3zV///////9HLLX5+r1/nGNqzuzqR2ruSHah2SGzDj3E5TkCyrKJMUh+rUws6ZQltVlkgGUG//NExDQR8drAAAhQmcHfn/7uX07tLLYVo5pCurtyw1mtf///////Iy6v36ztDu18qLMAqnWT662N4v2cHDgcA5I6pSQHZ4NVtII3f1oSw+aLPFTDkHgtXQTWxXHRx1R8//NExD8R2d7EAAhMmPi8OhmbLETlCsyokZPsC4GCQgMEb1GD/6//LOH/1jmlnprhoFR0hCPRmja9pVVJHC0Cw8kRRazbGFoypNPEMtRV5KlXFb56o2Ivkf+39bpWud5H//NExEoRserAAEhQmNJmMy2GBorXXZfUx7TcqD4NTTac7TFlfxouXk0+qatSJPNPt/RuZF2iXJ+BkMpyTEW5FVjhBAxwQwTe6dX/5X2FuMDDOqoP1f8jvRvhj7dYYxBi//NExFYSiY60AMPElPSdMMEUytgJs8s4exvAcHvgS6opeSKio4QAYEx9GOip7cH7Oo3KN3uY3B9JoscxBIVYz9oDFwyHwgtw76X62S2PQ7zmvKLOcPgCwNNQkhCHcx2R//NExF4R8SrAAHvScLcBn1ATi1u7msxQEZcbwmGqJLNCc83W9l+3Y11vdcqqHiek0AHhzf6zJoDh42xCs/dLbX9jp1m8jhMyz6jyobjGzPgatZgdIHCA1zRbawFHlNwR//NExGkRKRrAAHvWcD1WXuTn1QmXzrxw7ZwvdxFw6yiRow05DDR4DDw4AJQswAipCl//8z1VUGmQbmqphKAfGEy8Qdj8qFFNLp5gVLZrDYNlNwWFl5DUHZK+yaLu4K3v//NExHcUYZ6sAMZKla4t0XK/uBP07xuAXTFblIdU8BXVtF/1beYNaSxdXrXWYOn72KFhb/5ZYsL/9NWJcIAgkelaeVHkYooFYh4dnDAD6JwVsoUs/b4Lgm3SbkldEcYp//NExHgUiRqcAMZecAl3lpNnwkgDRSdMiUuUk20nXtq4v/3O+6l1tSPHVnkf/T/yS3f////6lQYZchbqosksiaCqPAUBaGkHEAAiPZIz5tLqeKunLPoqoIkbDSFFOkQC//NExHgTkRKMAM4WcFhrxUoZxwme2KWlgk/5p90SNYKlE24LDb27oDYtOEgBHEAJQC00YAiY9KhEfIQqSjFqCoCAoBliSiwdDWoekWkZLUBSwx8jTrWEn8JAUREQ0FRj//NExHwRcJJwAMPSTNqgLVz2KhIjVosLEcO/V8iqBc0TCYkBCNrJsk4HlBfurA8UARqPFy5mL4sgVU9pGWGBLLIXE8lIXue9nlq1qYyuxq1jciGdMU27aZlmxEWeK0XG//NExIkRiDpIAM4SBKo0OWNiOjJgZIBlbzyO5c5ercaKBokpn0sfQR3012AJkR0BOLyofAZRlaHpWi8WTaSShwsk0pBi6s9sdvH1oz54TsE5h5piahpZZAWAwwQTdCQH//NExJUQkDIcANveAP0uDFAAYrMWR/21fsaawFyUMzcdocA6+Zl9xziiUhZBbvpMbpMMRYjYwRA/rTTTcpk8dh44SH9NNy+9McY8x7OQz5e/+mpqDTCXy8dIZuie//01//NExKURkDYcAVsQADOg1BnTPk4nGpeLTEySWYf/+pnsmpB0GQQbNlqOTI2Ok5ImlJZNAiKgTVcHM7MN6uVHSCHJOacsjkelgtnfoTVwlEtgfwzOjUFSu8cqCSTK0Pjc//NExLEhAypoAZpoAD0ThxXLlC63tXRM+XLLbpi8NR2touauErTUf03lxoii5/F3zn1npp+5Sn5d7Zz83az05b5hyCZvePpndRCHkBl4v/l/6CL+qZ/5jmYMuiX8JHFe//NExIAgahqAAY9gAboVBCYBAKLHAIlNJAy1yijv+17BQVshQoUOLEQWQniJqV9DH+KFmMkRFGUpS8VUMt//KoSXVULOCI9q1na3vWWfgqCrG0Oi/PU+2txYOJ/ErioT//NExFEU0TYgAcZIAIGm1QEUFCjGoUtaATt7BVT+XC814o6kthIAqirTCqWVcqU4BCksWIh0qZSVKioqdAoa63KfWGQWksBHpoCkGFiq7qvW/54saiXOuae6jRALB9Aj//NExFATAM4AABmQcGG3S9XkookJEMnVF4XDlFlmJqSRJAooCPgLBYWEYZAQLC8VFRUSGjQVFH4qLfxYVZFRQPGgKFRbFhdmLdYp/+pn8VFlTEFNRTMuMTAwTEFNRTMu//NExFcR4J2oAEpMTDEwMFVVVVVVVVVVVVVVVVVVVVVVVVVVVVVVVVVVVVVVVVVVVVVVVVVVVVVVVVVVVVVVVVVVVVVVVVVVVVVVVVVVVVVVVVVVVVVVVVVVM/tNyDRo//NExGIAAANIAAAAAAsvNLjIEjTsBEM1AkHPNPoGgjTMSuU0RY9yMuZR8TEIEI0ypsvkM6CHTzPww4A0BYFuM//FKzPcCHwze0u5MoYNejApvuNhSEE5LU2DoaI9OlUO//NExKwAAANIAAAAADOkQ0I57VSzkMcgNueB0xxW3QCADAJghEFDzrVdk+h6HhdAgACEGIEIy7vcaIjN3RERET0QARE/PiAAAACCEAIAg7/LmoPg+H6wfB8HIPg+H1g+//NExKwAAANIAAAAAB+Cf6gQlDnxODkTn/B95cPwwi6hqRDSWqGL/X5qql9ZmOquwUBWBgICAhWwEzfGVVXYMBAQKhpQNAyCoKwaBU6WPKBqJQV8TA0DTwVBoO4sDT1g//NExP8awHAAAP/8SKvWCuCp1QNVHvLHlA0et/+CoapMQU1FMy4xMDCqqqqqqqqqqqqqqqqqqqqqqqqqqqqqqqqqqqqqqqqqqqqqqqqqqqqqqqqqqqqqOEJZTEFNRTMu//NExOcUqP3oAHmGcDEwMKqqqqqqqqqqqqqqqqqqqqqqqqqqqqqqqqqqqqqqqqqqqqqqqqqqqqqqqqqqqqqqqqqqqqqqqqqqqqqqqqqqqqqqqqqqqqqqqqqqqqqqqqqq//NExOcU4NnkAHjGcKqqqqqqqqqqqqqqqqqqqqqqqqqqqqqqqqqqqqqqqqqqqqqqqqqqqqqqqqqqqqqqqqqqqqqqqqqqqqqqqqqqqqqqqqqqqqqqqqqqqqqqqqqqqqqq//NExK8AwAQAAOgAAKqqqqqqqqqqqqqqqqqqqqqqqqqqqqqqqqqqqqqqqqqqqqqqqqqqqqqqqqqqqqqqqqqqqqqqqqqqqqqqqqqqqqqqqqqqqqqqqqqqqqqqqqqqqqqq\" type=\"audio/wav\" />\n",
       "                    Your browser does not support the audio element.\n",
       "                </audio>\n",
       "              "
      ],
      "text/plain": [
       "<IPython.lib.display.Audio object>"
      ]
     },
     "metadata": {},
     "output_type": "display_data"
    },
    {
     "name": "stdout",
     "output_type": "stream",
     "text": [
      "*63 [50, 55, 60, 62, 63] up *64 [55, 60, 62, 63, 64] up *63 [60, 62, 63, 64, 63] *62 [62, 63, 64, 63, 62] **60 [63, 64, 63, 62, 60] *59 [64, 63, 62, 60, 59] dw *57 [63, 62, 60, 59, 57] dw *52 [62, 60, 59, 57, 52] dw *50 [60, 59, 57, 52, 50] dw *48 [59, 57, 52, 50, 48] dw *47 [57, 52, 50, 48, 47] dw *46 [52, 50, 48, 47, 46] dw **47 [50, 48, 47, 46, 47] *49 [48, 47, 46, 47, 49] *50 [47, 46, 47, 49, 50] *52 [46, 47, 49, 50, 52] up 5\n",
      "*56 [47, 49, 50, 52, 56] up "
     ]
    },
    {
     "data": {
      "text/html": [
       "\n",
       "                <audio  controls=\"controls\" autoplay=\"autoplay\">\n",
       "                    <source src=\"data:audio/wav;base64,//NExAASaDn4AUkYAAQFGEYXBMEwTFYYFBIxhcP9YOBj+Ud4gdBwEOCETg+DgIAgGFggGJcHAQBA4sEDnxPwxKO+D4PgQEAx8HwcBAMRAD4Pg+D5ooCCaArnBTCjprRN//NExAkUoyp0AZAoADWorGfcruOP49cXFHN9NFKYTDRP+eICkMZA+Q//Q2yB5zFN/6NU67OgwVczDCf/q7JPVbxMZHlIQUc9P//+6Nk+iDhdy1dkFxN6A2Ilu1jkp/fb//NExAkTCc6AAcoYAT/nmqLqE1IrCesMmDRHIG+hynm3uSrXhEUj3CSzz2LM/gjyh/oXRs3/RSZyvX63b7reZ4nzdMnTv1pl5i9x4z/u0vPVAcCDWyTUdHVf+lNiUrK5//NExA8Vsw54AFCGuW7GO7ouGMqjSls48MyclWQLodPWiYwxssXpsZcq7RY0ZVR1ViZIdWHTc+VvrGfdodG2886ZmZcLMlLBFT5ehCI904OpKVDbkQSw4+9kvh8U9kn///NExAsUMbqEAFjGlJ9ligBHCeKxx0EfEovzKxGIvJNHFxCXKGELQIi2vlnBEtib/+d0T8OBFXyDSZNAXFBGvJgRwfZU4nsS5cHxxdg+Zg+bYE04dvCAsZAAAcWqR3HA//NExA0UqJ6kAGMSTCgln48DiGYDyoeHZtAubo2GC70DidRhAnQcmigOAUcGjSBxk0FZxIMzQsRYBHgite0zNLFoso8miK1XDkX6H/3+tnQEq0rsO8jr8gzRTVdLs1y+//NExA0VaRakAM5mcKHfA4WEQ0wIhHNLYwwnWfF0QA8PGxR0qkpNFFYSAo3GRLQOJUGWYCuDeP6RPoaqm6aaPWjd2JgmwH2f9bFIfI7rj54Kk3d1i0Wzz8pSZpL256rM//NExAoTYZqoAM5KlGRsB7bXL4XPPQlh0HZqqmj8TASOHIykeUcsRnLMADCpE9X+O1Eh6PX/EJ3f0Ca9RB+NdtRZqRMAPU/p/6+Ue+GcL16VfUUwbREPQrMAa2F/qbVt//NExA8RKTK0AI4icAfhqdvCCQtUB0kGtuCBKoH5YSoc4AHAWBSROFgOnL7sZENNl9Xomn21oom+tEtF8/H/9aUKSraQZIC2hpCbE4+azgAIHJg+8ttJAGYYPbqXGwiA//NExB0SITq0AIZkcAsXtFMc0CFhbwaOmK6GRCcNFrJkgiDajdmqMjNPUZHTfWXT73nE8V/65f66R6AnoEYz7UByhZ+f/CVl9Qe24+VmmIBQY0tyn7UaooXRZ6gLk0zg//NExCcR+Sq0AJ5ecM2ypgvhePN3srlBE/yxRKf+sf6/wz3v4L6CfZd/6Wf/0VazgvwD8ZqzoAFSc9930AEQfuRctOCIhjYMN3LUdZrP7/UoXrlv1oOYSdUPN6kUqjj///NExDISiTa0AI4ecL5zVkT/MWDf4zV9EpjGI2tj/9t5zM9yNCpTclQC8pOpE2GZhJSdyh1+ZQeKz5ZYZxlu0HctfhKoar4eB39qTxTvuGAijuaxk0H0vv3Eo3vjSIpl//NExDoSaSqsAJ5WcAgi6tmS/E4kGsrdmj9I3130y4B5kLYbpmBoKfE4EgyoaWPmM+7Nrn/HG/sd/99PesjN0Riu7qWXgMkvoOyjElkN3H5KghK0UQk3b/kxAWntO56b//NExEMRoSaoAJ5acNqyImXPmsaAvofGZELldpm6mrwh69tLjWgJ0krv1hhlcpdc1hddmaOMmUffe5XCnJyZOict7sqcntNnaGT/Tl2hE8e/F+/pLCUQpe/bSpb/5XEM//NExE8SaSacAM5YcIIdb5zN0QAIwJ2zDlZ7q89vfknqh1lqYWsEYRDgUMJKCzS8WtGpCBdxxFutaC9NbybFrDliTjx1rE/ZtYr0rFuQA5o+Pv9W1rCtC+c9DcxjHN96//NExFgRgNKcAMKGcPQUYx2MpVI1jSqoCjbQyUtcqsv+TN9GER7dqVEJYk1+ZJKgq5yEb5XJDGz1XsnkvhpTyorVBBjCANg6lVpmtBfWzr6hDP7/hUwhIQhC8oQwifys//NExGURiV6IAHiGlG/p8z0KUrTGdTGMbqXytmZWoZ+Y1ShSnZVzFHvEXPdYKqBpQdiVwNVPKhqlPHJBUDKCQOcT0/FOpXowdRx50OoOnGuY5ISUxxtzWqYcdEWUEqFr//NExHEScfZcAHhEmGHFuEoqAEqUxGUsV8tstbSMVTUV4ZedqdfOPM615ZUxGEMiGDFA6hf2BrcDfOTvBMcOiwRNBoZEbXGScI6yD2CcJKQk2OJ1OiRMIiiXuK2OQpDQ//NExHoRUDogANvMBKIr3sdbahKL2MpStsvVVQ1wuqguKMF1CIyWhGhaOz+zUzTvsQaYYIJnCDX/VvmSlKVXJNjcLWgbzizvN7uBZQGzAA6A+398MAClBzCmb//TH2Oo//NExIcSoDIcAVsYAJAR2KsLnP5vtw44WwTukTiYzf/s34rhIk6LQI8DVhBSsOR//t2fsSIzZMj8MgQQZcjBbhoDnkz/////mzE4RcoECE6FMmRc5XFljNkwGyCeH81M//NExI8iOypUAZuYANh9Z89wnDrOZ6uINXquPdLPEMXBOMvlyjAb5rMKbUByHFKu2x6p5WNiZmVrjKyzLFld6iR36sx/WG8oq92yiI2Mt8eN2xngWhR/r1za+oES9nkS//NExFkf0ZaMAc94AUnEowmNIOED8cLqq3LjwNl+n4PMM/lXVnxvDErDOlQuGkoMzKRcKhAikoufJJ3jZAUxDpS7vtdCJCls7Gi4xEI0JYkAMcUAgdOOVpa/RFR0dTGQ//NExCwUURacAEsKcNWg1QaBkPVuWdF24VDo1o2bGHpYEVicWW4XdWtCFPq//iy7VWLqbDPWH2JAZlLxOIRqa61AwLU9O8JBhACGaqN5nGvFg1hhaRcFUjjv8YFHISeE//NExC0cYeaQANYKmDUtvsQfjLGazl///5WP/+/z//+vVfqrRYChIDj9quuO6MctxpzHGjBZHMwkSpUmIVzEYFKB/iVBTf//UgmKCAMvFnOUmqvMazwmbuv1+LcSEf51//NExA4WGZagAM4OlOxEO6vcAAIaVXp9QUWtiuFqjQIBsq785YMHb2n5hBc9b//m73/Un57eV8Vh6VCMIZmhn29fKvVoPxaQqakDG2h/+r//9O0eFAgtVe8/k+ZIEp+H//NExAgUcYaoANYOlG1PiAee4knBPWdCNDN7trseXVY7zceU5u9+6sCNBlmWPFbVL7f/qTa/Y/mkH5QbkGqAEGGjURi7df/s5/JmXAy+ibJlWf////+l3/6lBg4M0i/K//NExAkRUR6oAMvQcYFhh3sSlaZMIUqNv3XLRuucp23/Wye2LAVBbSnB0Eau/V/UCx6JDoa55hGWtUZ+D+Vzoz6SMw/if/t//pXWvIfISFZjZUwkwmTnE6fnXl/0fRsI//NExBYXMdK4AHhSlHU0qypyv0jUXSrM1YkjcC60NZJ92anyewLthttiSiBg68g0QBjsXOmEC/QIJpMDAiTnzQfFpHBCENR23Pug+fdXJkAI6TStE+J//////nwyyVf3//NExAwSGdrEAAhMme868s+T2py0mo7XIfxd4Tcs0eYlejzj4WW71GZjW87lJOmQMLq4qEInmwV7H/7uX0Z8Mx5ToR7L3bctZGoC///////y////1s/Ct3XJJtxSL63t//NExBYScdrEAAhSmTU9TxGtANMoGoMmoIUmSmeifKqcMlUtZSRz/vcHC+++3flTg/VH7sp+G/wJKwJ27eOqf/Y////////v//3/5/7/p7ZzIeHzayucHgkYTD6AoRJp//NExB8RKerIAAhMmMDEXecVNLnNYr9GcOku8VbQQUDQ0BrN9bOk0kF2FyAUjmUiJxdFf///////nDL/7/13jxnZGz2Ihi3++dba0nth0RFvxC9FwiRn2dRjFPO/rGOC//NExC0RqdrEAAhMmdW2Q13UsvcyoI7fYS1vv3v3eN/nwOZd53dKLphBFd6LQv/////lrc+/t+3+568FPk80CTsU/i9x+aVYlBnZJImGEqhZ1axpjx9h2LAICGlTyQVE//NExDkRYc7EABhMlE/stscvLPT9Hc7O4dqPFquwV5orKmIkCiQYsYDYJCV8CsCBAiPNau/3iGx2r4eJcXZA4BobYeICwu943eNEnepTZCc3UeSoMMC2uHRwKLFAVoPF//NExEYSETa0AHvQcGE6atflGeXypA0or8XcxmQ2fpIxNXdRlEO2cafn9uUX518tphh6yppk6RBEERTTmpTl5zhKEdyM1sYJE5vbTJgwxtvclhBhBtCE1f+nWnWiqcvU//NExFARySbAAH4ScMiXR+EPgJ8AWGjF2u4uuwPasbyNiI+2nGhROWTrOlhhw3sF0aEfCZtqrwODBCQgJV4sn3////yhsgIwq1vvUvvAp1uiA3ZpRHzhwgNB6BqEKpYb//NExFsRqZrEAHvGlCzbMJ7COOLezaXLd7kXuX+fSvJASaO/i1pFtima0zWu6W3atfDi6izvYmooTI/2pHNMiIjV59whPe8hARB5VDoWfIB4/ONzHxIYoQqKkjx8GUzv//NExGcSCSa8AH4ecFYjTs4NZdPaNCe6PAGUbhK+rfa15/4Ft4e1rDi1pBjWiK59HZrRmt/8kwGRiq/W7gGVNBpaMmJIxgReGUTYWI1OIq3gcr4O+HZpaVPaBr7tr+rR//NExHESmSKoAMZecMhEixGgnmCIAujILTROm1TP9J1LZFknWoyMnSMWc//1yqUf//v///+mswQKGnJCoQMDmwOLCthLdFmmLgRYQmERtQF8rjow5CjRVOlyN1HMLx8u//NExHkTsR6YAMYacE0VmE+kZrvQEvp1neDSHKp/9hUYjBVoVMQOk8hlcCuyJ4xJT57kK2pnLm2UKCx4RDnrGPEri1QdER4sp7viUrEqss9Tuo9LHqRE9sRHsGn5ag97//NExH0PQKKAAM4eTCgVMBIi9znP8HQoKgFMphpi5KcBSpRHKjTlLBalRxDJKj1sEL3GkLGVuufktTbVMnlFJda/dbVXQ+tNxFKXrivbBgGUEsMOnTv7Fbf75lrmrmR4//NExJMPYHZcAMsESKvOGxUPNYshWgJOLsaagQ9EArawVgdDghJia0OEFb9TbWP9V1zYl7VFnaGlXVJNa3OQujIxADgSJkwSAJ9hEGQAzCsrdcyaIzLIz5+GAVCBhoAJ//NExKgQMEogANpMJLbsBwAK6LH3QQrFzjWEeBsH27C4yCHBzCId3V3RiwDnk+LjH4ZCjq9KvHAcJwkTdAy/+g706iobnS2YHC4aL2/bWvZS1ocjBwC2DnmxJEQL5mma//NExLoRoEoYAVsYABotL/v69a1s3+hROE4SxXJwuHnNTdU2jckHEjLMaycjXHgh2ktNTlsXlKnpWx/D5sbzjVEj+SrWrIKnOrRfJBrR2fT+9H1nkU/WJupSDHxSBNSX//NExMYiOyowAZyYAHmLHhUdtzG5Vf3m37f5n82bx7/fv6X36ZvXO4Ma+72+qQYmP6QN6zjeM/7v65vjd9/73iNEtLSl5ssat4wPEydNDa2MXhWpOu4YNgGWc9BgQiV8//NExJAg8maIAZh4AL/CoYQ7ua/wbOgGgGBzJ0eGIhCwBKAEWtkn8A8QHsGuADIMjJJGSaviAo7RGIX+GkQa6NS/wsmEHibCAC4xgDMpVJOpL+mWjAiSCB0RIiFX1K/4//NExF8gWqpUAZmQAHzEeUhcw+xZwsoUEiXiNL3///6RstAzJoojmmR0lBjRZJGKHyOFWstZq6gxrH8dTlNieF7p11JGsxPs0kGoNelB4PYgOgiD6ihZTRvSysRKixR1//NExDAaygX8Ac9AAaln6wLHMxwsLRdOqevrRUTTlPwrTMr0r0rdzU7TfSjYpYWjjXlHLa/vHfEJdc24x+r+wfKSXhQzdijtVRSTzLV+z/ZgCddVJmqxexlI/XZwFGbY//NExBcTce3YADDGmdSb/arDzCuv/6gxLH6xtv6UaH6xutSpNVn/G1KrBVEwv//yhRWDhcXL//GFFxRNkiv8xyaKmjVMQU1FMy4xMDBVVVVVVVVVVVVVVVVVTEFNRTMu//NExBwAAANIAAAAADEwMFVVVVVVVVVVVVVVVVVVVVVVVVVVVVVVVVVVVVVVVVVVVVVVVVVVVVVVVVVVVVVVVVVVVVVVVVVVVVVVVVVVVVVVVVVVVVVVVVVVTEFNRTMu//NExG8AAANIAAAAADEwMFVVVVVVVVVVVVVVVVVVVVVVVVVVVVVVVVVVVVVVVVVVVVVVVVVVVVVVVVVVVVVVVVVVVVVVVVVVVVVVVVVVVVVVVVVVVVVVVVVVTEFNRTMu//NExKwAAANIAAAAADEwMFVVVVVVVVVVVVVVVVVVVVVVVVVVVVVVVVVVVVVVVVVVVVVVVVVVVVVVVVVVVVVVVVVVVVVVVVVVVVVVVVVVVVVVVVVVVVVVVVVVTEFNRTMu//NExKwAAANIAAAAADEwMFVVVVVVVVVVVVVVVVVVVVVVVVVVVVVVVVVVVVVVVVVVVVVVVVVVVVVVVVVVVVVVVVVVVVVVVVVVVVVVVVVVVVVVVVVVVVVVVVVVTEFNRTMu//NExKwAAANIAAAAADEwMFVVVVVVVVVVVVVVVVVVVVVVVVVVVVVVVVVVVVVVVVVVVVVVVVVVVVVVVVVVVVVVVVVVVVVVVVVVVVVVVVVVVVVVVVVVVVVVVVVVVVVVVVVV//NExKwAAANIAAAAAFVVVVVVVVVVVVVVVVVVVVVVVVVVVVVVVVVVVVVVVVVVVVVVVVVVVVVVVVVVVVVVVVVVVVVVVVVVVVVVVVVVVVVVVVVVVVVVVVVVVVVVVVVVVVVV//NExKwAAANIAAAAAFVVVVVVVVVVVVVVVVVVVVVVVVVVVVVVVVVVVVVVVVVVVVVVVVVVVVVVVVVVVVVVVVVVVVVVVVVVVVVVVVVVVVVVVVVVVVVVVVVVVVVVVVVVVVVV\" type=\"audio/wav\" />\n",
       "                    Your browser does not support the audio element.\n",
       "                </audio>\n",
       "              "
      ],
      "text/plain": [
       "<IPython.lib.display.Audio object>"
      ]
     },
     "metadata": {},
     "output_type": "display_data"
    },
    {
     "name": "stdout",
     "output_type": "stream",
     "text": [
      "*57 [49, 50, 52, 56, 57] up *60 [50, 52, 56, 57, 60] up **62 [52, 56, 57, 60, 62] up **63 [56, 57, 60, 62, 63] up *64 [57, 60, 62, 63, 64] up *63 [60, 62, 63, 64, 63] *62 [62, 63, 64, 63, 62] **60 [63, 64, 63, 62, 60] *59 [64, 63, 62, 60, 59] dw *57 [63, 62, 60, 59, 57] dw *52 [62, 60, 59, 57, 52] dw *50 [60, 59, 57, 52, 50] dw *48 [59, 57, 52, 50, 48] dw **47 [57, 52, 50, 48, 47] dw **48 [52, 50, 48, 47, 48] *49 [50, 48, 47, 48, 49] *51 [48, 47, 48, 49, 51] *53 [47, 48, 49, 51, 53] up 6\n",
      "*57 [48, 49, 51, 53, 57] up "
     ]
    },
    {
     "data": {
      "text/html": [
       "\n",
       "                <audio  controls=\"controls\" autoplay=\"autoplay\">\n",
       "                    <source src=\"data:audio/wav;base64,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\" type=\"audio/wav\" />\n",
       "                    Your browser does not support the audio element.\n",
       "                </audio>\n",
       "              "
      ],
      "text/plain": [
       "<IPython.lib.display.Audio object>"
      ]
     },
     "metadata": {},
     "output_type": "display_data"
    },
    {
     "name": "stdout",
     "output_type": "stream",
     "text": [
      "*59 [49, 51, 53, 57, 59] up *60 [51, 53, 57, 59, 60] up *61 [53, 57, 59, 60, 61] up *63 [57, 59, 60, 61, 63] up *64 [59, 60, 61, 63, 64] up ***63 [60, 61, 63, 64, 63] *61 [61, 63, 64, 63, 61] *60 [63, 64, 63, 61, 60] *58 [64, 63, 61, 60, 58] dw *57 [63, 61, 60, 58, 57] dw *53 [61, 60, 58, 57, 53] dw *48 [60, 58, 57, 53, 48] dw *47 [58, 57, 53, 48, 47] dw *45 [57, 53, 48, 47, 45] dw *44 [53, 48, 47, 45, 44] dw *45 [48, 47, 45, 44, 45] **46 [47, 45, 44, 45, 46] *49 [45, 44, 45, 46, 49] *50 [44, 45, 46, 49, 50] up 7\n"
     ]
    },
    {
     "data": {
      "text/html": [
       "\n",
       "                <audio  controls=\"controls\" autoplay=\"autoplay\">\n",
       "                    <source src=\"data:audio/wav;base64,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\" type=\"audio/wav\" />\n",
       "                    Your browser does not support the audio element.\n",
       "                </audio>\n",
       "              "
      ],
      "text/plain": [
       "<IPython.lib.display.Audio object>"
      ]
     },
     "metadata": {},
     "output_type": "display_data"
    },
    {
     "name": "stdout",
     "output_type": "stream",
     "text": [
      "*56 [45, 46, 49, 50, 56] up *58 [46, 49, 50, 56, 58] up *60 [49, 50, 56, 58, 60] up *62 [50, 56, 58, 60, 62] up *63 [56, 58, 60, 62, 63] up *64 [58, 60, 62, 63, 64] up *63 [60, 62, 63, 64, 63] *62 [62, 63, 64, 63, 62] **60 [63, 64, 63, 62, 60] *58 [64, 63, 62, 60, 58] dw *56 [63, 62, 60, 58, 56] dw *55 [62, 60, 58, 56, 55] dw *51 [60, 58, 56, 55, 51] dw *49 [58, 56, 55, 51, 49] dw *48 [56, 55, 51, 49, 48] dw *47 [55, 51, 49, 48, 47] dw ***48 [51, 49, 48, 47, 48] *49 [49, 48, 47, 48, 49] *51 [48, 47, 48, 49, 51] *57 [47, 48, 49, 51, 57] up 8\n",
      "*60 [48, 49, 51, 57, 60] up "
     ]
    },
    {
     "data": {
      "text/html": [
       "\n",
       "                <audio  controls=\"controls\" autoplay=\"autoplay\">\n",
       "                    <source src=\"data:audio/wav;base64,//NExAAO+AXgAUEQAAAhE4fdlwcBB278Tg+CAIO/Ofg+D4IAgGIOAgCAYlHf/ggCAY/4PggCAIZQEHFwQBAEAQBMHwfP4gBAMMvpDGBl/k+HqALQzhoB20CzOhjvKZn9//NExBcXWyKQAZNoAfHubl8en/koaD3Jcl/0Fm49C4gYDhHoCtuHL/qLhp1D0DnkmUCUTb/oU3t2QHOOBaaaSH//b/Y4fM6lpqb//////9JBRLz17vHl0QJXvhVgwKuM//NExAwVkaKwAdhYAOdxn9lstaP25rKmlff1kdJ76bwyouUGfNHK42n7hpUQY7zU0JwtA2RllDxNG9dzki0ltiWv+rb9W3v43VLaVXeDynt8Uu////76ldc/lMIGF/Xs//NExAgUMa6wAMtelPcSOfwmIm8Ex2hSGbazBuiU/SNH60OkZ//WSm8ei283s3SXE1LnC3ZTKdnxCYmlWTazXP1/TeP/jO/9V0/zmsmY7buq7////63Pn/4ymYPOdpme//NExAoUwaasANKalIEmm8AXfVAHhKbyXyEibnERmprdTUPSOMhMR6kAe59g5QK0GsFcGQgoyHKUzM3QMlmBpXar+tFS6lskaprGsZyw1/6v//+l0srPvO2RCGOWLc6x//NExAoUuWqoANKelHI2IAZzkbzZ5QB1vIhbfmkvyF+hE3xCz/8MTHH3rFjuVcHw4hQkEVGcNp0qpw1rV3KJT/VY+6A/aiWNHwab9mxmQ//9KKL1XCi/388BGc9wl+Eo//NExAoRSZ6sAMFWlJK4Z9s62JqhY7owG1zejP6P/d/7e97ygmqm5uXggCiQhxVhwgR27X2maz7Ju+u2+zjWxU0b//7v///0VbuqliADBkabQvmoGzA1NRVahnCBKdXc//NExBcRka6gAMIQlRzPUK1/03/P/t//8wpTPTiGAqFQyGhUJgAQfDaHoAscl0SbF1UQ3+v9ty2xK5VE1UJlWU5ohAbSJqcyNoE+fh1C6rqRYARUokHhZWKrI0pfKY3///NExCMSWUp4AMFSlH3+4+lpIlhUTNRKhlI6ZWnGKopJcVFLNImQ1iI7WMCsNICSSV99Cj/gCrwIMM9K0akIIMHhkVa76tGEOgyMz60GlvSNnVtWzXWO5ZZRv41Crt0j//NExCwRQSY4AMvGcFh5c+kwMgKPDqFZJP1SqU2nqwkeTU///+gX+ATZx4l5EcU+kOG8wx1S2gHCRLDTnERw04PGGjogJnaXfCdszfMubil0e6/0MT2Me/SeiK/MSG7S//NExDoQOFIgAMvMJJSh06uxR5E40UIRwwYlMcAwMAxIZKtWoztrEvQwYwQWdSwWso9FLMuxdG6nv7ZlEUFK438kgYfP9caq+j9at/seOUo6MQGBcYJS/rJ2ZNwga9f3//NExEwO2EogANvGJFLTEBcQFpS9AGNpuvlAxSHm3tViIuQc0SDq7jyztr7z2XtpE7BsheitxA2mNHtUntDKUTRcX40wuTkNRNGAYMn6B0MAuX4ONoWA4KD/7p90qx0L//NExGMRwDYcAVsAAD3AMccgw7LaemKyGSowYX+ky11rpGhLkMuH+61s61GlRqibnEFWONrWitFakTeszNynW7oqZqlVLSvczTQKBQMigPBkE+vu6XqandakCg7GinQW//NExG8hMwIkAZxoAW6dlKavdlP03sybKrQUvol9jxYT+s4P8pwF5LAgXBDBjsKTx3yoY6eQzYw3WJyDR3QaHD4C47xACDAQByCMPUMf6h5beIIhz6q77Y8/ZqeRNdhw//NExD0f4wqYAY9YAbTneff/2bHEzrXLEk3M5Th7KYzZvqT7XOp0XTTQ+mmnz3vv//c3j6bsudd0xP3DHfDNjOK//3VHsv9s381L9KXAgLoQmfzX5vRt+64TK1cTun18//NExBAVweacAcxYAHm0cJaNAbAYHYO0sD4fhWTyh04bWrbW2ia1fExL2O2V3MUkiq5OL3e3qeYjmtl2yI6//up9WeLfVwuJCdyb46/T/yuz3tfplufdsPAjxxGNNkdM//NExAwVgTKcAM4KcDopqsgKbO3flkBz0jdDUpfdm73uFMs+RUBwEwOWQ4AAcFRVXKtnVrdPr0yKxyxhxg9tO5NtZUkPDqpoVLB0Ubf9jn//+rgdRBQH/L77sgUyAps9//NExAkUmY6gANYKlHqqLhzvRqQTzaxZmF4TEVrdlhWDU9lEiERhChTc36igkSRflUfyx//Xp/bV/P6gI2omY7Vcn//kTsKHRgYdP4fYtP9f//99mJEVpMMbkAkrmRUe//NExAkT4ZKkANYOlFaZQNtihI897N9TM2DrOt0Dp/rum5JZXf78SIAv1hc06TVWXy/u+T/lG1KkPOFIvsIoORsZaaZ/7ekzYqSOV6sKa/////6Vy7+2iGQenne7HEZD//NExAwQ6SKsAMvScdtwVrFr8V5K41jKuvr0h038/BEh2coBYielBAPyz5KG3VrbOvGSKb9k5n9oHMCP8RtdkMUnMw/Srv1J8LEzWzlqNJy/12//98+GMo1zNbfX8/Zz//NExBsTubLAAHhMlNTz6t0DyQzSwus1z9+LKQTMmrghsnvuonEEOCAyJxQEA8A2VsuDLpqgVrfbfzkU21nyKS9vhX//////FzfW/O+Nf/pndDHoWrsBRGhJK2UY1RwI//NExB8SibbEAAhMlUnPFhwYREEoJZaV6kcsY/GT2EWHalb8kz18rv5h16936kJM2Yh0tUGdtF4qC//+NnfO28qDclcLeVASZenVDFMbKiAsBB8JVQXNpubY5UHVbc7C//NExCcRagrEAAgMmfXhvn795RugBojmd84Ne5pzjrcpiqrdh36bTy1f4TVv//////+XRf/s379tuXKrDEdq0NfXhODYBFkiyJIJRSo2yTEzpMQY927RO3jIyWKQmRDw//NExDQSOebEAAhMmFTGDa4x4VkZ42ZqadJOHMDL1ageKP////3GRSWrzdTUd2sU54oQJWFBs0q1CyLEpLCwSuHhA8aK244hh8GSlMNHO57M3uiXBFygXnzec3IOw0Qq//NExD4SkgLEAABQmAKDK2iJ7liqQoyoomrplgSFDZ2IYBBEPCQDSJmOtStL9gnymBUSv6eiPZaGAGkwk8y8RKHRUOmDwWHRU7iAGDrCIFDqrEIsHhUFRK4lLBV39+n///NExEYSgaa8AGBKlK+Qypa1tpgPSuZlwD2LisqACSQ4zjoPbW9/JNPbp79nKV0+GWsPGaBe20ZZMRohOJTaOsyHzIXvuV5e23OFKDhgB/NvGONqAEfHqv8EwPLwydrP//NExE8RsSK4AH4ScH4VZNYRdwqme1yT0hp+T0YIW2N3FpSa022RibDkRKpaFeyPnCKxFViFMlwYIgsYQDMdWMxVu///ZYI4CPn2fXX/Qr1MJksGdq0m25IiC4uBfQ0g//NExFsR2ZLAAHvElG2ygG/upH7OL/ybdefd0rjiauhoDU9XlpnFjLvU+Z+vba2bmvsKoz+i4QHjX/MBJIMujK/ALGbl3BE6XwNZa0ggT6tsLI9S+MKALWtQWzqe0udx//NExGYRgR68AH4YcGzlCM6JmLgYA5SSqROwrv7xcx3tcVi4iQrZta8CLBfxX0jp8+sGhv/jxGkc18TNIJ6SiO6ZtmECbZ2PmUEWpxH9nEAqdgs2WassmwaQ7lHTr7dW//NExHMS+SawAH4ecORhdUumyI1LOtgba/XiuWFk1BHExxCAZEDpTBYKwoFgUowVab///NcSHuM/yNWE3F4i4WE1BaigfIk8yiRMFREnZc1WUWIR1bKZTdKq18C6UHQw//NExHoVCZqgAMYKlGCE7d1uChfGEEUzn8AlIKZFnjaV7W2aXrr5e2tbF66vBfY9n3isOlCX/a5K2Ge/63eqi7////SqSeU9BQGMu4KiAWggS0jAlGmXgw4YWpMvQitC//NExHgXCSKIANZecGPqAslqv7RX3Zp4dwuv7SFxFBaNhsSHW/b/a/0qROnh9v/3M2eYFbnxqsKxZDdJBOSMzZjcmAhVVf6AgsVBWIp0qdiIGgalVP0qPeV4lBUO/Iln//NExG4QQRJ8AMYOcN4NA0DKg6JXFj1fU+v8txEewVBV9XRVD5IwwZMmDUIi+UAAWDdF62IK8lS4QhB1TgChQUYo8lq3jsA1H6UPQfvCa24qKmFpcmWfnEAYR4uuecl1//NExIAQyGpYAMJGKGjW2h7/FuLriyo4VIMeGDAiBB5Qd4XHA4IkWAkcsUtCZk9a9GNUVUgoIyNLEmzdrM61bx6QQc57HoD4upzZsCMgsmLsX4hBK2ZGBahhhoEVIKSb//NExI8RSEYcANsMJBc6QMa6egAPKatXm6str6SQG7n530BzVP5phINAnVgKGKDEE/bTA6ALmBkCd+h4CTAU8cAbIF9NevfjfFyEQFvIo3/+QczcQXHGot/+7fkAIgmZ//NExJwSgB4YAVsQALkPEBxAMWz//6u2OefHPPoEUHMIgXCKE4XP///a6/6A4zYuD4C/gYwC5sQXGTHaIXFjOdm3A2Yoq+R6sxGCpfOyGms2Lj8qDdQamZLXlwCT8I7w//NExKUhAyo8AZuQAIZVKisZBT48npcwvPk4YrTt4rrYC6fdX1Dbhs+csEgt3OzRgtuvbajl7P4v2fsnPnqb27+12a5sUwMM9adcvjfP4x+P0tMzs2vqGdRzXG5pOSlp//NExHQiMmKAAZhgAbb9o++/yvpxJ2/6aaUltfvQClcA6vJpEiRIzNVVVVHEiJEiRIkQCAQCS2Z/7zVdzSJEiRJEiRKteSNVvef6/7yRIgEAkkq/ioa+VBUNiUFQ1rBU//NExD4RmS5gAcYwABUFv6zv+3UDVQFAlDDYxj/aFIVNetWAQrDCvY1jHhlgEBATgKVmParVqxv1VtquqAXGYMaqre1Lz7DUqXQokFQVCRZpKWeeR8hlsqCp1pEShrOq//NExEoUIZoAAEjGlAaPHfK5DrUBhpDs////I1YKGBB0MjKX/9WtlQyMpMjJlDA6hl6tbHQyMvyMmWA6hl/2ykZMslQyNZbn///5MoIEDhp/+AgkKhkyMF/48UaaWKpM//NExEwSqiF8ACjGmEFNRTMuMTAwqqqqqqqqqqqqqqqqqqqqqqqqqqqqqqqqqqqqqqqqqqqqqqqqqqqqqqqqqqqqqqqqqqqqqqqqqqqqqqqqqqqqqqqqqqqqTEFNRTMu//NExFQAAANIAAAAADEwMKqqqqqqqqqqqqqqqqqqqqqqqqqqqqqqqqqqqqqqqqqqqqqqqqqqqqqqqqqqqqqqqqqqqqqqqqqqqqqqqqqqqqqqqqqqqqqqqqqqDDIXBMNt//NExKcAAANIAAAAANIEDeqIIWujbQtwMDAzQO7n/uiV3d3ct3d3Pd3d3c0AwN4ghCcAAEocDFnu7u/EKIibhwNycDFnE6hV3fiPAAAEUDAwNKHAwN+F/Xd3ctw4t35h//NExKwAAANIAAAAAOf14e/w8+OHj8D8w8sBh48SAQnDiRKnqqeZDEEIQhiEJfnhCH5hD4hB/4zFGZtVX1Vdmb/2PrfVVdlUox/6r8ZtmahQE6DIKjAafEuVBVwNKbw5//NExKwAAANIAAAAALSwKnVA1nREDWDVYKGBgqjoRkdllMgkZGAzIyMj/mRkRkZGRkRkZGAyI/8VWUEDBAwgMHLKjo5kayyxgoYKCBhA6Sy//+1llsssstllhl/2WWMr//NExP8aQlncAEjGuVljyWWORkRq1llChgoIGCcDqqVMQU1FMy4xMDBVVVVVVVVVVVVVVVVVVVVVVVVVVVVVVVVVVVVVVVVVVVVVVVVVVVVVVVVVVVVVVVVVVVVVVVVV//NExOkTae3wADBGmFVVVVVVVVVVVVVVVVVVVVVVVVVVVVVVVVVVVVVVVVVVVVVVVVVVVVVVVVVVVVVVVVVVVVVVVVVVVVVVVVVVVVVVVVVVVVVVVVVVVVVVVVVVVVVV//NExO4Wouz4ABhGuVVVVVVVVVVVVVVVVVVVVVVVVVVVVVVVVVVVVVVVVVVVVVVVVVVVVVVVVVVVVVVVVVVVVVVVVVVVVVVVVVVVVVVVVVVVVVVVVVVVVVVVVVVVVVVV\" type=\"audio/wav\" />\n",
       "                    Your browser does not support the audio element.\n",
       "                </audio>\n",
       "              "
      ],
      "text/plain": [
       "<IPython.lib.display.Audio object>"
      ]
     },
     "metadata": {},
     "output_type": "display_data"
    },
    {
     "name": "stdout",
     "output_type": "stream",
     "text": [
      "*62 [49, 51, 57, 60, 62] up *63 [51, 57, 60, 62, 63] up ***61 [57, 60, 62, 63, 61] *62 [60, 62, 63, 61, 62] *61 [62, 63, 61, 62, 61] *59 [63, 61, 62, 61, 59] *58 [61, 62, 61, 59, 58] *56 [62, 61, 59, 58, 56] dw *50 [61, 59, 58, 56, 50] dw *48 [59, 58, 56, 50, 48] dw *47 [58, 56, 50, 48, 47] dw *46 [56, 50, 48, 47, 46] dw ***47 [50, 48, 47, 46, 47] *49 [48, 47, 46, 47, 49] *51 [47, 46, 47, 49, 51] *55 [46, 47, 49, 51, 55] up 9\n",
      "*57 [47, 49, 51, 55, 57] up *59 [49, 51, 55, 57, 59] up "
     ]
    },
    {
     "data": {
      "text/html": [
       "\n",
       "                <audio  controls=\"controls\" autoplay=\"autoplay\">\n",
       "                    <source src=\"data:audio/wav;base64,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\" type=\"audio/wav\" />\n",
       "                    Your browser does not support the audio element.\n",
       "                </audio>\n",
       "              "
      ],
      "text/plain": [
       "<IPython.lib.display.Audio object>"
      ]
     },
     "metadata": {},
     "output_type": "display_data"
    },
    {
     "name": "stdout",
     "output_type": "stream",
     "text": [
      "*60 [51, 55, 57, 59, 60] up *63 [55, 57, 59, 60, 63] up ***62 [57, 59, 60, 63, 62] *60 [59, 60, 63, 62, 60] *59 [60, 63, 62, 60, 59] *57 [63, 62, 60, 59, 57] dw *56 [62, 60, 59, 57, 56] dw *52 [60, 59, 57, 56, 52] dw *50 [59, 57, 56, 52, 50] dw *48 [57, 56, 52, 50, 48] dw *47 [56, 52, 50, 48, 47] dw *46 [52, 50, 48, 47, 46] dw **47 [50, 48, 47, 46, 47] *49 [48, 47, 46, 47, 49] *50 [47, 46, 47, 49, 50] *56 [46, 47, 49, 50, 56] up 10\n"
     ]
    },
    {
     "data": {
      "text/html": [
       "\n",
       "                <audio  controls=\"controls\" autoplay=\"autoplay\">\n",
       "                    <source src=\"data:audio/wav;base64,//NExAASaGH0AHvMKD8RJdiajrIQMM3kJLArz8bW5xHkLesTYsCg+cficu8+hCrmp3+4MMg4CAIAgGH8oCAIO/yZMAO/1lz/Jk/QQqcfD4Pg+DgIAgCCONJTDgEFKZak//NExAkSiGIYAVsYALnKqs4c9mrWXqjcIgaGY9K7E7TTNTO8DJ40y9taRoqWDbXCyzTM5rIC82c3KJudk3PfkmVbkLVihz/nF/TuwzvL1cgOAmmw0CoFshBy3IK4ikRp//NExBEW0yqsAYc4AOp7kweiYbDb6NQw5TxMF/zGmK6lSw6an+fP4rKIcUPHv/2tx0big0tEggb//v/sUGiHKaXKsOGlv//+//moTEcoNh8cG4vGglkjVQiZ121IHkGi//NExAgUQqa4AcUoAbT72Tb/b/30M9rL3pJ8iBNg45T65mp66NIZSoJKQxBKUjsUzGZDOUQHqh6iSiWImM5FmRxo6bfaYx2V2MsVTIrMdidKVfY1iF1s/yOcG+lmTw2N//NExAoT+b6sAHlMlM2ysdyMKi4UgoLDnZTK7bG6E+dc1p2A6Kn6JCUqPrIVZlUYimUtuzT+3+M/1v/277Lsg+eUyD2AGYeOEY9UTDL11N3//9L+7xbqCCAcdr9uioYk//NExA0TyTqwAMYMcHyPnaBhIKZCLVNQzD7yPHu5ic/X9+2p2P3G8CwvtIGiXPG2TTPHGJiUz4lln5cqdVZcSE3YNCJM0uInA6+ZcmLFyFVuwYOAlGK6lIi8AUtDuugA//NExBAUqbawAKSalLyFi5IG7sJ7DliXaiiKt+oWI25kNlFqZSFA+o6kFQBZDydlnCN1pEB1VEgShspCSBQ9BD1fUtl1GCLI2MzyJPD7P1LH//BmQ1/f59SNh7cj4opg//NExBAV4cKwAM0alYCYB0Ml2xaQxQSC6mFxN1ECPa0RzSuqsxAkQ41IrGMIIUD1aI9Td8xHqbvUSQwpTTqUTyQNFaKu7ep26TmiFUmmBcbyo7yo+uswEjBGYn0GSGqA//NExAsRSU64AJyalIsKo+gZkBCNFxtEaosDUFkyRBuiSL8yIEaJ1CfAQYWlklD2Lpv1qdeipPmJ43d2RMS+//iIkNUJCcrV/n8tuia4Y8n8rMxMXJZrR5sqgUQn7Tr9//NExBgSUb6sANPalYRg2pb/rH/w+QqJ/8J5B3yiVBFhG3tMhxHvRV9JutF0LLLpom///qXWkkiZNUNGfFVV5jztVmB3e4kmXjANMVQZnj5kQcGG5aIsL4AWAxhu1I6X//NExCEREVqcANTKlFZqrIcaL1kyTrZ0lBOpXKxWGCwKjLhIT9V+b6ijaoJGf/vlVYOys2pAkEeV0ApSdSAGeuaDRM0kWdsfjJi6AlYPgbs9zFus4Kg3UXjRqKJeDbj3//NExC8Raa6IANzUlTglHnu6kQBYeaoqfbZ1KCu/p///OJEaj1mfljrlrDt4gOpFrtbZAo4GRQD3A0SeLTHQSIgw4gn0D3qGH7Oga650JiUO0YZ1OdZQ9a3b6qBMYXLi//NExDwSSSqIAN0acL/9ocMs976P////GNTVl/3JK+YWGDnvsDELfvy+cjClAUJmLe83wBCKBvM+fzuOv/6g7avqH1lfC2f/NLRbYyD0mfv9fsxpKgr+z2IY930Kh2HG//NExEUQWSKIAN5McPXRQGmW1R+8wLLyJieLltoAlAApC1DEV5BktFhXrrG7We4fXJgI4wMBQ9Tqr9WLQHEuJx6iisPJHdx/2/03k/3fCBYKiQsDV8SixI6GDjFSznI0//NExFYRcPZ4ANvGcUhYJHJOVIlImktS6Zm4rjjVva7VGgVhEcaodGiqGVjFmt9NSiRoJM1t4uz9hGIsFrfvOt///QJdP6o4uAgEQjVZYUuPvLQw0DSYKOzM3RYLNc7P//NExGMScO5AAVooAFjj+w+LlFqWoRkBAOaBy1NBQG54dj5NqKgWkkcsFmSh/JEFUMmBNFNLJTvcS3R9WN4IKIzZru0qIpFGd12e9wjCjr11UVA+UJt2p7x7M+6U6Ujl//NExGwgsyocAZxAALEfy2klcqMufa26iauG6j5PIjpITnUma7DZlQ64kWTP21xI5QGdfuWcXbxuTd3+9TNxgpBGHsrHmqD/S7JFIWcUI6c3ZNbUOki9evmtsVO4lNf+//NExDwhOlKMAZh4AdqsSPpjmaIr1i/8TXvP8ssHONR1a9nZpr///+/tTGNZpulKYj1t4v9P////v33rX3emvFpJmM1KD/+//Mf+bOVmAPnqMpkVMqkVHLtrVoxkbKGc//NExAoT6TqYAcxgAJ1WsTjXxuuNQEygghwqCBpWrKp4e4dbn/uNXtWatPdm9b5z+ycmYexZLsFHvENh1ggSKUEh7cGlI8RuvtRSxv/uqd72GEqUz+dx7DJpOk12pRLk//NExA0UWdacAMtEmP02ZzjPXvRRoBOADDHkPRZCDYEwJAmDgGYC8B+OEg59z6JqYrv/tb6brzGCKrZmb/Zf9C5GIlvuZLDHBrf3K///2t3ilbfe8f5LAJKl+Eyh4D7T//NExA4VGSqkAM5acMzI3eoUjzRFSC3O5Sxjbe37UQVgABqxJFSm4l4Zh5pmQlhAP6ZcRS1v7updadTrJM3OLQUYE3J/jxNPr/FFCX+R///+mRIqsd1XeAdWQ5aswyps//NExAwUEZ6oANPOlEdpm0t1USUHU318MTaN7bNg1n0Gm1YBiMrEuibBoRd3RaUmy5g06j4uex4r1MHQcF0aPF/b7+vzTkRzxtrdXo/////6qrfeV1sDsLizNtZAkoCw//NExA4ReR6sAMsYcIt0qwORttbA+WYp6AQj75mh9adaHkESLah2a1ixwz6nbtJnf3JnZqYvx4CkgH3DWzQxLAolDr/X1/BJkHNHxc3iFLWrfu////mQSqCnd/bfO2P6//NExBsRybrAAHhMlM5bbSoMCD/NPrvRe5zJ6utXTzunB60DCEH2HAIAwcBDDE+J4kdt/9/HlNH1qn4f//////uQhdXf4+N912x1mYa0Hvk5nzTpidSE8IhZ5FtUQOSZ//NExCYQ2dbIAAhMmAeIotVutgag4cBAcwRtLp0aKKFOpS5d6EC14psCNV/////t9Z9Z9B9vQKV6VseT0JGCwckDkAjmIhxs2RE3Gw94ubTxFpxplfyGm+PuZy7JW3eQ//NExDUQ8fbEAAgMmdmT/8W3IyrOYIlf3fy9XR//8J/x/07xfrckGSJRhep0tJsItoaND4OhgqJECpIiEiANOBq4qlE9ikMqUAuz4V10PT5AMXbrDr3UP4ckJPm0UEw8//NExEQSccLAAAgQlf15BdX3ya///////5//////cfG79o+unnOtN6rK3dw81KiPgwo/SEhCFETdZFBNAZOIIta8CgZDEqhiM1Nc3eiH3urcTDhq42lajtBYDTMUQPWV//NExE0Q6brIAAhMlJf////nNKL6557z3ypyekdiCVUl8r/98LNLUHgK0paRpSRuTfz+rfPCaUkE3CrioKqaeOgU98t57Dv6cKuX3FsVAK1uRyiAUxkpUSACSGwPO+jE//NExFwRudq8ADBMmCl+rG634YYdt09vDPOsqaOjqM2QB8NgQm0SQuWeGVn8MvJ1WeFZa4dL0d6hkUOjWaX6FdfBZJrcAvh5fIwiEtkYXYsMZdI2LXDHrN1iNh5F8EC8//NExGgR0Sq0AH4ScJcnPTAcGwZsoQH3QdKqq43DfWRtdq4pg2KEqP1hBIRQD5V6umv/J1rPbxnRsNgaN6bZ2jjS0wwSFU77w9a7VlWMNyeW/uOWEY6w8HZYqsdWrO/q//NExHMRQRrAAHvScHW/vr3fXqUQmG4HmqvRBtpn/YkFw2cdHdDfMkBufEP2nboRCGE6aONFlrMDJwMbipWxK/UWhD2om2l+UOBFu12DYvAiYnVFocfWd7ELWSFrubcn//NExIERuSbAAH4YcCywrRAhXAwFIVFDRZYlf/////vhoiDrXK/QipvlOGqnq4xdv5Mk+ltXmxmbJcwt4o3gvoJLdvN2abcgNAK8vv9AvVOQqOZ4XTqMdjTGu2RcMEa1//NExI0VIZqwAMYQlPWczRv3tcvrakYXsr72o9Ov/UiVOjRO7///////XXtmFFQPA5kkMqRKJ7Rm8OlasKkmiI+bgHK4AjndCsgsM90uL40s8gNgqCky0kXsaKzPSkAy//NExIsVaSagAMYecIuJkq6LGuyxcXriWus63iV761rmDNqDmRHEevoucKjE9P7vyqP///XvMIu4kbGEqwLKUHcZsAAWDovqAOQIJtKsIaDFnKINUcT5DlUxFuVMEtp0//NExIgXuRKMAM5ecLKpQFQWlEB0LXTTX/ytf/1x+rWpqgqz/9x3///XEEJtApKKXp0raLZNnlTCM8Axr6qzUpdSY7/tQEip1UsWfTBpYKhoRZUNlTv6zsGgaBUlEQcL//NExHwReRp8AMPQcB6s9IlQ2JTtQa6w1/b4ifk9YKoTujBRAsAg0drrstia1HxMus24aTYYF2PUYQeMtLFCJEcEN5QVJIcLc0kfReImOTVLqVdgU2w4lSHyQsxi81eF//NExIkSKI5cAMpGTAyo511MSmVUiHSFF3JKkiG4yt6tLLtLTnEh3kUICIw6ggWZruSTFTzqU4qKDZhpMNjy7ryAHj7XqPX+zin1xouZeuGipS1TFUVaSaoxgLGGm0gk//NExJMSqDYcAN4SBL1O4GYzUPp7sW4kiZQDHP70wCDWLdLGOMoKp/gNgFIJcOb77YTseiBqS/+p8TsRgeAXAnkvX6Cm0LJHiXSPJlH/r/rJMpjBlRQJA1Jcff1d/r/i//NExJsQCCocAVsYAGZ8J2Pg8EDQ0KZMKBM///9fqU2MIaBcB/HmJmSQ8B2CMEAGwPowdQ26sIYSKtlml+l/bE5yajVt4qzL5c3YlyJQcDs+hNIawbMxIfLMdUjwiLdK//NExK0gGyo4AZxoAA1n5g6+ESyI4rA3te9dA/RsydsyJx8fW3M3ql1Vatskya2LZzMvbp2m3s3HStq9O9DOt7Dn2/cpM53r/v85NPydmswHfvuILYrSTJes/19Zf6n7//NExH8gelKAAZhgAaKDdjz4LCcAznPAgCyL9b/NFgmatVe+LPC2IryLeMqBEICFKBnXSJkQ0mfAUfBaCSgYiDdnktfxBYsiEIfEL8LQUWWv/JQZIgIroeqXSV+v/E6h//NExFAg4q5IAZmgAIGICTAZeIqOULmNf//w9IWMrjhGqLmI00RICQUpVo1r///KxMrI4dxAj5MkOHOIkXnJnrofRBjtAvq47FClGI8t1PSyu11qfWpZJkdhDSVFwFE8//NExB8XocH8AcwwAEKJYuE4zdkgfFbrR1xP+NS8hosvCp/au7P/6aq19KxqpvvftumB1pFhZAGUdPLLHj7EizFyE2YStS4bQnzROaoRAanH2hgiyaEUFFkUWmf6qnBb//NExBMTGNnkAEmGcJNROS4YYVQFD2djKGokMBCIKhIKuJR4wJBUNHtHUeDQceWyIaBpZ3LZ47qQWKlVZ4OiXTtYp/x50lVMQU1FMy4xMDBVVVVVVVVVVVVVTEFNRTMu//NExBkAAANIAAAAADEwMFVVVVVVVVVVVVVVVVVVVVVVVVVVVVVVVVVVVVVVVVVVVVVVVVVVVVVVVVVVVVVVVVVVVVVVVVVVVVVVVVVVVVVVVVVVVVVVVVVVTEFNRTMu//NExGwAAANIAAAAADEwMFVVVVVVVVVVVVVVVVVVVVVVVVVVVVVVVVVVVVVVVVVVVVVVVVVVVVVVVVVVVVVVVVVVVVVVVVVVVVVVVVVVVVVVVVVVVVVVVVVVTEFNRTMu//NExKwAAANIAAAAADEwMFVVVVVVVVVVVVVVVVVVVVVVVVVVVVVVVVVVVVVVVVVVVVVVVVVVVVVVVVVVVVVVVVVVVVVVVVVVVVVVVVVVVVVVVVVVVVVVVVVVTEFNRTMu//NExKwAAANIAAAAADEwMFVVVVVVVVVVVVVVVVVVVVVVVVVVVVVVVVVVVVVVVVVVVVVVVVVVVVVVVVVVVVVVVVVVVVVVVVVVVVVVVVVVVVVVVVVVVVVVVVVVTEFNRTMu//NExKwAAANIAAAAADEwMFVVVVVVVVVVVVVVVVVVVVVVVVVVVVVVVVVVVVVVVVVVVVVVVVVVVVVVVVVVVVVVVVVVVVVVVVVVVVVVVVVVVVVVVVVVVVVVVVVVVVVVVVVV//NExKwAAANIAAAAAFVVVVVVVVVVVVVVVVVVVVVVVVVVVVVVVVVVVVVVVVVVVVVVVVVVVVVVVVVVVVVVVVVVVVVVVVVVVVVVVVVVVVVVVVVVVVVVVVVVVVVVVVVVVVVV//NExKwAAANIAAAAAFVVVVVVVVVVVVVVVVVVVVVVVVVVVVVVVVVVVVVVVVVVVVVVVVVVVVVVVVVVVVVVVVVVVVVVVVVVVVVVVVVVVVVVVVVVVVVVVVVVVVVVVVVVVVVV\" type=\"audio/wav\" />\n",
       "                    Your browser does not support the audio element.\n",
       "                </audio>\n",
       "              "
      ],
      "text/plain": [
       "<IPython.lib.display.Audio object>"
      ]
     },
     "metadata": {},
     "output_type": "display_data"
    },
    {
     "name": "stdout",
     "output_type": "stream",
     "text": [
      "*62 [47, 49, 50, 56, 62] up *63 [49, 50, 56, 62, 63] up *62 [50, 56, 62, 63, 62] **60 [56, 62, 63, 62, 60] *59 [62, 63, 62, 60, 59] *57 [63, 62, 60, 59, 57] dw *56 [62, 60, 59, 57, 56] dw *48 [60, 59, 57, 56, 48] dw *47 [59, 57, 56, 48, 47] dw *46 [57, 56, 48, 47, 46] dw *45 [56, 48, 47, 46, 45] dw **47 [48, 47, 46, 45, 47] *48 [47, 46, 45, 47, 48] *50 [46, 45, 47, 48, 50] *55 [45, 47, 48, 50, 55] up 11\n"
     ]
    },
    {
     "data": {
      "text/html": [
       "\n",
       "                <audio  controls=\"controls\" autoplay=\"autoplay\">\n",
       "                    <source src=\"data:audio/wav;base64,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\" type=\"audio/wav\" />\n",
       "                    Your browser does not support the audio element.\n",
       "                </audio>\n",
       "              "
      ],
      "text/plain": [
       "<IPython.lib.display.Audio object>"
      ]
     },
     "metadata": {},
     "output_type": "display_data"
    }
   ],
   "source": [
    "shoulder_height = 0\n",
    "history = []\n",
    "fail_count = 0\n",
    "pushup_count = 0\n",
    "num_frames_requirement = 5\n",
    "pushup_down_done = False\n",
    "\n",
    "cap = cv2.VideoCapture(\"tests/pushup-video-1x.mp4\")\n",
    "\n",
    "while cap.isOpened():\n",
    "    # Read feed\n",
    "    ret, frame = cap.read()\n",
    "    #frame = cv2.flip(frame, 1)\n",
    "    \n",
    "    if ret != True:\n",
    "        break\n",
    "\n",
    "    cv2.putText(frame, \"push up count:\"+str(pushup_count), (3,30), cv2.FONT_HERSHEY_SIMPLEX, 1, (255, 255, 255), 2, cv2.LINE_AA)\n",
    "\n",
    "    keypoints = processPose(frame).flatten().reshape(1, 51)\n",
    "    \n",
    "    if is_pushup(keypoints):\n",
    "        print(\"*\", end =\"\")\n",
    "        fail_count = 0\n",
    "        keypoints = keypoints.reshape(17, 3)\n",
    "        \n",
    "        if keypoints[BodyPart.NOSE.value][1] > keypoints[BodyPart.RIGHT_KNEE.value][1]: #bagian kanan di depan kamera\n",
    "            shoulder_y = keypoints[BodyPart.RIGHT_SHOULDER.value][0] # the y coordinate is in the first element\n",
    "        else:\n",
    "            shoulder_y = keypoints[BodyPart.LEFT_SHOULDER.value][0]     \n",
    "\n",
    "        head_height = shoulder_y \n",
    "        \n",
    "        head_height = int(head_height*100)\n",
    "        \n",
    "        if (len(history) == 0) or (head_height != history[-1]):\n",
    "            history.append(head_height)\n",
    "            print(head_height, end=\" \")\n",
    "            \n",
    "            if len(history) >= num_frames_requirement:\n",
    "                print(history[-num_frames_requirement:], end=\" \")\n",
    "                if is_decreasing(history[-num_frames_requirement:]):\n",
    "                    pushup_down_done = True\n",
    "                    print(\"dw\", end=\" \")\n",
    "                elif is_increasing(history[-num_frames_requirement:]):\n",
    "                    print(\"up\", end=\" \")\n",
    "                    if pushup_down_done:\n",
    "                        pushup_count += 1\n",
    "                        print(pushup_count)\n",
    "                        pushup_down_done = False\n",
    "                        cv2.putText(frame, \"push up count:\"+str(pushup_count), (3,30), cv2.FONT_HERSHEY_SIMPLEX, 1, (255, 255, 255), 2, cv2.LINE_AA)\n",
    "                        threading.Thread(target=text_to_speech, args=[str(pushup_count)+\" pushup\"]).start()\n",
    "        \n",
    "#     else:\n",
    "#         print(\"-\", end =\"\")\n",
    "#         fail_count += 1\n",
    "#         if fail_count > 100:\n",
    "#             history = []\n",
    "#             pushup_down_done = False\n",
    "\n",
    "    cv2.imshow('Frame', frame)\n",
    "\n",
    "    if cv2.waitKey(10) & 0xFF == ord('q'):\n",
    "        break\n",
    "cap.release()\n",
    "cv2.destroyAllWindows()"
   ]
  },
  {
   "cell_type": "code",
   "execution_count": 18,
   "id": "06787417",
   "metadata": {},
   "outputs": [],
   "source": [
    "# shoulder_height = 0\n",
    "# history = []\n",
    "# fail_count = 0\n",
    "# pushup_count = 0\n",
    "# num_frames_requirement = 5\n",
    "# pushup_down_done = False\n",
    "\n",
    "\n",
    "# cap = cv2.VideoCapture(\"tests/pushup-video-1x.mp4\")\n",
    "\n",
    "# while cap.isOpened():\n",
    "#     # Read feed\n",
    "#     ret, frame = cap.read()\n",
    "#     #frame = cv2.flip(frame, 1)\n",
    "    \n",
    "#     if ret != True:\n",
    "#         break\n",
    "#     status = False\n",
    "# #     cv2.putText(frame, \"push up count:\"+str(pushup_count), (3,30), cv2.FONT_HERSHEY_SIMPLEX, 1, (255, 255, 255), 2, cv2.LINE_AA)\n",
    "\n",
    "#     keypoints = processPose(frame).flatten().reshape(1, 51)\n",
    "    \n",
    "#     if is_pushup(keypoints):\n",
    "# #         print(\"*\", end =\"\")\n",
    "# #         fail_count = 0\n",
    "#         status = True\n",
    "#         keypoints = keypoints.reshape(17, 3)\n",
    "# #         print(keypoints[BodyPart.NOSE.value][1], end=\" \")\n",
    "# #         print(keypoints[BodyPart.RIGHT_KNEE.value][1])\n",
    "        \n",
    "#         if keypoints[BodyPart.NOSE.value][1] < keypoints[BodyPart.RIGHT_KNEE.value][1]: #badan bagian kanan ke arah kamera\n",
    "#             knee_xy = keypoints[BodyPart.RIGHT_KNEE.value][:2]\n",
    "#             shoulder_xy = keypoints[BodyPart.RIGHT_SHOULDER.value][:2]\n",
    "#             wrist_xy = keypoints[BodyPart.RIGHT_WRIST.value][:2]\n",
    "#             elbow_xy = keypoints[BodyPart.RIGHT_ELBOW.value][:2]\n",
    "#         else:\n",
    "#             knee_xy = keypoints[BodyPart.LEFT_KNEE.value][:2]\n",
    "#             shoulder_xy = keypoints[BodyPart.LEFT_SHOULDER.value][:2]\n",
    "#             wrist_xy = keypoints[BodyPart.LEFT_WRIST.value][:2]   \n",
    "#             elbow_xy = keypoints[BodyPart.LEFT_ELBOW.value][:2]\n",
    "\n",
    "#         angle = calculate_angle(shoulder_xy, elbow_xy, wrist_xy)\n",
    "#         cv2.putText(frame, \"angle:\"+str(int(angle)), (3,30), cv2.FONT_HERSHEY_SIMPLEX, 1, (255, 255, 255), 2, cv2.LINE_AA)\n",
    "# #         print(angle)\n",
    "        \n",
    "# #         if (len(history) == 0) or (head_height != history[-1]):\n",
    "# #             history.append(head_height)\n",
    "# #             print(head_height, end=\" \")\n",
    "            \n",
    "# #             if len(history) >= num_frames_requirement:\n",
    "# #                 print(history[-num_frames_requirement:], end=\" \")\n",
    "# #                 if is_decreasing(history[-num_frames_requirement:]):\n",
    "# #                     pushup_down_done = True\n",
    "# #                     print(\"dw\", end=\" \")\n",
    "# #                 elif is_increasing(history[-num_frames_requirement:]):\n",
    "# #                     print(\"up\", end=\" \")\n",
    "# #                     if pushup_down_done:\n",
    "# #                         pushup_count += 1\n",
    "# #                         print(pushup_count)\n",
    "# #                         pushup_down_done = False\n",
    "# #                         cv2.putText(frame, \"push up count:\"+str(pushup_count), (3,30), cv2.FONT_HERSHEY_SIMPLEX, 1, (255, 255, 255), 2, cv2.LINE_AA)\n",
    "# #                         threading.Thread(target=text_to_speech, args=[str(pushup_count)+\" pushup\"]).start()\n",
    "        \n",
    "# #     else:\n",
    "# #         print(\"-\", end =\"\")\n",
    "# #         fail_count += 1\n",
    "# #         if fail_count > 100:\n",
    "# #             history = []\n",
    "# #             pushup_down_done = False\n",
    "\n",
    "#     output = draw_prediction_on_image(frame, movenet_process(frame))\n",
    "#     cv2.imshow('Frame', output)\n",
    "# #     if(status):\n",
    "# #         time.sleep(0.5)\n",
    "    \n",
    "#     if cv2.waitKey(10) & 0xFF == ord('q'):\n",
    "#         break\n",
    "# cap.release()\n",
    "# cv2.destroyAllWindows()"
   ]
  },
  {
   "cell_type": "code",
   "execution_count": null,
   "id": "88231703",
   "metadata": {},
   "outputs": [],
   "source": []
  },
  {
   "cell_type": "code",
   "execution_count": null,
   "id": "91fb2a6f",
   "metadata": {},
   "outputs": [],
   "source": []
  }
 ],
 "metadata": {
  "kernelspec": {
   "display_name": "Python 3 (ipykernel)",
   "language": "python",
   "name": "python3"
  },
  "language_info": {
   "codemirror_mode": {
    "name": "ipython",
    "version": 3
   },
   "file_extension": ".py",
   "mimetype": "text/x-python",
   "name": "python",
   "nbconvert_exporter": "python",
   "pygments_lexer": "ipython3",
   "version": "3.9.7"
  }
 },
 "nbformat": 4,
 "nbformat_minor": 5
}
